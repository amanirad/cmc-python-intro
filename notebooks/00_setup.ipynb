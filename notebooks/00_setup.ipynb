{
 "cells": [
  {
   "cell_type": "markdown",
   "id": "0bc03d86",
   "metadata": {},
   "source": [
    "# Notebook 00: Setup and Tools"
   ]
  },
  {
   "cell_type": "markdown",
   "id": "53fee305",
   "metadata": {},
   "source": [
    "**Objective:** Guide participants through setting up their Python environment and tools before diving into coding. We will install and configure VS Code, Git/GitHub, and GitHub Copilot, create a virtual environment for the project, manage dependencies, and verify that everything is working. By the end of this notebook, you should have a functional development environment and be ready to start coding in subsequent notebooks."
   ]
  },
  {
   "cell_type": "markdown",
   "id": "c052463b",
   "metadata": {},
   "source": [
    "## 00.1 Installing VS Code and Python"
   ]
  },
  {
   "cell_type": "markdown",
   "id": "9e63efc9",
   "metadata": {},
   "source": [
    "* **Install VS Code:** Download and install [Visual Studio Code (VS Code)](https://code.visualstudio.com/Download) for your operating system. VS Code is a lightweight but powerful code editor, and we'll use it to write and run our Python notebooks. During installation, also install the Python extension for VS Code, which provides rich support for editing and running Python and Jupyter notebooks."
   ]
  },
  {
   "cell_type": "markdown",
   "id": "3e50a10b",
   "metadata": {},
   "source": [
    "* **Install Python 3:** Ensure you have Python 3.x installed on your system. You can download Python from the official website or use a package manager. Verify the installation by running `python --version` (Linux/Mac) or `py --version` (Windows) in a terminal."
   ]
  },
  {
   "cell_type": "markdown",
   "id": "7b8e7470",
   "metadata": {},
   "source": [
    "**Tip:** On Windows, during Python installation, check \"Add Python to PATH\". On macOS, consider using Homebrew (`brew install python3`). On Linux, the system Python 3 works, but you may need to install pip."
   ]
  },
  {
   "cell_type": "markdown",
   "id": "51c203a9",
   "metadata": {},
   "source": [
    "## 00.2 Setting Up GitHub and GitHub Copilot in VS Code"
   ]
  },
  {
   "cell_type": "markdown",
   "id": "2478dd12",
   "metadata": {},
   "source": [
    "* **Git and GitHub:** We will use Git for version control and GitHub to host our project repository. Install Git if not already installed (from git-scm.com). In VS Code, you can use the built-in source control panel to manage Git. Clone the repository (or initialize a new one) for this workshop in your working directory. If starting from scratch, run in terminal:\n",
    "\n",
    "```bash \n",
    "git init\n",
    "git remote add origin <your-github-repo-url>\n",
    "```\n",
    "\n",
    "Create a GitHub account If you don't have already one, sign up here: <https://github.com/>. We recommend using your personal email to create an account.\n",
    "\n",
    "Create a GitHub repository named, for example, `cmc-python-intro`, and connect it to your local repo. Commit the initial structure (notebooks, data, etc.) and push to GitHub. VS Code’s Source Control view also allows staging, committing, and pushing changes through a GUI."
   ]
  },
  {
   "cell_type": "markdown",
   "id": "8fd47c69",
   "metadata": {},
   "source": [
    "* **GitHub Authentication:** VS Code can simplify authentication. Use VS Code Accounts: sign in to GitHub from VS Code (look for the Accounts icon or use the Command Palette to find \"GitHub: Sign in\"). This will let you push/pull without constantly entering credentials. For example, when you make changes locally:\n",
    "\n",
    "```bash\n",
    "git status              # see what changed\n",
    "git add -A              # stage all\n",
    "git commit -m \"Your message\"\n",
    "git push\n",
    "```"
   ]
  },
  {
   "cell_type": "markdown",
   "id": "f93c6d1d",
   "metadata": {},
   "source": [
    "* **GitHub Copilot:** Copilot is an AI coding assistant that can help by suggesting code. To set it up, make sure you have access. In VS Code, install the GitHub Copilot extension. After installation, click the Copilot icon in the VS Code status bar and follow the prompts to sign in with GitHub and enable Copilot. Once signed in and authorized, Copilot will start suggesting code as you write (you'll see ghost text suggestions that you can accept with <kbd>Tab</kbd>)."
   ]
  },
  {
   "cell_type": "markdown",
   "id": "6c91474f",
   "metadata": {},
   "source": [
    "> *Note:* Copilot can speed up coding, but always review its suggestions for correctness.\n",
    "> It’s a helpful assistant, but *you* are in charge of the logic.\n"
   ]
  },
  {
   "cell_type": "markdown",
   "id": "98a2441d",
   "metadata": {},
   "source": [
    "## 00.3 Creating a Python Virtual Environment"
   ]
  },
  {
   "cell_type": "markdown",
   "id": "ca0c360e",
   "metadata": {},
   "source": [
    "It's best practice to use a project-specific virtual environment for Python development. This keeps your project's dependencies isolated, avoiding conflicts between packages across projects. In VS Code's integrated terminal (or any terminal in the project folder), run:\n",
    "\n",
    "```bash\n",
    "python3 -m venv .venv\n",
    "```"
   ]
  },
  {
   "cell_type": "markdown",
   "id": "da517b23",
   "metadata": {},
   "source": [
    "This creates a folder `.venv` containing a new Python environment. Activate the environment:"
   ]
  },
  {
   "cell_type": "markdown",
   "id": "521cc87b",
   "metadata": {},
   "source": [
    "- On Windows (PowerShell): `.\\.venv\\Scripts\\Activate.ps1`\n",
    "\n",
    "- On Windows (CMD): `.\\.venv\\Scripts\\activate.bat`\n",
    "\n",
    "- On Mac/Linux (bash): `source .venv/bin/activate`"
   ]
  },
  {
   "cell_type": "markdown",
   "id": "0bf45896",
   "metadata": {},
   "source": [
    "After activation, your terminal prompt should prefix with `(.venv)` indicating you're using the virtual env."
   ]
  },
  {
   "cell_type": "markdown",
   "id": "8f26057b",
   "metadata": {},
   "source": [
    "In VS Code, select this interpreter: Open the Command Palette (<kbd>Ctrl+Shift+P</kbd> or <kbd>Cmd+Shift+P</kbd>) and run `Python: Select Interpreter`. Choose the one that shows `.venv` in its path (VS Code should auto-detect it). This ensures notebooks run using the packages from `.venv`."
   ]
  },
  {
   "cell_type": "markdown",
   "id": "f583ae56",
   "metadata": {},
   "source": [
    "## 00.4 Installing Required Packages"
   ]
  },
  {
   "cell_type": "markdown",
   "id": "d9e42bd4",
   "metadata": {},
   "source": [
    "We have provided a `requirements.txt` listing the Python packages used in this workshop (e.g., `numpy`, `pandas`, `matplotlib`, `seaborn`, etc.). Install them by running:"
   ]
  },
  {
   "cell_type": "markdown",
   "id": "41553818",
   "metadata": {},
   "source": [
    "```bash\n",
    "pip install -r requirements.txt\n",
    "```"
   ]
  },
  {
   "cell_type": "markdown",
   "id": "0441cf6b",
   "metadata": {},
   "source": [
    "This will download and install all necessary libraries into your virtual environment. If you add new libraries during the workshop, update `requirements.txt` (you can freeze dependencies with `pip freeze > requirements.txt` after installations)."
   ]
  },
  {
   "cell_type": "markdown",
   "id": "d77783d6",
   "metadata": {},
   "source": [
    "Key packages include:\n",
    "\n",
    " - **NumPy** for numerical computing (arrays, math operations).\n",
    "\n",
    " - **Pandas** for data manipulation (tables/data frames).\n",
    "\n",
    " - **Matplotlib** and **Seaborn** for plotting.\n",
    "\n",
    " - (**Apollo** is an R library, so for this Python workshop we directly use the Apollo CSV datasets rather than an Apollo Python library.)"
   ]
  },
  {
   "cell_type": "markdown",
   "id": "cc0fd800",
   "metadata": {},
   "source": [
    "## 00.5 VS Code Settings and Tips"
   ]
  },
  {
   "cell_type": "markdown",
   "id": "d1526836",
   "metadata": {},
   "source": [
    "* **Jupyter Notebooks in VS Code:** VS Code allows running notebooks interactively. Open any `.ipynb` file; you can execute cells and see outputs inline. We recommend enabling Auto Save (File > Auto Save) to frequently save your progress."
   ]
  },
  {
   "cell_type": "markdown",
   "id": "5f1bf417",
   "metadata": {},
   "source": [
    "* **Notebook Settings:** In the top-right of the notebook editor, you can choose the kernel (make sure it's the Python from `.venv`). You can also toggle between Jupyter interactive mode and plain text mode. Use what you prefer, but ensure code cells are executed in order."
   ]
  },
  {
   "cell_type": "markdown",
   "id": "b8b32bf6",
   "metadata": {},
   "source": [
    "* **.gitignore:** We include a `.gitignore` to avoid committing unnecessary or sensitive files. It should ignore the `.venv/` folder, any `__pycache__/` directories, and perhaps large data files. Our `data/raw/` with Apollo CSVs can be versioned (the files are not too large). "
   ]
  },
  {
   "cell_type": "markdown",
   "id": "7a3e95d1",
   "metadata": {},
   "source": [
    "## 00.6 Verify the Setup"
   ]
  },
  {
   "cell_type": "markdown",
   "id": "416586b8",
   "metadata": {},
   "source": [
    "Finally, let's run a quick test to confirm everything is configured correctly. The code cell below will import some libraries and print a success message. Execute it (select the cell and press <kbd>Shift+Enter</kbd> in VS Code):"
   ]
  },
  {
   "cell_type": "code",
   "execution_count": 4,
   "id": "cfa72a8d",
   "metadata": {},
   "outputs": [
    {
     "name": "stdout",
     "output_type": "stream",
     "text": [
      "Python version: 3.8.0 (v3.8.0:fa919fdf25, Oct 14 2019, 10:23:27) \n",
      "[Clang 6.0 (clang-600.0.57)]\n",
      "NumPy version: 1.24.4\n",
      "Pandas version: 2.0.3\n",
      "Setup looks good! ✅\n"
     ]
    }
   ],
   "source": [
    "# Test environment setup\n",
    "import sys\n",
    "import numpy as np\n",
    "import pandas as pd\n",
    "import matplotlib.pyplot as plt\n",
    "\n",
    "print(\"Python version:\", sys.version)\n",
    "print(\"NumPy version:\", np.__version__)\n",
    "print(\"Pandas version:\", pd.__version__)\n",
    "print(\"Setup looks good! ✅\")"
   ]
  },
  {
   "cell_type": "markdown",
   "id": "28395ef3",
   "metadata": {},
   "source": [
    "If the imports work without errors and you see version numbers and the success message, you are ready to proceed. Congratulations on setting up your environment!"
   ]
  },
  {
   "cell_type": "markdown",
   "id": "79549a48",
   "metadata": {},
   "source": [
    "OK, now, let's move on to learning Python fundamentals in the next notebook."
   ]
  }
 ],
 "metadata": {
  "kernelspec": {
   "display_name": ".venv",
   "language": "python",
   "name": "python3"
  },
  "language_info": {
   "codemirror_mode": {
    "name": "ipython",
    "version": 3
   },
   "file_extension": ".py",
   "mimetype": "text/x-python",
   "name": "python",
   "nbconvert_exporter": "python",
   "pygments_lexer": "ipython3",
   "version": "3.8.0"
  }
 },
 "nbformat": 4,
 "nbformat_minor": 5
}
