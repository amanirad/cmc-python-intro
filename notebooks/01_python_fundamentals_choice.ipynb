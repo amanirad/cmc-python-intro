{
 "cells": [
  {
   "cell_type": "markdown",
   "id": "5184f390",
   "metadata": {},
   "source": [
    "# Notebook 01: Python Fundamentals via Choice Modeling"
   ]
  },
  {
   "cell_type": "markdown",
   "id": "b72d1787",
   "metadata": {},
   "source": [
    "**Objective:** Introduce core Python programming fundamentals (variables, data types, data structures, functions, and control flow) and illustrate them with simple examples. We then apply these basics to a toy choice modeling scenario: a softmax-based utility model for choosing among travel modes. By the end of this notebook, participants will be comfortable with basic Python syntax and see how these concepts translate to discrete choice contexts."
   ]
  },
  {
   "cell_type": "markdown",
   "id": "21de9550",
   "metadata": {},
   "source": [
    "## 01.1 Variables and Data Types"
   ]
  },
  {
   "cell_type": "markdown",
   "id": "2776e267",
   "metadata": {},
   "source": [
    "In Python, you can store data in variables. A variable is essentially a name that refers to a value. You create a variable with the assignment operator `=`. Python is dynamically typed, meaning you don't declare types explicitly; the type is inferred from the value assigned."
   ]
  },
  {
   "cell_type": "markdown",
   "id": "419a0862",
   "metadata": {},
   "source": [
    "Examples of basic data types:"
   ]
  },
  {
   "cell_type": "code",
   "execution_count": 1,
   "id": "8821d1e2",
   "metadata": {},
   "outputs": [],
   "source": [
    "# Assigning variables of different types\n",
    "traveler_name = \"Alice\"        # str (string)\n",
    "age = 30                      # int (integer)\n",
    "ticket_price = 15.50          # float (floating-point number)\n",
    "is_student = True             # bool (Boolean)\n"
   ]
  },
  {
   "cell_type": "markdown",
   "id": "700001b4",
   "metadata": {},
   "source": [
    "Here, `traveler_name` is a string (text) containing `\"Alice\"`, `age` is an integer, `ticket_price` is a floating-point number, and `is_student` is a Boolean value (True/False). We can check their types using the built-in `type()` function:"
   ]
  },
  {
   "cell_type": "code",
   "execution_count": 3,
   "id": "756f1dd2",
   "metadata": {},
   "outputs": [
    {
     "name": "stdout",
     "output_type": "stream",
     "text": [
      "<class 'str'> <class 'int'> <class 'float'> <class 'bool'>\n"
     ]
    }
   ],
   "source": [
    "print(type(traveler_name), type(age), type(ticket_price), type(is_student))"
   ]
  },
  {
   "cell_type": "markdown",
   "id": "d42e0eda",
   "metadata": {},
   "source": [
    "Variables allow us to label data and reuse it. We will use variables to store things like travel times, costs, choices, etc., in choice modelling examples."
   ]
  },
  {
   "cell_type": "markdown",
   "id": "9174c7c6",
   "metadata": {},
   "source": [
    "> **Note:** Python variable names should start with a letter and can contain letters, numbers, and underscores. They are case-sensitive (`Mode` and `mode` would be different variables)."
   ]
  },
  {
   "cell_type": "markdown",
   "id": "d3c868ed",
   "metadata": {},
   "source": [
    "## 01.2 Data Structures: Lists and Dictionaries"
   ]
  },
  {
   "cell_type": "markdown",
   "id": "d939a1bb",
   "metadata": {},
   "source": [
    "**Lists:** A list in Python is an ordered, mutable sequence of items. Lists are created with square brackets `[]`. They can contain elements of any type (even mixed types, though usually we keep them homogeneous). Use lists to store collections of related items, like a list of mode names or a list of travel times."
   ]
  },
  {
   "cell_type": "code",
   "execution_count": 6,
   "id": "78293947",
   "metadata": {},
   "outputs": [
    {
     "name": "stdout",
     "output_type": "stream",
     "text": [
      "Modes: ['Car', 'Bus', 'Train']\n",
      "First mode: Car\n",
      "Updated modes: ['Car', 'Bus', 'Train', 'Air']\n"
     ]
    }
   ],
   "source": [
    "# List of available travel modes\n",
    "modes = [\"Car\", \"Bus\", \"Train\"]\n",
    "print(\"Modes:\", modes)\n",
    "print(\"First mode:\", modes[0])   # Indexing (0-based: 0 is first item)\n",
    "modes.append(\"Air\")              # Add an element to the list\n",
    "print(\"Updated modes:\", modes) "
   ]
  },
  {
   "cell_type": "markdown",
   "id": "343198e5",
   "metadata": {},
   "source": [
    "Lists preserve the order of insertion and allow duplicates. You can modify elements (`modes[1] = \"Coach\"` would change \"Bus\" to \"Coach\"), iterate over them, and use built-in functions like `len(modes)` (number of items)."
   ]
  },
  {
   "cell_type": "code",
   "execution_count": 9,
   "id": "cfd756dd",
   "metadata": {},
   "outputs": [
    {
     "name": "stdout",
     "output_type": "stream",
     "text": [
      "Updated modes: ['Car', 'Coach', 'Train', 'Air']\n",
      "Number of modes: 4\n"
     ]
    }
   ],
   "source": [
    "modes[1] = \"Coach\"\n",
    "print(\"Updated modes:\", modes) \n",
    "print(\"Number of modes:\", len(modes))  # Length of the list"
   ]
  },
  {
   "cell_type": "markdown",
   "id": "d9f7f53e",
   "metadata": {},
   "source": [
    "**Dictionaries:** A dictionary is an unordered collection of key-value pairs enclosed in curly braces `{}`. Each entry maps a key to a value, like a real dictionary maps words to definitions. Use dictionaries to structure data by named attributes."
   ]
  },
  {
   "cell_type": "markdown",
   "id": "4d51e91e",
   "metadata": {},
   "source": [
    "Example:"
   ]
  },
  {
   "cell_type": "code",
   "execution_count": 11,
   "id": "37d09f49",
   "metadata": {},
   "outputs": [
    {
     "name": "stdout",
     "output_type": "stream",
     "text": [
      "Travel time by Car: 30 minutes\n",
      "Modes and times: {'Car': 30, 'Bus': 45, 'Train': 40, 'Air': 60}\n"
     ]
    }
   ],
   "source": [
    "# Dictionary of travel times for each mode (in minutes)\n",
    "travel_time = {\"Car\": 30, \"Bus\": 45, \"Train\": 40}\n",
    "print(\"Travel time by Car:\", travel_time[\"Car\"], \"minutes\")\n",
    "# Add a new key-value pair for Air\n",
    "travel_time[\"Air\"] = 60\n",
    "print(\"Modes and times:\", travel_time)"
   ]
  },
  {
   "cell_type": "markdown",
   "id": "5d082643",
   "metadata": {},
   "source": [
    "Here, `\"Car\"`, `\"Bus\"`, etc. are keys (must be unique and immutable, typically strings or numbers), and the numbers are values. We accessed the Car time with `travel_time[\"Car\"]`. We then added `\"Air\": 60`. Dictionaries are great for structured data – e.g., storing attributes of an alternative (mode) by name."
   ]
  },
  {
   "cell_type": "code",
   "execution_count": 12,
   "id": "546acf08",
   "metadata": {},
   "outputs": [
    {
     "name": "stdout",
     "output_type": "stream",
     "text": [
      "All modes: ['Car', 'Bus', 'Train', 'Air']\n",
      "All travel times: [30, 45, 40, 60]\n",
      "Train attributes: {'cost': 8.0, 'comfort': 6}\n",
      "Air cost: 50.0\n",
      "Bus comfort: 5\n"
     ]
    }
   ],
   "source": [
    "print(\"All modes:\", list(travel_time.keys()))        # List all modes\n",
    "print(\"All travel times:\", list(travel_time.values()))  # List all travel times\n",
    "\n",
    "# storing attributes of an alternative (mode) by name\n",
    "mode_attributes = {\n",
    "    \"Car\": {\"cost\": 10.0, \"comfort\": 7},\n",
    "    \"Bus\": {\"cost\": 5.0, \"comfort\": 5},\n",
    "    \"Train\": {\"cost\": 8.0, \"comfort\": 6},\n",
    "    \"Air\": {\"cost\": 50.0, \"comfort\": 9}\n",
    "}\n",
    "print(\"Train attributes:\", mode_attributes[\"Train\"])\n",
    "print(\"Air cost:\", mode_attributes[\"Air\"][\"cost\"])\n",
    "print(\"Bus comfort:\", mode_attributes[\"Bus\"][\"comfort\"])"
   ]
  },
  {
   "cell_type": "code",
   "execution_count": 14,
   "id": "d3bdcf24",
   "metadata": {},
   "outputs": [
    {
     "name": "stdout",
     "output_type": "stream",
     "text": [
      "Utility for Car: 1.00\n",
      "Utility for Bus: -0.25\n",
      "Utility for Train: 0.20\n",
      "Utility for Air: -3.50\n"
     ]
    }
   ],
   "source": [
    "# mode_attributes could be used in a choice model to evaluate alternatives\n",
    "# based on cost, comfort, and travel time stored in the dictionaries.\n",
    "# For example, calculating a simple utility score for each mode\n",
    "for mode, attrs in mode_attributes.items():\n",
    "    time = travel_time.get(mode, 999)  # Default to 999 if mode not found\n",
    "    utility = -0.1 * attrs[\"cost\"] + 0.5 * attrs[\"comfort\"] - 0.05 * time\n",
    "    print(f\"Utility for {mode}: {utility:.2f}\")"
   ]
  },
  {
   "cell_type": "markdown",
   "id": "26770224",
   "metadata": {},
   "source": [
    "We will often use dictionaries to hold parameters or results in modeling (for example, a dictionary of utility coefficients by variable name, or a record of outputs)."
   ]
  },
  {
   "cell_type": "markdown",
   "id": "39ff0158",
   "metadata": {},
   "source": [
    "**List of dictionaries:** Sometimes you'll have a list of records, where each record is a dictionary. This could represent dataset-like structures (each dict is an observation). For instance, a list of individuals each with their attributes, or a list of alternatives each with its characteristics. Python's flexibility with these structures is useful for simple simulations."
   ]
  },
  {
   "cell_type": "code",
   "execution_count": 18,
   "id": "4d877704",
   "metadata": {},
   "outputs": [
    {
     "name": "stdout",
     "output_type": "stream",
     "text": [
      "Individuals: [{'name': 'Alice', 'age': 30, 'income': 70000}, {'name': 'Bob', 'age': 25, 'income': 50000}, {'name': 'Charlie', 'age': 35, 'income': 100000}]\n",
      "Transport modes: [{'mode': 'car', 'cost': 0.5, 'comfort': 0.8, 'time': 30}, {'mode': 'bus', 'cost': 0.2, 'comfort': 0.6, 'time': 45}, {'mode': 'bike', 'cost': 0.1, 'comfort': 0.7, 'time': 60}]\n",
      "Alice is 30 years old with an income of $70000.\n",
      "Bob is 25 years old with an income of $50000.\n",
      "Charlie is 35 years old with an income of $100000.\n",
      "Transport mode: car, Cost: 0.5, Comfort: 0.8, Time: 30 minutes\n",
      "Transport mode: bus, Cost: 0.2, Comfort: 0.6, Time: 45 minutes\n",
      "Transport mode: bike, Cost: 0.1, Comfort: 0.7, Time: 60 minutes\n"
     ]
    }
   ],
   "source": [
    "# Example: List of individuals with attributes\n",
    "individuals = [\n",
    "    {\"name\": \"Alice\", \"age\": 30, \"income\": 70000},\n",
    "    {\"name\": \"Bob\", \"age\": 25, \"income\": 50000},\n",
    "    {\"name\": \"Charlie\", \"age\": 35, \"income\": 100000}\n",
    "]\n",
    "\n",
    "# Example: List of alternatives with characteristics\n",
    "transport_modes = [\n",
    "    {\"mode\": \"car\", \"cost\": 0.5, \"comfort\": 0.8, \"time\": 30},\n",
    "    {\"mode\": \"bus\", \"cost\": 0.2, \"comfort\": 0.6, \"time\": 45},\n",
    "    {\"mode\": \"bike\", \"cost\": 0.1, \"comfort\": 0.7, \"time\": 60}\n",
    "]\n",
    "print(\"Individuals:\", individuals)\n",
    "print(\"Transport modes:\", transport_modes)\n",
    "\n",
    "# Accessing data from the list of dictionaries\n",
    "for person in individuals:\n",
    "    print(f\"{person['name']} is {person['age']} years old with an income of ${person['income']}.\")\n",
    "\n",
    "for mode in transport_modes:\n",
    "    print(f\"Transport mode: {mode['mode']}, Cost: {mode['cost']}, Comfort: {mode['comfort']}, Time: {mode['time']} minutes\")\n"
   ]
  },
  {
   "cell_type": "code",
   "execution_count": null,
   "id": "add7c49d",
   "metadata": {},
   "outputs": [],
   "source": []
  }
 ],
 "metadata": {
  "kernelspec": {
   "display_name": ".venv",
   "language": "python",
   "name": "python3"
  },
  "language_info": {
   "codemirror_mode": {
    "name": "ipython",
    "version": 3
   },
   "file_extension": ".py",
   "mimetype": "text/x-python",
   "name": "python",
   "nbconvert_exporter": "python",
   "pygments_lexer": "ipython3",
   "version": "3.8.0"
  }
 },
 "nbformat": 4,
 "nbformat_minor": 5
}
