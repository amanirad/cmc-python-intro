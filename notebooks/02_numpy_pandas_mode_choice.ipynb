{
 "cells": [
  {
   "cell_type": "markdown",
   "id": "c41a95c5",
   "metadata": {},
   "source": [
    "# Notebook 02: NumPy & Pandas with Apollo Mode Choice Data"
   ]
  },
  {
   "cell_type": "markdown",
   "id": "ffc2f1eb",
   "metadata": {},
   "source": [
    "**Objective:** Learn how to use NumPy and Pandas for data analysis, using the Apollo mode choice dataset as a case study. We will practice reading data, inspecting its structure, cleaning or preprocessing as needed, performing calculations like z-scoring (standardization) and aggregate share computations, and interpreting these in behavioral terms. The goal is to become comfortable with data manipulation in Python and to connect summary statistics to choice behavior insights."
   ]
  },
  {
   "cell_type": "markdown",
   "id": "9ed8c2be",
   "metadata": {},
   "source": [
    "## 02.1 Introduction to the Apollo Mode Choice Dataset"
   ]
  },
  {
   "cell_type": "markdown",
   "id": "03e414d2",
   "metadata": {},
   "source": [
    "The dataset `apollo_modeChoiceData.csv` is a mode choice dataset included with the Apollo software. It contains 8,000 observations of travel mode choices among 4 alternatives: car, bus, air, and rail. These observations come from 500 individuals, each facing multiple choice situations (2 revealed preference trips and 14 stated preference scenarios per individual, making 16 observations each). For each observation, the dataset records:\n",
    "\n",
    "- **Alternative attributes:** travel time and cost for each mode, plus mode-specific features like access time or service quality (for air and rail).\n",
    "- **Availability indicators:** whether each mode was available (e.g., not all modes may be available for every trip).\n",
    "- **Individual characteristics:** e.g., income, gender (female dummy), trip purpose (business dummy).\n",
    "- **Choice outcome:** which mode was chosen (encoded as 1=car, 2=bus, 3=air, 4=rail)."
   ]
  },
  {
   "cell_type": "markdown",
   "id": "3911dd9c",
   "metadata": {},
   "source": [
    "Let's load the data using Pandas and take a look:"
   ]
  },
  {
   "cell_type": "code",
   "execution_count": 1,
   "id": "200c65e9",
   "metadata": {},
   "outputs": [
    {
     "name": "stdout",
     "output_type": "stream",
     "text": [
      "Data loaded. Number of rows: 8000\n"
     ]
    },
    {
     "data": {
      "text/html": [
       "<div>\n",
       "<style scoped>\n",
       "    .dataframe tbody tr th:only-of-type {\n",
       "        vertical-align: middle;\n",
       "    }\n",
       "\n",
       "    .dataframe tbody tr th {\n",
       "        vertical-align: top;\n",
       "    }\n",
       "\n",
       "    .dataframe thead th {\n",
       "        text-align: right;\n",
       "    }\n",
       "</style>\n",
       "<table border=\"1\" class=\"dataframe\">\n",
       "  <thead>\n",
       "    <tr style=\"text-align: right;\">\n",
       "      <th></th>\n",
       "      <th>ID</th>\n",
       "      <th>RP</th>\n",
       "      <th>SP</th>\n",
       "      <th>RP_journey</th>\n",
       "      <th>SP_task</th>\n",
       "      <th>av_car</th>\n",
       "      <th>av_bus</th>\n",
       "      <th>av_air</th>\n",
       "      <th>av_rail</th>\n",
       "      <th>time_car</th>\n",
       "      <th>...</th>\n",
       "      <th>access_air</th>\n",
       "      <th>service_air</th>\n",
       "      <th>time_rail</th>\n",
       "      <th>cost_rail</th>\n",
       "      <th>access_rail</th>\n",
       "      <th>service_rail</th>\n",
       "      <th>female</th>\n",
       "      <th>business</th>\n",
       "      <th>income</th>\n",
       "      <th>choice</th>\n",
       "    </tr>\n",
       "  </thead>\n",
       "  <tbody>\n",
       "    <tr>\n",
       "      <th>0</th>\n",
       "      <td>1</td>\n",
       "      <td>1</td>\n",
       "      <td>0</td>\n",
       "      <td>1.0</td>\n",
       "      <td>NaN</td>\n",
       "      <td>0</td>\n",
       "      <td>0</td>\n",
       "      <td>1</td>\n",
       "      <td>1</td>\n",
       "      <td>0</td>\n",
       "      <td>...</td>\n",
       "      <td>55</td>\n",
       "      <td>0</td>\n",
       "      <td>140</td>\n",
       "      <td>55</td>\n",
       "      <td>5</td>\n",
       "      <td>0</td>\n",
       "      <td>0</td>\n",
       "      <td>0</td>\n",
       "      <td>46705</td>\n",
       "      <td>4</td>\n",
       "    </tr>\n",
       "    <tr>\n",
       "      <th>1</th>\n",
       "      <td>1</td>\n",
       "      <td>1</td>\n",
       "      <td>0</td>\n",
       "      <td>2.0</td>\n",
       "      <td>NaN</td>\n",
       "      <td>0</td>\n",
       "      <td>0</td>\n",
       "      <td>1</td>\n",
       "      <td>1</td>\n",
       "      <td>0</td>\n",
       "      <td>...</td>\n",
       "      <td>45</td>\n",
       "      <td>0</td>\n",
       "      <td>170</td>\n",
       "      <td>45</td>\n",
       "      <td>20</td>\n",
       "      <td>0</td>\n",
       "      <td>0</td>\n",
       "      <td>0</td>\n",
       "      <td>46705</td>\n",
       "      <td>4</td>\n",
       "    </tr>\n",
       "    <tr>\n",
       "      <th>2</th>\n",
       "      <td>1</td>\n",
       "      <td>0</td>\n",
       "      <td>1</td>\n",
       "      <td>NaN</td>\n",
       "      <td>1.0</td>\n",
       "      <td>0</td>\n",
       "      <td>0</td>\n",
       "      <td>1</td>\n",
       "      <td>1</td>\n",
       "      <td>0</td>\n",
       "      <td>...</td>\n",
       "      <td>55</td>\n",
       "      <td>3</td>\n",
       "      <td>170</td>\n",
       "      <td>35</td>\n",
       "      <td>5</td>\n",
       "      <td>2</td>\n",
       "      <td>0</td>\n",
       "      <td>0</td>\n",
       "      <td>46705</td>\n",
       "      <td>4</td>\n",
       "    </tr>\n",
       "    <tr>\n",
       "      <th>3</th>\n",
       "      <td>1</td>\n",
       "      <td>0</td>\n",
       "      <td>1</td>\n",
       "      <td>NaN</td>\n",
       "      <td>2.0</td>\n",
       "      <td>0</td>\n",
       "      <td>0</td>\n",
       "      <td>1</td>\n",
       "      <td>1</td>\n",
       "      <td>0</td>\n",
       "      <td>...</td>\n",
       "      <td>45</td>\n",
       "      <td>1</td>\n",
       "      <td>120</td>\n",
       "      <td>75</td>\n",
       "      <td>5</td>\n",
       "      <td>3</td>\n",
       "      <td>0</td>\n",
       "      <td>0</td>\n",
       "      <td>46705</td>\n",
       "      <td>4</td>\n",
       "    </tr>\n",
       "    <tr>\n",
       "      <th>4</th>\n",
       "      <td>1</td>\n",
       "      <td>0</td>\n",
       "      <td>1</td>\n",
       "      <td>NaN</td>\n",
       "      <td>3.0</td>\n",
       "      <td>0</td>\n",
       "      <td>0</td>\n",
       "      <td>1</td>\n",
       "      <td>1</td>\n",
       "      <td>0</td>\n",
       "      <td>...</td>\n",
       "      <td>40</td>\n",
       "      <td>1</td>\n",
       "      <td>155</td>\n",
       "      <td>75</td>\n",
       "      <td>25</td>\n",
       "      <td>2</td>\n",
       "      <td>0</td>\n",
       "      <td>0</td>\n",
       "      <td>46705</td>\n",
       "      <td>4</td>\n",
       "    </tr>\n",
       "  </tbody>\n",
       "</table>\n",
       "<p>5 rows × 26 columns</p>\n",
       "</div>"
      ],
      "text/plain": [
       "   ID  RP  SP  RP_journey  SP_task  av_car  av_bus  av_air  av_rail  time_car  \\\n",
       "0   1   1   0         1.0      NaN       0       0       1        1         0   \n",
       "1   1   1   0         2.0      NaN       0       0       1        1         0   \n",
       "2   1   0   1         NaN      1.0       0       0       1        1         0   \n",
       "3   1   0   1         NaN      2.0       0       0       1        1         0   \n",
       "4   1   0   1         NaN      3.0       0       0       1        1         0   \n",
       "\n",
       "   ...  access_air  service_air  time_rail  cost_rail  access_rail  \\\n",
       "0  ...          55            0        140         55            5   \n",
       "1  ...          45            0        170         45           20   \n",
       "2  ...          55            3        170         35            5   \n",
       "3  ...          45            1        120         75            5   \n",
       "4  ...          40            1        155         75           25   \n",
       "\n",
       "   service_rail  female  business  income  choice  \n",
       "0             0       0         0   46705       4  \n",
       "1             0       0         0   46705       4  \n",
       "2             2       0         0   46705       4  \n",
       "3             3       0         0   46705       4  \n",
       "4             2       0         0   46705       4  \n",
       "\n",
       "[5 rows x 26 columns]"
      ]
     },
     "execution_count": 1,
     "metadata": {},
     "output_type": "execute_result"
    }
   ],
   "source": [
    "import pandas as pd\n",
    "\n",
    "# Load the mode choice dataset\n",
    "df = pd.read_csv(\"../data/raw/apollo_modeChoiceData.csv\")\n",
    "print(\"Data loaded. Number of rows:\", len(df))\n",
    "df.head(5)  # display the first 5 rows\n"
   ]
  },
  {
   "cell_type": "code",
   "execution_count": 2,
   "id": "03e1265b",
   "metadata": {},
   "outputs": [
    {
     "data": {
      "text/html": [
       "<div>\n",
       "<style scoped>\n",
       "    .dataframe tbody tr th:only-of-type {\n",
       "        vertical-align: middle;\n",
       "    }\n",
       "\n",
       "    .dataframe tbody tr th {\n",
       "        vertical-align: top;\n",
       "    }\n",
       "\n",
       "    .dataframe thead th {\n",
       "        text-align: right;\n",
       "    }\n",
       "</style>\n",
       "<table border=\"1\" class=\"dataframe\">\n",
       "  <thead>\n",
       "    <tr style=\"text-align: right;\">\n",
       "      <th></th>\n",
       "      <th>ID</th>\n",
       "      <th>RP</th>\n",
       "      <th>SP</th>\n",
       "      <th>RP_journey</th>\n",
       "      <th>SP_task</th>\n",
       "      <th>av_car</th>\n",
       "      <th>av_bus</th>\n",
       "      <th>av_air</th>\n",
       "      <th>av_rail</th>\n",
       "      <th>time_car</th>\n",
       "      <th>...</th>\n",
       "      <th>access_air</th>\n",
       "      <th>service_air</th>\n",
       "      <th>time_rail</th>\n",
       "      <th>cost_rail</th>\n",
       "      <th>access_rail</th>\n",
       "      <th>service_rail</th>\n",
       "      <th>female</th>\n",
       "      <th>business</th>\n",
       "      <th>income</th>\n",
       "      <th>choice</th>\n",
       "    </tr>\n",
       "  </thead>\n",
       "  <tbody>\n",
       "    <tr>\n",
       "      <th>0</th>\n",
       "      <td>1</td>\n",
       "      <td>1</td>\n",
       "      <td>0</td>\n",
       "      <td>1.0</td>\n",
       "      <td>NaN</td>\n",
       "      <td>0</td>\n",
       "      <td>0</td>\n",
       "      <td>1</td>\n",
       "      <td>1</td>\n",
       "      <td>0</td>\n",
       "      <td>...</td>\n",
       "      <td>55</td>\n",
       "      <td>0</td>\n",
       "      <td>140</td>\n",
       "      <td>55</td>\n",
       "      <td>5</td>\n",
       "      <td>0</td>\n",
       "      <td>0</td>\n",
       "      <td>0</td>\n",
       "      <td>46705</td>\n",
       "      <td>4</td>\n",
       "    </tr>\n",
       "    <tr>\n",
       "      <th>1</th>\n",
       "      <td>1</td>\n",
       "      <td>1</td>\n",
       "      <td>0</td>\n",
       "      <td>2.0</td>\n",
       "      <td>NaN</td>\n",
       "      <td>0</td>\n",
       "      <td>0</td>\n",
       "      <td>1</td>\n",
       "      <td>1</td>\n",
       "      <td>0</td>\n",
       "      <td>...</td>\n",
       "      <td>45</td>\n",
       "      <td>0</td>\n",
       "      <td>170</td>\n",
       "      <td>45</td>\n",
       "      <td>20</td>\n",
       "      <td>0</td>\n",
       "      <td>0</td>\n",
       "      <td>0</td>\n",
       "      <td>46705</td>\n",
       "      <td>4</td>\n",
       "    </tr>\n",
       "    <tr>\n",
       "      <th>2</th>\n",
       "      <td>1</td>\n",
       "      <td>0</td>\n",
       "      <td>1</td>\n",
       "      <td>NaN</td>\n",
       "      <td>1.0</td>\n",
       "      <td>0</td>\n",
       "      <td>0</td>\n",
       "      <td>1</td>\n",
       "      <td>1</td>\n",
       "      <td>0</td>\n",
       "      <td>...</td>\n",
       "      <td>55</td>\n",
       "      <td>3</td>\n",
       "      <td>170</td>\n",
       "      <td>35</td>\n",
       "      <td>5</td>\n",
       "      <td>2</td>\n",
       "      <td>0</td>\n",
       "      <td>0</td>\n",
       "      <td>46705</td>\n",
       "      <td>4</td>\n",
       "    </tr>\n",
       "    <tr>\n",
       "      <th>3</th>\n",
       "      <td>1</td>\n",
       "      <td>0</td>\n",
       "      <td>1</td>\n",
       "      <td>NaN</td>\n",
       "      <td>2.0</td>\n",
       "      <td>0</td>\n",
       "      <td>0</td>\n",
       "      <td>1</td>\n",
       "      <td>1</td>\n",
       "      <td>0</td>\n",
       "      <td>...</td>\n",
       "      <td>45</td>\n",
       "      <td>1</td>\n",
       "      <td>120</td>\n",
       "      <td>75</td>\n",
       "      <td>5</td>\n",
       "      <td>3</td>\n",
       "      <td>0</td>\n",
       "      <td>0</td>\n",
       "      <td>46705</td>\n",
       "      <td>4</td>\n",
       "    </tr>\n",
       "    <tr>\n",
       "      <th>4</th>\n",
       "      <td>1</td>\n",
       "      <td>0</td>\n",
       "      <td>1</td>\n",
       "      <td>NaN</td>\n",
       "      <td>3.0</td>\n",
       "      <td>0</td>\n",
       "      <td>0</td>\n",
       "      <td>1</td>\n",
       "      <td>1</td>\n",
       "      <td>0</td>\n",
       "      <td>...</td>\n",
       "      <td>40</td>\n",
       "      <td>1</td>\n",
       "      <td>155</td>\n",
       "      <td>75</td>\n",
       "      <td>25</td>\n",
       "      <td>2</td>\n",
       "      <td>0</td>\n",
       "      <td>0</td>\n",
       "      <td>46705</td>\n",
       "      <td>4</td>\n",
       "    </tr>\n",
       "    <tr>\n",
       "      <th>...</th>\n",
       "      <td>...</td>\n",
       "      <td>...</td>\n",
       "      <td>...</td>\n",
       "      <td>...</td>\n",
       "      <td>...</td>\n",
       "      <td>...</td>\n",
       "      <td>...</td>\n",
       "      <td>...</td>\n",
       "      <td>...</td>\n",
       "      <td>...</td>\n",
       "      <td>...</td>\n",
       "      <td>...</td>\n",
       "      <td>...</td>\n",
       "      <td>...</td>\n",
       "      <td>...</td>\n",
       "      <td>...</td>\n",
       "      <td>...</td>\n",
       "      <td>...</td>\n",
       "      <td>...</td>\n",
       "      <td>...</td>\n",
       "      <td>...</td>\n",
       "    </tr>\n",
       "    <tr>\n",
       "      <th>7995</th>\n",
       "      <td>500</td>\n",
       "      <td>0</td>\n",
       "      <td>1</td>\n",
       "      <td>NaN</td>\n",
       "      <td>10.0</td>\n",
       "      <td>1</td>\n",
       "      <td>1</td>\n",
       "      <td>0</td>\n",
       "      <td>1</td>\n",
       "      <td>300</td>\n",
       "      <td>...</td>\n",
       "      <td>0</td>\n",
       "      <td>0</td>\n",
       "      <td>170</td>\n",
       "      <td>35</td>\n",
       "      <td>5</td>\n",
       "      <td>3</td>\n",
       "      <td>0</td>\n",
       "      <td>1</td>\n",
       "      <td>19910</td>\n",
       "      <td>4</td>\n",
       "    </tr>\n",
       "    <tr>\n",
       "      <th>7996</th>\n",
       "      <td>500</td>\n",
       "      <td>0</td>\n",
       "      <td>1</td>\n",
       "      <td>NaN</td>\n",
       "      <td>11.0</td>\n",
       "      <td>1</td>\n",
       "      <td>1</td>\n",
       "      <td>0</td>\n",
       "      <td>1</td>\n",
       "      <td>275</td>\n",
       "      <td>...</td>\n",
       "      <td>0</td>\n",
       "      <td>0</td>\n",
       "      <td>130</td>\n",
       "      <td>65</td>\n",
       "      <td>15</td>\n",
       "      <td>3</td>\n",
       "      <td>0</td>\n",
       "      <td>1</td>\n",
       "      <td>19910</td>\n",
       "      <td>4</td>\n",
       "    </tr>\n",
       "    <tr>\n",
       "      <th>7997</th>\n",
       "      <td>500</td>\n",
       "      <td>0</td>\n",
       "      <td>1</td>\n",
       "      <td>NaN</td>\n",
       "      <td>12.0</td>\n",
       "      <td>1</td>\n",
       "      <td>1</td>\n",
       "      <td>0</td>\n",
       "      <td>1</td>\n",
       "      <td>345</td>\n",
       "      <td>...</td>\n",
       "      <td>0</td>\n",
       "      <td>0</td>\n",
       "      <td>140</td>\n",
       "      <td>75</td>\n",
       "      <td>5</td>\n",
       "      <td>2</td>\n",
       "      <td>0</td>\n",
       "      <td>1</td>\n",
       "      <td>19910</td>\n",
       "      <td>1</td>\n",
       "    </tr>\n",
       "    <tr>\n",
       "      <th>7998</th>\n",
       "      <td>500</td>\n",
       "      <td>0</td>\n",
       "      <td>1</td>\n",
       "      <td>NaN</td>\n",
       "      <td>13.0</td>\n",
       "      <td>1</td>\n",
       "      <td>1</td>\n",
       "      <td>0</td>\n",
       "      <td>1</td>\n",
       "      <td>250</td>\n",
       "      <td>...</td>\n",
       "      <td>0</td>\n",
       "      <td>0</td>\n",
       "      <td>130</td>\n",
       "      <td>65</td>\n",
       "      <td>10</td>\n",
       "      <td>2</td>\n",
       "      <td>0</td>\n",
       "      <td>1</td>\n",
       "      <td>19910</td>\n",
       "      <td>4</td>\n",
       "    </tr>\n",
       "    <tr>\n",
       "      <th>7999</th>\n",
       "      <td>500</td>\n",
       "      <td>0</td>\n",
       "      <td>1</td>\n",
       "      <td>NaN</td>\n",
       "      <td>14.0</td>\n",
       "      <td>1</td>\n",
       "      <td>1</td>\n",
       "      <td>0</td>\n",
       "      <td>1</td>\n",
       "      <td>390</td>\n",
       "      <td>...</td>\n",
       "      <td>0</td>\n",
       "      <td>0</td>\n",
       "      <td>140</td>\n",
       "      <td>55</td>\n",
       "      <td>5</td>\n",
       "      <td>1</td>\n",
       "      <td>0</td>\n",
       "      <td>1</td>\n",
       "      <td>19910</td>\n",
       "      <td>4</td>\n",
       "    </tr>\n",
       "  </tbody>\n",
       "</table>\n",
       "<p>8000 rows × 26 columns</p>\n",
       "</div>"
      ],
      "text/plain": [
       "       ID  RP  SP  RP_journey  SP_task  av_car  av_bus  av_air  av_rail  \\\n",
       "0       1   1   0         1.0      NaN       0       0       1        1   \n",
       "1       1   1   0         2.0      NaN       0       0       1        1   \n",
       "2       1   0   1         NaN      1.0       0       0       1        1   \n",
       "3       1   0   1         NaN      2.0       0       0       1        1   \n",
       "4       1   0   1         NaN      3.0       0       0       1        1   \n",
       "...   ...  ..  ..         ...      ...     ...     ...     ...      ...   \n",
       "7995  500   0   1         NaN     10.0       1       1       0        1   \n",
       "7996  500   0   1         NaN     11.0       1       1       0        1   \n",
       "7997  500   0   1         NaN     12.0       1       1       0        1   \n",
       "7998  500   0   1         NaN     13.0       1       1       0        1   \n",
       "7999  500   0   1         NaN     14.0       1       1       0        1   \n",
       "\n",
       "      time_car  ...  access_air  service_air  time_rail  cost_rail  \\\n",
       "0            0  ...          55            0        140         55   \n",
       "1            0  ...          45            0        170         45   \n",
       "2            0  ...          55            3        170         35   \n",
       "3            0  ...          45            1        120         75   \n",
       "4            0  ...          40            1        155         75   \n",
       "...        ...  ...         ...          ...        ...        ...   \n",
       "7995       300  ...           0            0        170         35   \n",
       "7996       275  ...           0            0        130         65   \n",
       "7997       345  ...           0            0        140         75   \n",
       "7998       250  ...           0            0        130         65   \n",
       "7999       390  ...           0            0        140         55   \n",
       "\n",
       "      access_rail  service_rail  female  business  income  choice  \n",
       "0               5             0       0         0   46705       4  \n",
       "1              20             0       0         0   46705       4  \n",
       "2               5             2       0         0   46705       4  \n",
       "3               5             3       0         0   46705       4  \n",
       "4              25             2       0         0   46705       4  \n",
       "...           ...           ...     ...       ...     ...     ...  \n",
       "7995            5             3       0         1   19910       4  \n",
       "7996           15             3       0         1   19910       4  \n",
       "7997            5             2       0         1   19910       1  \n",
       "7998           10             2       0         1   19910       4  \n",
       "7999            5             1       0         1   19910       4  \n",
       "\n",
       "[8000 rows x 26 columns]"
      ]
     },
     "execution_count": 2,
     "metadata": {},
     "output_type": "execute_result"
    }
   ],
   "source": [
    "df"
   ]
  },
  {
   "cell_type": "markdown",
   "id": "3742a8cd",
   "metadata": {},
   "source": [
    "We see the first few rows of the data frame, with columns such as `ID`, `RP`, `SP_task`, `time_car`, `cost_car`, ..., `time_rail`, `cost_rail`, `female`, `income`, `choice`, etc. Each row is one choice observation. Pandas loaded this into a **DataFrame**, which is a 2D labeled data structure (table) with rows and columns."
   ]
  },
  {
   "cell_type": "markdown",
   "id": "d4c2fc27",
   "metadata": {},
   "source": [
    "We can use `df.info()` to get a summary of columns and data types:"
   ]
  },
  {
   "cell_type": "code",
   "execution_count": 3,
   "id": "9d6f1659",
   "metadata": {},
   "outputs": [
    {
     "name": "stdout",
     "output_type": "stream",
     "text": [
      "<class 'pandas.core.frame.DataFrame'>\n",
      "RangeIndex: 8000 entries, 0 to 7999\n",
      "Data columns (total 26 columns):\n",
      " #   Column        Non-Null Count  Dtype  \n",
      "---  ------        --------------  -----  \n",
      " 0   ID            8000 non-null   int64  \n",
      " 1   RP            8000 non-null   int64  \n",
      " 2   SP            8000 non-null   int64  \n",
      " 3   RP_journey    1000 non-null   float64\n",
      " 4   SP_task       7000 non-null   float64\n",
      " 5   av_car        8000 non-null   int64  \n",
      " 6   av_bus        8000 non-null   int64  \n",
      " 7   av_air        8000 non-null   int64  \n",
      " 8   av_rail       8000 non-null   int64  \n",
      " 9   time_car      8000 non-null   int64  \n",
      " 10  cost_car      8000 non-null   int64  \n",
      " 11  time_bus      8000 non-null   int64  \n",
      " 12  cost_bus      8000 non-null   int64  \n",
      " 13  access_bus    8000 non-null   int64  \n",
      " 14  time_air      8000 non-null   int64  \n",
      " 15  cost_air      8000 non-null   int64  \n",
      " 16  access_air    8000 non-null   int64  \n",
      " 17  service_air   8000 non-null   int64  \n",
      " 18  time_rail     8000 non-null   int64  \n",
      " 19  cost_rail     8000 non-null   int64  \n",
      " 20  access_rail   8000 non-null   int64  \n",
      " 21  service_rail  8000 non-null   int64  \n",
      " 22  female        8000 non-null   int64  \n",
      " 23  business      8000 non-null   int64  \n",
      " 24  income        8000 non-null   int64  \n",
      " 25  choice        8000 non-null   int64  \n",
      "dtypes: float64(2), int64(24)\n",
      "memory usage: 1.6 MB\n"
     ]
    }
   ],
   "source": [
    "df.info()"
   ]
  },
  {
   "cell_type": "markdown",
   "id": "e70e0109",
   "metadata": {},
   "source": [
    "**Data Inspection**"
   ]
  },
  {
   "cell_type": "markdown",
   "id": "172f990d",
   "metadata": {},
   "source": [
    "Use Pandas to inspect basic properties:\n",
    "\n",
    "- `df.shape` gives (rows, columns) count.\n",
    "\n",
    "- `df.columns` lists column names.\n",
    "\n",
    "- `df.describe()` provides descriptive statistics for numeric columns (count, mean, std, min, quartiles, max)."
   ]
  },
  {
   "cell_type": "code",
   "execution_count": 4,
   "id": "df6fab60",
   "metadata": {},
   "outputs": [
    {
     "data": {
      "text/plain": [
       "(8000, 26)"
      ]
     },
     "execution_count": 4,
     "metadata": {},
     "output_type": "execute_result"
    }
   ],
   "source": [
    "# check shape\n",
    "df.shape"
   ]
  },
  {
   "cell_type": "code",
   "execution_count": 5,
   "id": "2d85589f",
   "metadata": {},
   "outputs": [
    {
     "data": {
      "text/plain": [
       "['ID',\n",
       " 'RP',\n",
       " 'SP',\n",
       " 'RP_journey',\n",
       " 'SP_task',\n",
       " 'av_car',\n",
       " 'av_bus',\n",
       " 'av_air',\n",
       " 'av_rail',\n",
       " 'time_car',\n",
       " 'cost_car',\n",
       " 'time_bus',\n",
       " 'cost_bus',\n",
       " 'access_bus',\n",
       " 'time_air',\n",
       " 'cost_air',\n",
       " 'access_air',\n",
       " 'service_air',\n",
       " 'time_rail',\n",
       " 'cost_rail',\n",
       " 'access_rail',\n",
       " 'service_rail',\n",
       " 'female',\n",
       " 'business',\n",
       " 'income',\n",
       " 'choice']"
      ]
     },
     "execution_count": 5,
     "metadata": {},
     "output_type": "execute_result"
    }
   ],
   "source": [
    "# check columns\n",
    "df.columns.tolist()"
   ]
  },
  {
   "cell_type": "code",
   "execution_count": 6,
   "id": "682beace",
   "metadata": {},
   "outputs": [
    {
     "data": {
      "text/html": [
       "<div>\n",
       "<style scoped>\n",
       "    .dataframe tbody tr th:only-of-type {\n",
       "        vertical-align: middle;\n",
       "    }\n",
       "\n",
       "    .dataframe tbody tr th {\n",
       "        vertical-align: top;\n",
       "    }\n",
       "\n",
       "    .dataframe thead th {\n",
       "        text-align: right;\n",
       "    }\n",
       "</style>\n",
       "<table border=\"1\" class=\"dataframe\">\n",
       "  <thead>\n",
       "    <tr style=\"text-align: right;\">\n",
       "      <th></th>\n",
       "      <th>ID</th>\n",
       "      <th>RP</th>\n",
       "      <th>SP</th>\n",
       "      <th>RP_journey</th>\n",
       "      <th>SP_task</th>\n",
       "      <th>av_car</th>\n",
       "      <th>av_bus</th>\n",
       "      <th>av_air</th>\n",
       "      <th>av_rail</th>\n",
       "      <th>time_car</th>\n",
       "      <th>...</th>\n",
       "      <th>access_air</th>\n",
       "      <th>service_air</th>\n",
       "      <th>time_rail</th>\n",
       "      <th>cost_rail</th>\n",
       "      <th>access_rail</th>\n",
       "      <th>service_rail</th>\n",
       "      <th>female</th>\n",
       "      <th>business</th>\n",
       "      <th>income</th>\n",
       "      <th>choice</th>\n",
       "    </tr>\n",
       "  </thead>\n",
       "  <tbody>\n",
       "    <tr>\n",
       "      <th>count</th>\n",
       "      <td>8000.000000</td>\n",
       "      <td>8000.00000</td>\n",
       "      <td>8000.00000</td>\n",
       "      <td>1000.00000</td>\n",
       "      <td>7000.000000</td>\n",
       "      <td>8000.000000</td>\n",
       "      <td>8000.000000</td>\n",
       "      <td>8000.000000</td>\n",
       "      <td>8000.00000</td>\n",
       "      <td>8000.000000</td>\n",
       "      <td>...</td>\n",
       "      <td>8000.000000</td>\n",
       "      <td>8000.000000</td>\n",
       "      <td>8000.000000</td>\n",
       "      <td>8000.000000</td>\n",
       "      <td>8000.000000</td>\n",
       "      <td>8000.00000</td>\n",
       "      <td>8000.000000</td>\n",
       "      <td>8000.000000</td>\n",
       "      <td>8000.000000</td>\n",
       "      <td>8000.000000</td>\n",
       "    </tr>\n",
       "    <tr>\n",
       "      <th>mean</th>\n",
       "      <td>250.500000</td>\n",
       "      <td>0.12500</td>\n",
       "      <td>0.87500</td>\n",
       "      <td>1.50000</td>\n",
       "      <td>7.500000</td>\n",
       "      <td>0.778000</td>\n",
       "      <td>0.902000</td>\n",
       "      <td>0.752000</td>\n",
       "      <td>0.87400</td>\n",
       "      <td>242.575000</td>\n",
       "      <td>...</td>\n",
       "      <td>33.855000</td>\n",
       "      <td>1.313250</td>\n",
       "      <td>124.917500</td>\n",
       "      <td>48.098750</td>\n",
       "      <td>13.075625</td>\n",
       "      <td>1.52375</td>\n",
       "      <td>0.476000</td>\n",
       "      <td>0.330000</td>\n",
       "      <td>44748.274000</td>\n",
       "      <td>2.807625</td>\n",
       "    </tr>\n",
       "    <tr>\n",
       "      <th>std</th>\n",
       "      <td>144.346301</td>\n",
       "      <td>0.33074</td>\n",
       "      <td>0.33074</td>\n",
       "      <td>0.50025</td>\n",
       "      <td>4.031417</td>\n",
       "      <td>0.415617</td>\n",
       "      <td>0.297333</td>\n",
       "      <td>0.431879</td>\n",
       "      <td>0.33187</td>\n",
       "      <td>136.951068</td>\n",
       "      <td>...</td>\n",
       "      <td>20.392945</td>\n",
       "      <td>1.155548</td>\n",
       "      <td>50.258546</td>\n",
       "      <td>22.539382</td>\n",
       "      <td>8.267539</td>\n",
       "      <td>1.10853</td>\n",
       "      <td>0.499455</td>\n",
       "      <td>0.470242</td>\n",
       "      <td>17059.942873</td>\n",
       "      <td>1.265036</td>\n",
       "    </tr>\n",
       "    <tr>\n",
       "      <th>min</th>\n",
       "      <td>1.000000</td>\n",
       "      <td>0.00000</td>\n",
       "      <td>0.00000</td>\n",
       "      <td>1.00000</td>\n",
       "      <td>1.000000</td>\n",
       "      <td>0.000000</td>\n",
       "      <td>0.000000</td>\n",
       "      <td>0.000000</td>\n",
       "      <td>0.00000</td>\n",
       "      <td>0.000000</td>\n",
       "      <td>...</td>\n",
       "      <td>0.000000</td>\n",
       "      <td>0.000000</td>\n",
       "      <td>0.000000</td>\n",
       "      <td>0.000000</td>\n",
       "      <td>0.000000</td>\n",
       "      <td>0.00000</td>\n",
       "      <td>0.000000</td>\n",
       "      <td>0.000000</td>\n",
       "      <td>15490.000000</td>\n",
       "      <td>1.000000</td>\n",
       "    </tr>\n",
       "    <tr>\n",
       "      <th>25%</th>\n",
       "      <td>125.750000</td>\n",
       "      <td>0.00000</td>\n",
       "      <td>1.00000</td>\n",
       "      <td>1.00000</td>\n",
       "      <td>4.000000</td>\n",
       "      <td>1.000000</td>\n",
       "      <td>1.000000</td>\n",
       "      <td>1.000000</td>\n",
       "      <td>1.00000</td>\n",
       "      <td>250.000000</td>\n",
       "      <td>...</td>\n",
       "      <td>35.000000</td>\n",
       "      <td>0.000000</td>\n",
       "      <td>120.000000</td>\n",
       "      <td>35.000000</td>\n",
       "      <td>5.000000</td>\n",
       "      <td>1.00000</td>\n",
       "      <td>0.000000</td>\n",
       "      <td>0.000000</td>\n",
       "      <td>30371.500000</td>\n",
       "      <td>1.000000</td>\n",
       "    </tr>\n",
       "    <tr>\n",
       "      <th>50%</th>\n",
       "      <td>250.500000</td>\n",
       "      <td>0.00000</td>\n",
       "      <td>1.00000</td>\n",
       "      <td>1.50000</td>\n",
       "      <td>7.500000</td>\n",
       "      <td>1.000000</td>\n",
       "      <td>1.000000</td>\n",
       "      <td>1.000000</td>\n",
       "      <td>1.00000</td>\n",
       "      <td>275.000000</td>\n",
       "      <td>...</td>\n",
       "      <td>40.000000</td>\n",
       "      <td>1.000000</td>\n",
       "      <td>140.000000</td>\n",
       "      <td>55.000000</td>\n",
       "      <td>15.000000</td>\n",
       "      <td>2.00000</td>\n",
       "      <td>0.000000</td>\n",
       "      <td>0.000000</td>\n",
       "      <td>44977.000000</td>\n",
       "      <td>3.000000</td>\n",
       "    </tr>\n",
       "    <tr>\n",
       "      <th>75%</th>\n",
       "      <td>375.250000</td>\n",
       "      <td>0.00000</td>\n",
       "      <td>1.00000</td>\n",
       "      <td>2.00000</td>\n",
       "      <td>11.000000</td>\n",
       "      <td>1.000000</td>\n",
       "      <td>1.000000</td>\n",
       "      <td>1.000000</td>\n",
       "      <td>1.00000</td>\n",
       "      <td>345.000000</td>\n",
       "      <td>...</td>\n",
       "      <td>50.000000</td>\n",
       "      <td>2.000000</td>\n",
       "      <td>155.000000</td>\n",
       "      <td>65.000000</td>\n",
       "      <td>20.000000</td>\n",
       "      <td>3.00000</td>\n",
       "      <td>1.000000</td>\n",
       "      <td>1.000000</td>\n",
       "      <td>59155.500000</td>\n",
       "      <td>4.000000</td>\n",
       "    </tr>\n",
       "    <tr>\n",
       "      <th>max</th>\n",
       "      <td>500.000000</td>\n",
       "      <td>1.00000</td>\n",
       "      <td>1.00000</td>\n",
       "      <td>2.00000</td>\n",
       "      <td>14.000000</td>\n",
       "      <td>1.000000</td>\n",
       "      <td>1.000000</td>\n",
       "      <td>1.000000</td>\n",
       "      <td>1.00000</td>\n",
       "      <td>390.000000</td>\n",
       "      <td>...</td>\n",
       "      <td>55.000000</td>\n",
       "      <td>3.000000</td>\n",
       "      <td>170.000000</td>\n",
       "      <td>75.000000</td>\n",
       "      <td>25.000000</td>\n",
       "      <td>3.00000</td>\n",
       "      <td>1.000000</td>\n",
       "      <td>1.000000</td>\n",
       "      <td>74891.000000</td>\n",
       "      <td>4.000000</td>\n",
       "    </tr>\n",
       "  </tbody>\n",
       "</table>\n",
       "<p>8 rows × 26 columns</p>\n",
       "</div>"
      ],
      "text/plain": [
       "                ID          RP          SP  RP_journey      SP_task  \\\n",
       "count  8000.000000  8000.00000  8000.00000  1000.00000  7000.000000   \n",
       "mean    250.500000     0.12500     0.87500     1.50000     7.500000   \n",
       "std     144.346301     0.33074     0.33074     0.50025     4.031417   \n",
       "min       1.000000     0.00000     0.00000     1.00000     1.000000   \n",
       "25%     125.750000     0.00000     1.00000     1.00000     4.000000   \n",
       "50%     250.500000     0.00000     1.00000     1.50000     7.500000   \n",
       "75%     375.250000     0.00000     1.00000     2.00000    11.000000   \n",
       "max     500.000000     1.00000     1.00000     2.00000    14.000000   \n",
       "\n",
       "            av_car       av_bus       av_air     av_rail     time_car  ...  \\\n",
       "count  8000.000000  8000.000000  8000.000000  8000.00000  8000.000000  ...   \n",
       "mean      0.778000     0.902000     0.752000     0.87400   242.575000  ...   \n",
       "std       0.415617     0.297333     0.431879     0.33187   136.951068  ...   \n",
       "min       0.000000     0.000000     0.000000     0.00000     0.000000  ...   \n",
       "25%       1.000000     1.000000     1.000000     1.00000   250.000000  ...   \n",
       "50%       1.000000     1.000000     1.000000     1.00000   275.000000  ...   \n",
       "75%       1.000000     1.000000     1.000000     1.00000   345.000000  ...   \n",
       "max       1.000000     1.000000     1.000000     1.00000   390.000000  ...   \n",
       "\n",
       "        access_air  service_air    time_rail    cost_rail  access_rail  \\\n",
       "count  8000.000000  8000.000000  8000.000000  8000.000000  8000.000000   \n",
       "mean     33.855000     1.313250   124.917500    48.098750    13.075625   \n",
       "std      20.392945     1.155548    50.258546    22.539382     8.267539   \n",
       "min       0.000000     0.000000     0.000000     0.000000     0.000000   \n",
       "25%      35.000000     0.000000   120.000000    35.000000     5.000000   \n",
       "50%      40.000000     1.000000   140.000000    55.000000    15.000000   \n",
       "75%      50.000000     2.000000   155.000000    65.000000    20.000000   \n",
       "max      55.000000     3.000000   170.000000    75.000000    25.000000   \n",
       "\n",
       "       service_rail       female     business        income       choice  \n",
       "count    8000.00000  8000.000000  8000.000000   8000.000000  8000.000000  \n",
       "mean        1.52375     0.476000     0.330000  44748.274000     2.807625  \n",
       "std         1.10853     0.499455     0.470242  17059.942873     1.265036  \n",
       "min         0.00000     0.000000     0.000000  15490.000000     1.000000  \n",
       "25%         1.00000     0.000000     0.000000  30371.500000     1.000000  \n",
       "50%         2.00000     0.000000     0.000000  44977.000000     3.000000  \n",
       "75%         3.00000     1.000000     1.000000  59155.500000     4.000000  \n",
       "max         3.00000     1.000000     1.000000  74891.000000     4.000000  \n",
       "\n",
       "[8 rows x 26 columns]"
      ]
     },
     "execution_count": 6,
     "metadata": {},
     "output_type": "execute_result"
    }
   ],
   "source": [
    "# summary statistics\n",
    "df.describe()\n"
   ]
  },
  {
   "cell_type": "markdown",
   "id": "15345cbf",
   "metadata": {},
   "source": [
    "The descriptive stats show, for instance:\n",
    "\n",
    "- Travel times and costs: their mean, min, max. For example, `time_car` have a mean ~242 minutes, `cost_car` mean ~£4\n",
    "- `income`: mean ~ £44,748\n",
    "- `choice`: min 1, max 4 (since choices range 1-4)."
   ]
  },
  {
   "cell_type": "code",
   "execution_count": 7,
   "id": "61d77557",
   "metadata": {},
   "outputs": [
    {
     "data": {
      "text/plain": [
       "np.float64(136.95106817540452)"
      ]
     },
     "execution_count": 7,
     "metadata": {},
     "output_type": "execute_result"
    }
   ],
   "source": [
    "## get standard deviation of 'time_car' column\n",
    "df[\"time_car\"].std()"
   ]
  },
  {
   "cell_type": "code",
   "execution_count": 8,
   "id": "fbceb35a",
   "metadata": {},
   "outputs": [
    {
     "data": {
      "text/plain": [
       "np.float64(242.575)"
      ]
     },
     "execution_count": 8,
     "metadata": {},
     "output_type": "execute_result"
    }
   ],
   "source": [
    "# get mean of 'time_car' column\n",
    "df[\"time_car\"].mean()"
   ]
  },
  {
   "cell_type": "code",
   "execution_count": 9,
   "id": "8567c454",
   "metadata": {},
   "outputs": [
    {
     "data": {
      "text/plain": [
       "np.int64(390)"
      ]
     },
     "execution_count": 9,
     "metadata": {},
     "output_type": "execute_result"
    }
   ],
   "source": [
    "# get maximum of 'time_car' column\n",
    "df[\"time_car\"].max()"
   ]
  },
  {
   "cell_type": "code",
   "execution_count": 10,
   "id": "f725c7b7",
   "metadata": {},
   "outputs": [
    {
     "name": "stdout",
     "output_type": "stream",
     "text": [
      "Car travel time - mean: 242.575 std: 136.9425084661443\n",
      "Bus travel time - mean: 334.005 std: 115.63113756683362\n",
      "Air travel time - mean: 52.69375 std: 32.64285849826115\n",
      "Rail travel time - mean: 124.9175 std: 50.255404622289134\n"
     ]
    }
   ],
   "source": [
    "## numpy to explore the data\n",
    "import numpy as np\n",
    "\n",
    "# Get basic statistics for travel times\n",
    "print(\"Car travel time - mean:\", np.mean(df[\"time_car\"]), \"std:\", np.std(df[\"time_car\"]))\n",
    "print(\"Bus travel time - mean:\", np.mean(df[\"time_bus\"]), \"std:\", np.std(df[\"time_bus\"]))\n",
    "print(\"Air travel time - mean:\", np.mean(df[\"time_air\"]), \"std:\", np.std(df[\"time_air\"]))\n",
    "print(\"Rail travel time - mean:\", np.mean(df[\"time_rail\"]), \"std:\", np.std(df[\"time_rail\"]))\n"
   ]
  },
  {
   "cell_type": "code",
   "execution_count": 11,
   "id": "5e1ab318",
   "metadata": {},
   "outputs": [
    {
     "data": {
      "text/plain": [
       "array([4, 3, 2, 1])"
      ]
     },
     "execution_count": 11,
     "metadata": {},
     "output_type": "execute_result"
    }
   ],
   "source": [
    "# check unique values in 'choice' column\n",
    "df[\"choice\"].unique()"
   ]
  },
  {
   "cell_type": "code",
   "execution_count": 12,
   "id": "f6735082",
   "metadata": {},
   "outputs": [
    {
     "data": {
      "text/plain": [
       "choice\n",
       "4    3501\n",
       "1    2278\n",
       "3    1737\n",
       "2     484\n",
       "Name: count, dtype: int64"
      ]
     },
     "execution_count": 12,
     "metadata": {},
     "output_type": "execute_result"
    }
   ],
   "source": [
    "# count values in 'choice' column\n",
    "df[\"choice\"].value_counts()"
   ]
  },
  {
   "cell_type": "code",
   "execution_count": 13,
   "id": "9804a7b3",
   "metadata": {},
   "outputs": [
    {
     "data": {
      "text/plain": [
       "choice\n",
       "4    0.437625\n",
       "1    0.284750\n",
       "3    0.217125\n",
       "2    0.060500\n",
       "Name: proportion, dtype: float64"
      ]
     },
     "execution_count": 13,
     "metadata": {},
     "output_type": "execute_result"
    }
   ],
   "source": [
    "# Calculate mode shares\n",
    "df['choice'].value_counts(normalize=True)"
   ]
  },
  {
   "cell_type": "code",
   "execution_count": 14,
   "id": "3fd3c4bb",
   "metadata": {},
   "outputs": [
    {
     "name": "stdout",
     "output_type": "stream",
     "text": [
      "Average income: 44748.274\n"
     ]
    }
   ],
   "source": [
    "# Calculate average income\n",
    "avg_income = np.mean(df['income'])\n",
    "print(\"Average income:\", avg_income)"
   ]
  },
  {
   "cell_type": "code",
   "execution_count": 15,
   "id": "d75692fb",
   "metadata": {},
   "outputs": [
    {
     "name": "stdout",
     "output_type": "stream",
     "text": [
      "Correlation matrix:\n",
      "                         ID            RP            SP    RP_journey  \\\n",
      "ID            1.000000e+00 -2.374355e-16 -2.398668e-15 -2.559853e-18   \n",
      "RP           -2.374355e-16  1.000000e+00 -1.000000e+00           NaN   \n",
      "SP           -2.398668e-15 -1.000000e+00  1.000000e+00           NaN   \n",
      "RP_journey   -2.559853e-18           NaN           NaN  1.000000e+00   \n",
      "SP_task      -1.827074e-15           NaN           NaN           NaN   \n",
      "av_car        5.051238e-03 -3.561840e-18  7.480881e-17  2.822307e-18   \n",
      "av_bus        2.001697e-02 -1.342381e-17  6.618946e-17  2.344605e-18   \n",
      "av_air       -5.005429e-03 -1.108502e-17 -6.427281e-17  6.627596e-19   \n",
      "av_rail      -2.732877e-02  9.773279e-18  6.449490e-17  8.100950e-18   \n",
      "time_car      4.706778e-03 -8.928674e-03  8.928674e-03 -1.458089e-02   \n",
      "cost_car      3.996195e-03  4.273268e-03 -4.273268e-03  3.927667e-03   \n",
      "time_bus      1.715317e-02 -1.814133e-03  1.814133e-03 -2.728767e-02   \n",
      "cost_bus      2.108910e-02 -2.215269e-03  2.215269e-03  2.210526e-02   \n",
      "access_bus    1.173903e-02 -8.465637e-03  8.465637e-03 -3.989321e-02   \n",
      "time_air     -6.948437e-03 -8.539350e-04  8.539350e-04 -2.708608e-02   \n",
      "cost_air     -2.911140e-03  1.917580e-03 -1.917580e-03 -2.297666e-03   \n",
      "access_air   -3.169085e-03  3.058314e-03 -3.058314e-03  1.465352e-02   \n",
      "service_air  -6.422451e-03 -4.295735e-01  4.295735e-01           NaN   \n",
      "time_rail    -2.407322e-02 -1.710998e-03  1.710998e-03  5.378759e-02   \n",
      "cost_rail    -2.203553e-02  9.747631e-03 -9.747631e-03 -3.657745e-02   \n",
      "access_rail  -1.503811e-02 -1.171563e-03  1.171563e-03 -2.412135e-02   \n",
      "service_rail -8.876211e-03 -5.195702e-01  5.195702e-01           NaN   \n",
      "female       -3.548566e-02 -1.059538e-17  1.152546e-16 -1.427019e-18   \n",
      "business      2.924742e-02  2.776535e-18 -1.872868e-17  4.495635e-18   \n",
      "income       -6.166841e-02  1.957028e-17  1.315369e-16  3.944487e-18   \n",
      "choice        3.645310e-03 -8.086173e-02  8.086173e-02  3.435462e-02   \n",
      "\n",
      "                   SP_task        av_car        av_bus        av_air  \\\n",
      "ID           -1.827074e-15  5.051238e-03  2.001697e-02 -5.005429e-03   \n",
      "RP                     NaN -3.561840e-18 -1.342381e-17 -1.108502e-17   \n",
      "SP                     NaN  7.480881e-17  6.618946e-17 -6.427281e-17   \n",
      "RP_journey             NaN  2.822307e-18  2.344605e-18  6.627596e-19   \n",
      "SP_task       1.000000e+00  2.648166e-17 -2.315481e-17 -3.483059e-17   \n",
      "av_car        2.648166e-17  1.000000e+00 -1.421157e-02 -9.503337e-02   \n",
      "av_bus       -2.315481e-17 -1.421157e-02  1.000000e+00 -4.909815e-02   \n",
      "av_air       -3.483059e-17 -9.503337e-02 -4.909815e-02  1.000000e+00   \n",
      "av_rail       1.189179e-16  2.920668e-02 -1.048816e-01 -5.057576e-02   \n",
      "time_car     -1.452966e-02  9.462251e-01 -1.110217e-02 -8.985460e-02   \n",
      "cost_car      2.308611e-02  9.364876e-01 -1.031232e-02 -8.945338e-02   \n",
      "time_bus     -1.599898e-02 -9.083602e-03  9.521118e-01 -4.829749e-02   \n",
      "cost_bus      1.133729e-02 -1.809076e-02  7.421385e-01 -3.634383e-02   \n",
      "access_bus   -3.880825e-02 -1.525450e-04  5.538599e-01 -3.340031e-02   \n",
      "time_air     -3.370289e-02 -9.772441e-02 -4.093295e-02  9.270173e-01   \n",
      "cost_air      4.477852e-03 -7.480074e-02 -4.757351e-02  8.811868e-01   \n",
      "access_air    1.505011e-02 -9.179669e-02 -4.861002e-02  9.534259e-01   \n",
      "service_air  -9.276800e-03 -5.900286e-02 -3.289720e-02  6.526847e-01   \n",
      "time_rail     1.264199e-02  3.251914e-02 -1.033576e-01 -5.018733e-02   \n",
      "cost_rail     6.059956e-03  2.166452e-02 -8.097046e-02 -4.394916e-02   \n",
      "access_rail  -1.375551e-02  1.354563e-02 -7.494741e-02 -3.021460e-02   \n",
      "service_rail -5.663202e-02  1.008864e-02 -5.096921e-02 -2.608155e-02   \n",
      "female        1.847327e-17  6.587136e-02 -2.257452e-02 -9.050570e-03   \n",
      "business     -4.743685e-17  6.447775e-03  4.535013e-02 -7.958152e-02   \n",
      "income        1.495556e-16  5.934794e-03  2.868547e-03 -1.045636e-01   \n",
      "choice        2.583229e-03 -2.652766e-01 -5.923444e-03 -1.731548e-02   \n",
      "\n",
      "                   av_rail  time_car  ...  access_air  service_air  time_rail  \\\n",
      "ID           -2.732877e-02  0.004707  ...   -0.003169    -0.006422  -0.024073   \n",
      "RP            9.773279e-18 -0.008929  ...    0.003058    -0.429574  -0.001711   \n",
      "SP            6.449490e-17  0.008929  ...   -0.003058     0.429574   0.001711   \n",
      "RP_journey    8.100950e-18 -0.014581  ...    0.014654          NaN   0.053788   \n",
      "SP_task       1.189179e-16 -0.014530  ...    0.015050    -0.009277   0.012642   \n",
      "av_car        2.920668e-02  0.946225  ...   -0.091797    -0.059003   0.032519   \n",
      "av_bus       -1.048816e-01 -0.011102  ...   -0.048610    -0.032897  -0.103358   \n",
      "av_air       -5.057576e-02 -0.089855  ...    0.953426     0.652685  -0.050187   \n",
      "av_rail       1.000000e+00  0.027797  ...   -0.046349    -0.036265   0.943778   \n",
      "time_car      2.779667e-02  1.000000  ...   -0.078178    -0.034323   0.016583   \n",
      "cost_car      2.968096e-02  0.818268  ...   -0.076150    -0.056758   0.013703   \n",
      "time_bus     -1.007501e-01  0.020075  ...   -0.044013    -0.037485  -0.108316   \n",
      "cost_bus     -6.785507e-02 -0.004366  ...   -0.033311    -0.022203  -0.076614   \n",
      "access_bus   -5.422766e-02 -0.012515  ...   -0.036981     0.000364  -0.100551   \n",
      "time_air     -4.598079e-02 -0.114490  ...    0.838452     0.615851  -0.056212   \n",
      "cost_air     -4.550803e-02 -0.059829  ...    0.794847     0.583811  -0.057020   \n",
      "access_air   -4.634945e-02 -0.078178  ...    1.000000     0.608230  -0.046498   \n",
      "service_air  -3.626476e-02 -0.034323  ...    0.608230     1.000000  -0.035719   \n",
      "time_rail     9.437785e-01  0.016583  ...   -0.046498    -0.035719   1.000000   \n",
      "cost_rail     8.103049e-01  0.027940  ...   -0.038279    -0.096961   0.667723   \n",
      "access_rail   6.005413e-01 -0.017515  ...   -0.167561    -0.033925   0.632361   \n",
      "service_rail  5.219427e-01 -0.014476  ...   -0.029987     0.059580   0.505107   \n",
      "female        2.399033e-02  0.062022  ...   -0.006749    -0.007767   0.024698   \n",
      "business     -2.691621e-03  0.008322  ...   -0.074467    -0.043478  -0.005407   \n",
      "income       -5.049119e-02  0.001568  ...   -0.103383    -0.064778  -0.047741   \n",
      "choice        2.486706e-01 -0.226594  ...   -0.006189     0.050123   0.247574   \n",
      "\n",
      "              cost_rail  access_rail  service_rail        female  \\\n",
      "ID            -0.022036    -0.015038     -0.008876 -3.548566e-02   \n",
      "RP             0.009748    -0.001172     -0.519570 -1.059538e-17   \n",
      "SP            -0.009748     0.001172      0.519570  1.152546e-16   \n",
      "RP_journey    -0.036577    -0.024121           NaN -1.427019e-18   \n",
      "SP_task        0.006060    -0.013756     -0.056632  1.847327e-17   \n",
      "av_car         0.021665     0.013546      0.010089  6.587136e-02   \n",
      "av_bus        -0.080970    -0.074947     -0.050969 -2.257452e-02   \n",
      "av_air        -0.043949    -0.030215     -0.026082 -9.050570e-03   \n",
      "av_rail        0.810305     0.600541      0.521943  2.399033e-02   \n",
      "time_car       0.027940    -0.017515     -0.014476  6.202157e-02   \n",
      "cost_car       0.012986    -0.043475      0.031468  6.354889e-02   \n",
      "time_bus      -0.065590    -0.079860     -0.054283 -1.745929e-02   \n",
      "cost_bus      -0.088558    -0.100921     -0.028610 -2.988341e-02   \n",
      "access_bus    -0.089111    -0.263972     -0.048833 -2.097380e-02   \n",
      "time_air      -0.073446     0.032758     -0.017780 -1.133100e-02   \n",
      "cost_air      -0.014304     0.061471     -0.039858 -4.495590e-03   \n",
      "access_air    -0.038279    -0.167561     -0.029987 -6.748767e-03   \n",
      "service_air   -0.096961    -0.033925      0.059580 -7.766795e-03   \n",
      "time_rail      0.667723     0.632361      0.505107  2.469825e-02   \n",
      "cost_rail      1.000000     0.512390      0.438439  1.898943e-02   \n",
      "access_rail    0.512390     1.000000      0.330219  2.582563e-02   \n",
      "service_rail   0.438439     0.330219      1.000000  1.977089e-02   \n",
      "female         0.018989     0.025826      0.019771  1.000000e+00   \n",
      "business       0.000581    -0.003848      0.001751  2.095085e-02   \n",
      "income        -0.036556    -0.028869     -0.039555  5.432452e-02   \n",
      "choice         0.055832     0.069728      0.181422  6.443217e-03   \n",
      "\n",
      "                  business        income    choice  \n",
      "ID            2.924742e-02 -6.166841e-02  0.003645  \n",
      "RP            2.776535e-18  1.957028e-17 -0.080862  \n",
      "SP           -1.872868e-17  1.315369e-16  0.080862  \n",
      "RP_journey    4.495635e-18  3.944487e-18  0.034355  \n",
      "SP_task      -4.743685e-17  1.495556e-16  0.002583  \n",
      "av_car        6.447775e-03  5.934794e-03 -0.265277  \n",
      "av_bus        4.535013e-02  2.868547e-03 -0.005923  \n",
      "av_air       -7.958152e-02 -1.045636e-01 -0.017315  \n",
      "av_rail      -2.691621e-03 -5.049119e-02  0.248671  \n",
      "time_car      8.322060e-03  1.568046e-03 -0.226594  \n",
      "cost_car      7.434303e-03  4.623430e-03 -0.232065  \n",
      "time_bus      4.866268e-02 -2.274198e-03 -0.003693  \n",
      "cost_bus      2.674602e-02  1.377249e-02  0.034980  \n",
      "access_bus    2.246036e-02  7.876162e-03  0.055073  \n",
      "time_air     -7.811132e-02 -9.322995e-02 -0.005916  \n",
      "cost_air     -6.635781e-02 -9.500562e-02 -0.039146  \n",
      "access_air   -7.446741e-02 -1.033832e-01 -0.006189  \n",
      "service_air  -4.347811e-02 -6.477771e-02  0.050123  \n",
      "time_rail    -5.407154e-03 -4.774147e-02  0.247574  \n",
      "cost_rail     5.814973e-04 -3.655598e-02  0.055832  \n",
      "access_rail  -3.847505e-03 -2.886888e-02  0.069728  \n",
      "service_rail  1.750726e-03 -3.955453e-02  0.181422  \n",
      "female        2.095085e-02  5.432452e-02  0.006443  \n",
      "business      1.000000e+00  1.950003e-02  0.189743  \n",
      "income        1.950003e-02  1.000000e+00  0.055848  \n",
      "choice        1.897427e-01  5.584777e-02  1.000000  \n",
      "\n",
      "[26 rows x 26 columns]\n"
     ]
    }
   ],
   "source": [
    "# explore the data further using pandas\n",
    "print(\"Correlation matrix:\\n\", df.corr())\n"
   ]
  },
  {
   "cell_type": "code",
   "execution_count": 16,
   "id": "35709257",
   "metadata": {},
   "outputs": [
    {
     "name": "stdout",
     "output_type": "stream",
     "text": [
      "Mean income by gender:\n",
      " female\n",
      "0    43865.022901\n",
      "1    45720.592437\n",
      "Name: income, dtype: float64\n"
     ]
    }
   ],
   "source": [
    "# Group by gender (female dummy) and calculate mean income\n",
    "mean_income_by_gender = df.groupby('female')['income'].mean()\n",
    "print(\"Mean income by gender:\\n\", mean_income_by_gender)"
   ]
  },
  {
   "cell_type": "code",
   "execution_count": 17,
   "id": "032cde92",
   "metadata": {},
   "outputs": [
    {
     "name": "stdout",
     "output_type": "stream",
     "text": [
      "Mode shares by trip purpose (business=0/1):\n",
      " business  choice\n",
      "0         4         0.409328\n",
      "          1         0.341791\n",
      "          3         0.162313\n",
      "          2         0.086567\n",
      "1         4         0.495076\n",
      "          3         0.328409\n",
      "          1         0.168939\n",
      "          2         0.007576\n",
      "Name: proportion, dtype: float64\n"
     ]
    }
   ],
   "source": [
    "# Group by trip purpose (business dummy) and calculate mode shares\n",
    "mode_shares_by_purpose = df.groupby('business')['choice'].value_counts(normalize=True)\n",
    "print(\"Mode shares by trip purpose (business=0/1):\\n\", mode_shares_by_purpose)"
   ]
  },
  {
   "cell_type": "markdown",
   "id": "f29a96c4",
   "metadata": {},
   "source": [
    "## 02.2 Data Cleaning and Preparation"
   ]
  },
  {
   "cell_type": "markdown",
   "id": "b5a7ac41",
   "metadata": {},
   "source": [
    "For this introductory analysis, the data is already clean in structure, but a few things we might do:\n",
    "\n",
    "- Handle availability: To avoid skewing calculations, sometimes it's useful to set unavailable alternatives' attributes to NaN (so they don't count in means). But for simplicity, we'll perhaps filter by available when needed or interpret carefully.\n",
    "\n",
    "- Create derived variables: e.g., total travel time including access for composite modes (air/rail) if needed, or perhaps convert time to hours.\n",
    "\n",
    "- Z-scoring (standardization): It's common to standardize continuous variables (mean 0, std 1) for model estimation or comparison. We'll demonstrate z-scoring on, say, income or travel time to show how to do it."
   ]
  },
  {
   "cell_type": "markdown",
   "id": "0be3dc24",
   "metadata": {},
   "source": [
    "Let's do a quick example: Add a column for standardized income (z-score of income):"
   ]
  },
  {
   "cell_type": "code",
   "execution_count": 18,
   "id": "367a090e",
   "metadata": {},
   "outputs": [
    {
     "data": {
      "text/html": [
       "<div>\n",
       "<style scoped>\n",
       "    .dataframe tbody tr th:only-of-type {\n",
       "        vertical-align: middle;\n",
       "    }\n",
       "\n",
       "    .dataframe tbody tr th {\n",
       "        vertical-align: top;\n",
       "    }\n",
       "\n",
       "    .dataframe thead th {\n",
       "        text-align: right;\n",
       "    }\n",
       "</style>\n",
       "<table border=\"1\" class=\"dataframe\">\n",
       "  <thead>\n",
       "    <tr style=\"text-align: right;\">\n",
       "      <th></th>\n",
       "      <th>ID</th>\n",
       "      <th>RP</th>\n",
       "      <th>SP</th>\n",
       "      <th>RP_journey</th>\n",
       "      <th>SP_task</th>\n",
       "      <th>av_car</th>\n",
       "      <th>av_bus</th>\n",
       "      <th>av_air</th>\n",
       "      <th>av_rail</th>\n",
       "      <th>time_car</th>\n",
       "      <th>...</th>\n",
       "      <th>service_air</th>\n",
       "      <th>time_rail</th>\n",
       "      <th>cost_rail</th>\n",
       "      <th>access_rail</th>\n",
       "      <th>service_rail</th>\n",
       "      <th>female</th>\n",
       "      <th>business</th>\n",
       "      <th>income</th>\n",
       "      <th>choice</th>\n",
       "      <th>income_z</th>\n",
       "    </tr>\n",
       "  </thead>\n",
       "  <tbody>\n",
       "    <tr>\n",
       "      <th>0</th>\n",
       "      <td>1</td>\n",
       "      <td>1</td>\n",
       "      <td>0</td>\n",
       "      <td>1.0</td>\n",
       "      <td>NaN</td>\n",
       "      <td>0</td>\n",
       "      <td>0</td>\n",
       "      <td>1</td>\n",
       "      <td>1</td>\n",
       "      <td>0</td>\n",
       "      <td>...</td>\n",
       "      <td>0</td>\n",
       "      <td>140</td>\n",
       "      <td>55</td>\n",
       "      <td>5</td>\n",
       "      <td>0</td>\n",
       "      <td>0</td>\n",
       "      <td>0</td>\n",
       "      <td>46705</td>\n",
       "      <td>4</td>\n",
       "      <td>0.114697</td>\n",
       "    </tr>\n",
       "    <tr>\n",
       "      <th>1</th>\n",
       "      <td>1</td>\n",
       "      <td>1</td>\n",
       "      <td>0</td>\n",
       "      <td>2.0</td>\n",
       "      <td>NaN</td>\n",
       "      <td>0</td>\n",
       "      <td>0</td>\n",
       "      <td>1</td>\n",
       "      <td>1</td>\n",
       "      <td>0</td>\n",
       "      <td>...</td>\n",
       "      <td>0</td>\n",
       "      <td>170</td>\n",
       "      <td>45</td>\n",
       "      <td>20</td>\n",
       "      <td>0</td>\n",
       "      <td>0</td>\n",
       "      <td>0</td>\n",
       "      <td>46705</td>\n",
       "      <td>4</td>\n",
       "      <td>0.114697</td>\n",
       "    </tr>\n",
       "    <tr>\n",
       "      <th>2</th>\n",
       "      <td>1</td>\n",
       "      <td>0</td>\n",
       "      <td>1</td>\n",
       "      <td>NaN</td>\n",
       "      <td>1.0</td>\n",
       "      <td>0</td>\n",
       "      <td>0</td>\n",
       "      <td>1</td>\n",
       "      <td>1</td>\n",
       "      <td>0</td>\n",
       "      <td>...</td>\n",
       "      <td>3</td>\n",
       "      <td>170</td>\n",
       "      <td>35</td>\n",
       "      <td>5</td>\n",
       "      <td>2</td>\n",
       "      <td>0</td>\n",
       "      <td>0</td>\n",
       "      <td>46705</td>\n",
       "      <td>4</td>\n",
       "      <td>0.114697</td>\n",
       "    </tr>\n",
       "    <tr>\n",
       "      <th>3</th>\n",
       "      <td>1</td>\n",
       "      <td>0</td>\n",
       "      <td>1</td>\n",
       "      <td>NaN</td>\n",
       "      <td>2.0</td>\n",
       "      <td>0</td>\n",
       "      <td>0</td>\n",
       "      <td>1</td>\n",
       "      <td>1</td>\n",
       "      <td>0</td>\n",
       "      <td>...</td>\n",
       "      <td>1</td>\n",
       "      <td>120</td>\n",
       "      <td>75</td>\n",
       "      <td>5</td>\n",
       "      <td>3</td>\n",
       "      <td>0</td>\n",
       "      <td>0</td>\n",
       "      <td>46705</td>\n",
       "      <td>4</td>\n",
       "      <td>0.114697</td>\n",
       "    </tr>\n",
       "    <tr>\n",
       "      <th>4</th>\n",
       "      <td>1</td>\n",
       "      <td>0</td>\n",
       "      <td>1</td>\n",
       "      <td>NaN</td>\n",
       "      <td>3.0</td>\n",
       "      <td>0</td>\n",
       "      <td>0</td>\n",
       "      <td>1</td>\n",
       "      <td>1</td>\n",
       "      <td>0</td>\n",
       "      <td>...</td>\n",
       "      <td>1</td>\n",
       "      <td>155</td>\n",
       "      <td>75</td>\n",
       "      <td>25</td>\n",
       "      <td>2</td>\n",
       "      <td>0</td>\n",
       "      <td>0</td>\n",
       "      <td>46705</td>\n",
       "      <td>4</td>\n",
       "      <td>0.114697</td>\n",
       "    </tr>\n",
       "  </tbody>\n",
       "</table>\n",
       "<p>5 rows × 27 columns</p>\n",
       "</div>"
      ],
      "text/plain": [
       "   ID  RP  SP  RP_journey  SP_task  av_car  av_bus  av_air  av_rail  time_car  \\\n",
       "0   1   1   0         1.0      NaN       0       0       1        1         0   \n",
       "1   1   1   0         2.0      NaN       0       0       1        1         0   \n",
       "2   1   0   1         NaN      1.0       0       0       1        1         0   \n",
       "3   1   0   1         NaN      2.0       0       0       1        1         0   \n",
       "4   1   0   1         NaN      3.0       0       0       1        1         0   \n",
       "\n",
       "   ...  service_air  time_rail  cost_rail  access_rail  service_rail  female  \\\n",
       "0  ...            0        140         55            5             0       0   \n",
       "1  ...            0        170         45           20             0       0   \n",
       "2  ...            3        170         35            5             2       0   \n",
       "3  ...            1        120         75            5             3       0   \n",
       "4  ...            1        155         75           25             2       0   \n",
       "\n",
       "   business  income  choice  income_z  \n",
       "0         0   46705       4  0.114697  \n",
       "1         0   46705       4  0.114697  \n",
       "2         0   46705       4  0.114697  \n",
       "3         0   46705       4  0.114697  \n",
       "4         0   46705       4  0.114697  \n",
       "\n",
       "[5 rows x 27 columns]"
      ]
     },
     "execution_count": 18,
     "metadata": {},
     "output_type": "execute_result"
    }
   ],
   "source": [
    "income_mean = df[\"income\"].mean()\n",
    "income_std = df[\"income\"].std()\n",
    "df[\"income_z\"] = (df[\"income\"] - income_mean) / income_std\n",
    "df.head(5)"
   ]
  },
  {
   "cell_type": "markdown",
   "id": "bfc894a8",
   "metadata": {},
   "source": [
    "This computes `income_z` where a value of 0 means the income is exactly average, +1 means one standard deviation above average, etc. For context, if mean income ~44748 and std ~ around maybe 17000, an income of 60k might have `income_z` ~ +1. We include this to show Pandas operations on columns (which operate elementwise, no loop needed)."
   ]
  },
  {
   "cell_type": "markdown",
   "id": "01ee67d8",
   "metadata": {},
   "source": [
    "Similarly, we could standardize travel times or costs if needed:"
   ]
  },
  {
   "cell_type": "code",
   "execution_count": 19,
   "id": "76998952",
   "metadata": {},
   "outputs": [
    {
     "data": {
      "text/html": [
       "<div>\n",
       "<style scoped>\n",
       "    .dataframe tbody tr th:only-of-type {\n",
       "        vertical-align: middle;\n",
       "    }\n",
       "\n",
       "    .dataframe tbody tr th {\n",
       "        vertical-align: top;\n",
       "    }\n",
       "\n",
       "    .dataframe thead th {\n",
       "        text-align: right;\n",
       "    }\n",
       "</style>\n",
       "<table border=\"1\" class=\"dataframe\">\n",
       "  <thead>\n",
       "    <tr style=\"text-align: right;\">\n",
       "      <th></th>\n",
       "      <th>time_car</th>\n",
       "      <th>time_car_z</th>\n",
       "    </tr>\n",
       "  </thead>\n",
       "  <tbody>\n",
       "    <tr>\n",
       "      <th>0</th>\n",
       "      <td>0</td>\n",
       "      <td>-1.771253</td>\n",
       "    </tr>\n",
       "    <tr>\n",
       "      <th>1</th>\n",
       "      <td>0</td>\n",
       "      <td>-1.771253</td>\n",
       "    </tr>\n",
       "    <tr>\n",
       "      <th>2</th>\n",
       "      <td>0</td>\n",
       "      <td>-1.771253</td>\n",
       "    </tr>\n",
       "    <tr>\n",
       "      <th>3</th>\n",
       "      <td>0</td>\n",
       "      <td>-1.771253</td>\n",
       "    </tr>\n",
       "    <tr>\n",
       "      <th>4</th>\n",
       "      <td>0</td>\n",
       "      <td>-1.771253</td>\n",
       "    </tr>\n",
       "  </tbody>\n",
       "</table>\n",
       "</div>"
      ],
      "text/plain": [
       "   time_car  time_car_z\n",
       "0         0   -1.771253\n",
       "1         0   -1.771253\n",
       "2         0   -1.771253\n",
       "3         0   -1.771253\n",
       "4         0   -1.771253"
      ]
     },
     "execution_count": 19,
     "metadata": {},
     "output_type": "execute_result"
    }
   ],
   "source": [
    "time_car_mean = df[\"time_car\"].mean()\n",
    "time_car_std = df[\"time_car\"].std()\n",
    "df[\"time_car_z\"] = (df[\"time_car\"] - time_car_mean) / time_car_std\n",
    "df[[\"time_car\", \"time_car_z\"]].head(5)"
   ]
  },
  {
   "cell_type": "markdown",
   "id": "ffafe88a",
   "metadata": {},
   "source": [
    "and so on for each mode's time or cost. However, remember that zeros for unavailable modes could skew the mean (since those zeros are not actual travel times but placeholders). For demonstration, let's focus on some meaningful analysis rather than standardizing everything blindly."
   ]
  },
  {
   "cell_type": "markdown",
   "id": "18b525f8",
   "metadata": {},
   "source": [
    "**Computing Mode Shares**"
   ]
  },
  {
   "cell_type": "markdown",
   "id": "59592a48",
   "metadata": {},
   "source": [
    "A fundamental analysis in mode choice is to look at the market share of each alternative (how often each mode is chosen in the dataset). We can compute this easily with Pandas:"
   ]
  },
  {
   "cell_type": "code",
   "execution_count": 20,
   "id": "64dcc1a0",
   "metadata": {},
   "outputs": [
    {
     "data": {
      "text/plain": [
       "choice\n",
       "4    43.76\n",
       "1    28.48\n",
       "3    21.71\n",
       "2     6.05\n",
       "Name: proportion, dtype: float64"
      ]
     },
     "execution_count": 20,
     "metadata": {},
     "output_type": "execute_result"
    }
   ],
   "source": [
    "mode_share=(100*df[\"choice\"].value_counts(normalize=True)).round(2)\n",
    "mode_share"
   ]
  },
  {
   "cell_type": "code",
   "execution_count": 21,
   "id": "cd2b92e9",
   "metadata": {},
   "outputs": [
    {
     "data": {
      "text/plain": [
       "<Axes: title={'center': 'Mode Shares (%)'}, xlabel='Mode', ylabel='Percentage'>"
      ]
     },
     "execution_count": 21,
     "metadata": {},
     "output_type": "execute_result"
    },
    {
     "data": {
      "image/png": "[encoded data removed]",
      "text/plain": [
       "<Figure size 640x480 with 1 Axes>"
      ]
     },
     "metadata": {},
     "output_type": "display_data"
    }
   ],
   "source": [
    "#mode_share.index = [\"Rail\", \"Car\", \"Air\", \"Bus\"]\n",
    "mode_share.plot(kind=\"bar\", title=\"Mode Shares (%)\", ylabel=\"Percentage\", xlabel=\"Mode\")"
   ]
  },
  {
   "cell_type": "markdown",
   "id": "626ed8d0",
   "metadata": {},
   "source": [
    "From this, we can interpret: e.g., Rail was chosen in about 44% of observations, Car in 28%, Air ~22%, Bus ~6%. This suggests, in the survey scenarios, Rail is the most preferred mode on average (if available), but the others also capture significant shares. These shares combine both RP and SP data; one could separate them (using `df[df[\"RP\"]==1]` vs SP) to see differences in real vs stated contexts, but we won't digress that far here."
   ]
  },
  {
   "cell_type": "code",
   "execution_count": 22,
   "id": "0c375124",
   "metadata": {},
   "outputs": [],
   "source": [
    "#### Stop here ###"
   ]
  },
  {
   "cell_type": "markdown",
   "id": "a15ff66a",
   "metadata": {},
   "source": [
    "**Inspecting and Interpreting Variables**"
   ]
  },
  {
   "cell_type": "markdown",
   "id": "520b9c6f",
   "metadata": {},
   "source": [
    "Let's do a bit of exploration to connect data with behavior:\n",
    "\n",
    "- What is the average travel time and cost by mode (for the chosen mode vs alternatives)?\n",
    "\n",
    "- How do individual characteristics like income or gender relate to choices?\n",
    "\n",
    "We can use Pandas grouping for this. For example, to find the average income of people who chose each mode:"
   ]
  },
  {
   "cell_type": "code",
   "execution_count": 23,
   "id": "9f1f7653",
   "metadata": {},
   "outputs": [
    {
     "name": "stdout",
     "output_type": "stream",
     "text": [
      "Average income by chosen mode:\n",
      " choice\n",
      "1    43832.023266\n",
      "2    36835.694215\n",
      "3    47212.312608\n",
      "4    45215.818338\n",
      "Name: income, dtype: float64\n"
     ]
    }
   ],
   "source": [
    "avg_income_by_choice = df.groupby(\"choice\")[\"income\"].mean()\n",
    "print(\"Average income by chosen mode:\\n\", avg_income_by_choice)"
   ]
  },
  {
   "cell_type": "markdown",
   "id": "46e3f487",
   "metadata": {},
   "source": [
    "If we see that air choosers have higher income on average than bus, rail, or car choosers, that aligns with expectations: higher-income travelers may prefer faster or more premium modes. Lower-income travelers might be more cost-sensitive and opt for bus. This is a hypothesis we can start to see in the data."
   ]
  },
  {
   "cell_type": "markdown",
   "id": "cce86d4f",
   "metadata": {},
   "source": [
    "We can also examine the effect of the female dummy (gender) on mode choice:"
   ]
  },
  {
   "cell_type": "code",
   "execution_count": 24,
   "id": "ca836528",
   "metadata": {},
   "outputs": [
    {
     "name": "stdout",
     "output_type": "stream",
     "text": [
      "Percentage of female travellers by chosen mode:\n",
      " choice\n",
      "1    47.1\n",
      "2    46.5\n",
      "3    48.1\n",
      "4    47.8\n",
      "Name: female, dtype: float64\n"
     ]
    }
   ],
   "source": [
    "share_female = df.groupby(\"choice\")[\"female\"].mean() * 100  # % of observations that are female, by mode chosen\n",
    "print(\"Percentage of female travellers by chosen mode:\\n\", share_female.round(1))\n"
   ]
  },
  {
   "cell_type": "markdown",
   "id": "cc8f8679",
   "metadata": {},
   "source": [
    "We see that among bus choices 46% are female but among air choices 48% are female, it might suggest some gender preference or differences in trip contexts (e.g., maybe females in this sample were a bit more likely to choose air). However, be cautious: this could also reflect correlation with other factors (like trip purpose or income)."
   ]
  },
  {
   "cell_type": "markdown",
   "id": "0f84f460",
   "metadata": {},
   "source": [
    "Another useful analysis: **trip purpose** (business or not) effect. The dataset has a `business` dummy (1 for business trips). Business travelers might have different preferences (often value time more than cost, possibly choosing faster modes). We can check mode share split by business vs non-business:"
   ]
  },
  {
   "cell_type": "code",
   "execution_count": 25,
   "id": "bdb183d3",
   "metadata": {},
   "outputs": [
    {
     "name": "stdout",
     "output_type": "stream",
     "text": [
      "business  choice\n",
      "0         1         34.2\n",
      "          2          8.7\n",
      "          3         16.2\n",
      "          4         40.9\n",
      "1         1         16.9\n",
      "          2          0.8\n",
      "          3         32.8\n",
      "          4         49.5\n",
      "Name: proportion, dtype: float64\n"
     ]
    }
   ],
   "source": [
    "business_share = df.groupby(\"business\")[\"choice\"].value_counts(normalize=True).sort_index() * 100\n",
    "print(business_share.round(1))\n"
   ]
  },
  {
   "cell_type": "markdown",
   "id": "7fc5ebd5",
   "metadata": {},
   "source": [
    "This gives two blocks (business=0 and business=1) each with the percentage choosing each mode. We see, for example, that among business trips, air and rail shares are higher (time is critical), whereas among non-business, cost-sensitive modes (bus and car) have higher share."
   ]
  },
  {
   "cell_type": "markdown",
   "id": "588450f4",
   "metadata": {},
   "source": [
    "Such insights connect data to behavioral interpretation:\n",
    "\n",
    "- Higher mode share for air in business trips would indicate business travelers often fly to save time (despite cost).\n",
    "\n",
    "- Higher bus usage among non-business could imply leisure or personal travelers trade time for money savings."
   ]
  },
  {
   "cell_type": "markdown",
   "id": "da29f15c",
   "metadata": {},
   "source": [
    "**Z-Score Example: Standardizing Travel Time**"
   ]
  },
  {
   "cell_type": "markdown",
   "id": "131db693",
   "metadata": {},
   "source": [
    "We mentioned standardization. Let's demonstrate z-scoring a variable fully and explain why it's done. We did income above; let's do travel time for one mode for practice:"
   ]
  },
  {
   "cell_type": "code",
   "execution_count": 26,
   "id": "a5801e32",
   "metadata": {},
   "outputs": [
    {
     "name": "stdout",
     "output_type": "stream",
     "text": [
      "Car travel time - mean: 242.575 std: 136.95106817540452\n",
      "   time_car  time_car_z\n",
      "0         0   -1.771253\n",
      "1         0   -1.771253\n",
      "2         0   -1.771253\n"
     ]
    }
   ],
   "source": [
    "df[\"time_car_z\"] = (df[\"time_car\"] - df[\"time_car\"].mean()) / df[\"time_car\"].std()\n",
    "print(\"Car travel time - mean:\", df[\"time_car\"].mean(), \"std:\", df[\"time_car\"].std())\n",
    "print(df[[\"time_car\", \"time_car_z\"]].head(3))\n"
   ]
  },
  {
   "cell_type": "markdown",
   "id": "0bcf3af8",
   "metadata": {},
   "source": [
    "This outputs the mean and std (mean ~242 min, std maybe ~137 min). And first rows show `time_car` alongside a `time_car_z`. Standardizing is often done before modeling if variables have very different scales, to make model convergence easier or to compare effect sizes. For example, a coefficient on a z-scored variable indicates impact per one std dev change."
   ]
  },
  {
   "cell_type": "markdown",
   "id": "5c566351",
   "metadata": {},
   "source": [
    "In a discrete choice context, you might standardize variables like income or travel time if you were focusing on relative importance. However, one must be careful interpreting standardized coefficients back to real-world meaning. In our workshop, we focus on understanding raw units too (e.g., Value of Time in £/hour which comes from raw coefficients)."
   ]
  },
  {
   "cell_type": "markdown",
   "id": "bf0d2df9",
   "metadata": {},
   "source": [
    "**Cleaning: Handling Missing or Invalid Data**"
   ]
  },
  {
   "cell_type": "markdown",
   "id": "63b69a62",
   "metadata": {},
   "source": [
    "For completeness: if this were a raw survey, we might have missing values or data entry errors. Pandas offers `df.isnull().sum()` to count missing values per column, and methods like `dropna()` or `fillna()` to handle them. In this provided dataset, we don't expect missing values except those intentionally marked (like 0 for unavailable). We should treat those carefully as described (perhaps filter out or ignore when calculating means for a specific mode attribute)."
   ]
  },
  {
   "cell_type": "markdown",
   "id": "0c660513",
   "metadata": {},
   "source": [
    "For example, if we want the actual average travel time for trips where car was available, we should exclude the rows where `av_car=0` (because then `time_car=0` is just a placeholder). We can do:"
   ]
  },
  {
   "cell_type": "code",
   "execution_count": 27,
   "id": "8239c86c",
   "metadata": {},
   "outputs": [
    {
     "name": "stdout",
     "output_type": "stream",
     "text": [
      "Average car travel time (when available): 311.793059125964\n"
     ]
    }
   ],
   "source": [
    "car_time_available = df.loc[df[\"av_car\"] == 1, \"time_car\"]\n",
    "print(\"Average car travel time (when available):\", car_time_available.mean())\n"
   ]
  },
  {
   "cell_type": "markdown",
   "id": "08b908f0",
   "metadata": {},
   "source": [
    "This gives a more meaningful figure. Similarly for other modes."
   ]
  },
  {
   "cell_type": "markdown",
   "id": "8ae4de52",
   "metadata": {},
   "source": [
    "**Summary of Findings (so far)**\n",
    "\n",
    "Using Pandas and NumPy, we have:\n",
    "\n",
    "- Loaded and inspected a choice dataset (size, types, basic stats).\n",
    "\n",
    "- Computed new columns (e.g., standardized income).\n",
    "\n",
    "- Calculated mode shares and basic group statistics.\n",
    "\n",
    "- Begun interpreting patterns (e.g., mode shares, income effect, gender/purpose breakdown)."
   ]
  },
  {
   "cell_type": "markdown",
   "id": "926f81a6",
   "metadata": {},
   "source": [
    "These data exploration skills are crucial before modeling: they help you understand the context and spot anything unusual (like if a mode is rarely chosen, or if a variable has implausible values)."
   ]
  },
  {
   "cell_type": "markdown",
   "id": "4635f686",
   "metadata": {},
   "source": [
    "Up next, in **Notebook 03**, we will take this same mode choice data and learn how to visualize various aspects of it using Python plotting libraries. Visualization will provide another perspective on the data, allowing us to see distributions and relationships that numbers alone might not fully reveal."
   ]
  }
 ],
 "metadata": {
  "kernelspec": {
   "display_name": ".venv_2",
   "language": "python",
   "name": "python3"
  },
  "language_info": {
   "codemirror_mode": {
    "name": "ipython",
    "version": 3
   },
   "file_extension": ".py",
   "mimetype": "text/x-python",
   "name": "python",
   "nbconvert_exporter": "python",
   "pygments_lexer": "ipython3",
   "version": "3.12.2"
  }
 },
 "nbformat": 4,
 "nbformat_minor": 5
}
