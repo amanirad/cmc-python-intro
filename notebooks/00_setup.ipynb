{
 "cells": [
  {
   "cell_type": "markdown",
   "id": "0bc03d86",
   "metadata": {},
   "source": [
    "# Notebook 00: Setup and Tools"
   ]
  },
  {
   "cell_type": "markdown",
   "id": "53fee305",
   "metadata": {},
   "source": [
    "**Objective:** Guide participants through setting up their Python environment and tools before diving into coding. We will install and configure VS Code, Git/GitHub, and GitHub Copilot, create a virtual environment for the project, manage dependencies, and verify that everything is working. By the end of this notebook, you should have a functional development environment and be ready to start coding in subsequent notebooks."
   ]
  },
  {
   "cell_type": "markdown",
   "id": "c052463b",
   "metadata": {},
   "source": [
    "## 00.1 Installing VS Code and Python"
   ]
  },
  {
   "cell_type": "markdown",
   "id": "9e63efc9",
   "metadata": {},
   "source": [
    "* **Install VS Code:** Download and install [Visual Studio Code (VS Code)](https://code.visualstudio.com/Download) for your operating system. VS Code is a lightweight but powerful code editor, and we'll use it to write and run our Python notebooks. During installation, also install the Python extension for VS Code, which provides rich support for editing and running Python and Jupyter notebooks."
   ]
  },
  {
   "cell_type": "markdown",
   "id": "3e50a10b",
   "metadata": {},
   "source": [
    "* **Install Python 3:** Ensure you have Python 3.x installed on your system. You can download Python from the official website or use a package manager. Verify the installation by running `python --version` (Linux/Mac) or `py --version` (Windows) in a terminal."
   ]
  },
  {
   "cell_type": "markdown",
   "id": "7b8e7470",
   "metadata": {},
   "source": [
    "**Tip:** On Windows, during Python installation, check \"Add Python to PATH\". On macOS, consider using Homebrew (`brew install python3`). On Linux, the system Python 3 works, but you may need to install pip."
   ]
  },
  {
   "cell_type": "markdown",
   "id": "51c203a9",
   "metadata": {},
   "source": [
    "## 00.2 Setting Up GitHub and GitHub Copilot in VS Code"
   ]
  },
  {
   "cell_type": "markdown",
   "id": "2478dd12",
   "metadata": {},
   "source": [
    "* **Git and GitHub:** We will use Git for version control and GitHub to host our project repository. Install Git if not already installed (from git-scm.com). In VS Code, you can use the built-in source control panel to manage Git. Clone the repository (or initialize a new one) for this workshop in your working directory. If starting from scratch, run in terminal:\n",
    "\n",
    "```bash \n",
    "git init\n",
    "git remote add origin <your-github-repo-url>\n",
    "```\n",
    "\n",
    "Create a GitHub account If you don't have already one, sign up here: <https://github.com/>. We recommend using your personal email to create an account.\n",
    "\n",
    "Create a GitHub repository named, for example, `cmc-python-intro`, and connect it to your local repo. Commit the initial structure (notebooks, data, etc.) and push to GitHub. VS Code’s Source Control view also allows staging, committing, and pushing changes through a GUI."
   ]
  },
  {
   "cell_type": "markdown",
   "id": "8fd47c69",
   "metadata": {},
   "source": [
    "* **GitHub Authentication:** VS Code can simplify authentication. Use VS Code Accounts: sign in to GitHub from VS Code (look for the Accounts icon or use the Command Palette to find \"GitHub: Sign in\"). This will let you push/pull without constantly entering credentials. For example, when you make changes locally:\n",
    "\n",
    "```bash\n",
    "git status              # see what changed\n",
    "git add -A              # stage all\n",
    "git commit -m \"Your message\"\n",
    "git push\n",
    "```"
   ]
  },
  {
   "cell_type": "markdown",
   "id": "f93c6d1d",
   "metadata": {},
   "source": [
    "* **GitHub Copilot:** Copilot is an AI coding assistant that can help by suggesting code. To set it up, make sure you have access. In VS Code, install the GitHub Copilot extension. After installation, click the Copilot icon in the VS Code status bar and follow the prompts to sign in with GitHub and enable Copilot. Once signed in and authorized, Copilot will start suggesting code as you write (you'll see ghost text suggestions that you can accept with <kbd>Tab</kbd>)."
   ]
  },
  {
   "cell_type": "markdown",
   "id": "6c91474f",
   "metadata": {},
   "source": [
    "> *Note:* Copilot can speed up coding, but always review its suggestions for correctness.\n",
    "> It’s a helpful assistant, but *you* are in charge of the logic.\n"
   ]
  },
  {
   "cell_type": "markdown",
   "id": "98a2441d",
   "metadata": {},
   "source": [
    "## 00.3 Creating a Python Virtual Environment"
   ]
  },
  {
   "cell_type": "markdown",
   "id": "ca0c360e",
   "metadata": {},
   "source": []
  }
 ],
 "metadata": {
  "language_info": {
   "name": "python"
  }
 },
 "nbformat": 4,
 "nbformat_minor": 5
}
