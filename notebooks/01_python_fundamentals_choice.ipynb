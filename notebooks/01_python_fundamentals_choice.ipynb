{
 "cells": [
  {
   "cell_type": "markdown",
   "id": "5184f390",
   "metadata": {},
   "source": [
    "# Notebook 01: Python Fundamentals via Choice Modeling"
   ]
  },
  {
   "cell_type": "markdown",
   "id": "b72d1787",
   "metadata": {},
   "source": [
    "**Objective:** Introduce core Python programming fundamentals (variables, data types, data structures, functions, and control flow) and illustrate them with simple examples. We then apply these basics to a toy choice modeling scenario: a softmax-based utility model for choosing among travel modes. By the end of this notebook, participants will be comfortable with basic Python syntax and see how these concepts translate to discrete choice contexts."
   ]
  },
  {
   "cell_type": "markdown",
   "id": "21de9550",
   "metadata": {},
   "source": [
    "## 01.1 Variables and Data Types"
   ]
  },
  {
   "cell_type": "markdown",
   "id": "2776e267",
   "metadata": {},
   "source": [
    "In Python, you can store data in variables. A variable is essentially a name that refers to a value. You create a variable with the assignment operator `=`. Python is dynamically typed, meaning you don't declare types explicitly; the type is inferred from the value assigned."
   ]
  },
  {
   "cell_type": "markdown",
   "id": "419a0862",
   "metadata": {},
   "source": [
    "Examples of basic data types:"
   ]
  },
  {
   "cell_type": "code",
   "execution_count": 1,
   "id": "8821d1e2",
   "metadata": {},
   "outputs": [],
   "source": [
    "# Assigning variables of different types\n",
    "traveler_name = \"Alice\"        # str (string)\n",
    "age = 30                      # int (integer)\n",
    "ticket_price = 15.50          # float (floating-point number)\n",
    "is_student = True             # bool (Boolean)\n"
   ]
  },
  {
   "cell_type": "markdown",
   "id": "700001b4",
   "metadata": {},
   "source": [
    "Here, `traveler_name` is a string (text) containing `\"Alice\"`, `age` is an integer, `ticket_price` is a floating-point number, and `is_student` is a Boolean value (True/False). We can check their types using the built-in `type()` function:"
   ]
  },
  {
   "cell_type": "code",
   "execution_count": 3,
   "id": "756f1dd2",
   "metadata": {},
   "outputs": [
    {
     "name": "stdout",
     "output_type": "stream",
     "text": [
      "<class 'str'> <class 'int'> <class 'float'> <class 'bool'>\n"
     ]
    }
   ],
   "source": [
    "print(type(traveler_name), type(age), type(ticket_price), type(is_student))"
   ]
  },
  {
   "cell_type": "markdown",
   "id": "d42e0eda",
   "metadata": {},
   "source": [
    "Variables allow us to label data and reuse it. We will use variables to store things like travel times, costs, choices, etc., in choice modelling examples."
   ]
  },
  {
   "cell_type": "markdown",
   "id": "9174c7c6",
   "metadata": {},
   "source": [
    "> **Note:** Python variable names should start with a letter and can contain letters, numbers, and underscores. They are case-sensitive (`Mode` and `mode` would be different variables)."
   ]
  },
  {
   "cell_type": "markdown",
   "id": "d3c868ed",
   "metadata": {},
   "source": [
    "## 01.2 Data Structures: Lists and Dictionaries"
   ]
  },
  {
   "cell_type": "markdown",
   "id": "d939a1bb",
   "metadata": {},
   "source": [
    "**Lists:** A list in Python is an ordered, mutable sequence of items. Lists are created with square brackets `[]`. They can contain elements of any type (even mixed types, though usually we keep them homogeneous). Use lists to store collections of related items, like a list of mode names or a list of travel times."
   ]
  },
  {
   "cell_type": "code",
   "execution_count": 6,
   "id": "78293947",
   "metadata": {},
   "outputs": [
    {
     "name": "stdout",
     "output_type": "stream",
     "text": [
      "Modes: ['Car', 'Bus', 'Train']\n",
      "First mode: Car\n",
      "Updated modes: ['Car', 'Bus', 'Train', 'Air']\n"
     ]
    }
   ],
   "source": [
    "# List of available travel modes\n",
    "modes = [\"Car\", \"Bus\", \"Train\"]\n",
    "print(\"Modes:\", modes)\n",
    "print(\"First mode:\", modes[0])   # Indexing (0-based: 0 is first item)\n",
    "modes.append(\"Air\")              # Add an element to the list\n",
    "print(\"Updated modes:\", modes) "
   ]
  },
  {
   "cell_type": "markdown",
   "id": "343198e5",
   "metadata": {},
   "source": [
    "Lists preserve the order of insertion and allow duplicates. You can modify elements (`modes[1] = \"Coach\"` would change \"Bus\" to \"Coach\"), iterate over them, and use built-in functions like `len(modes)` (number of items)."
   ]
  },
  {
   "cell_type": "code",
   "execution_count": 9,
   "id": "cfd756dd",
   "metadata": {},
   "outputs": [
    {
     "name": "stdout",
     "output_type": "stream",
     "text": [
      "Updated modes: ['Car', 'Coach', 'Train', 'Air']\n",
      "Number of modes: 4\n"
     ]
    }
   ],
   "source": [
    "modes[1] = \"Coach\"\n",
    "print(\"Updated modes:\", modes) \n",
    "print(\"Number of modes:\", len(modes))  # Length of the list"
   ]
  },
  {
   "cell_type": "markdown",
   "id": "d9f7f53e",
   "metadata": {},
   "source": [
    "**Dictionaries:** A dictionary is an unordered collection of key-value pairs enclosed in curly braces `{}`. Each entry maps a key to a value, like a real dictionary maps words to definitions. Use dictionaries to structure data by named attributes."
   ]
  },
  {
   "cell_type": "markdown",
   "id": "4d51e91e",
   "metadata": {},
   "source": [
    "Example:"
   ]
  },
  {
   "cell_type": "code",
   "execution_count": 11,
   "id": "37d09f49",
   "metadata": {},
   "outputs": [
    {
     "name": "stdout",
     "output_type": "stream",
     "text": [
      "Travel time by Car: 30 minutes\n",
      "Modes and times: {'Car': 30, 'Bus': 45, 'Train': 40, 'Air': 60}\n"
     ]
    }
   ],
   "source": [
    "# Dictionary of travel times for each mode (in minutes)\n",
    "travel_time = {\"Car\": 30, \"Bus\": 45, \"Train\": 40}\n",
    "print(\"Travel time by Car:\", travel_time[\"Car\"], \"minutes\")\n",
    "# Add a new key-value pair for Air\n",
    "travel_time[\"Air\"] = 60\n",
    "print(\"Modes and times:\", travel_time)"
   ]
  },
  {
   "cell_type": "markdown",
   "id": "5d082643",
   "metadata": {},
   "source": [
    "Here, `\"Car\"`, `\"Bus\"`, etc. are keys (must be unique and immutable, typically strings or numbers), and the numbers are values. We accessed the Car time with `travel_time[\"Car\"]`. We then added `\"Air\": 60`. Dictionaries are great for structured data – e.g., storing attributes of an alternative (mode) by name."
   ]
  },
  {
   "cell_type": "code",
   "execution_count": 12,
   "id": "546acf08",
   "metadata": {},
   "outputs": [
    {
     "name": "stdout",
     "output_type": "stream",
     "text": [
      "All modes: ['Car', 'Bus', 'Train', 'Air']\n",
      "All travel times: [30, 45, 40, 60]\n",
      "Train attributes: {'cost': 8.0, 'comfort': 6}\n",
      "Air cost: 50.0\n",
      "Bus comfort: 5\n"
     ]
    }
   ],
   "source": [
    "print(\"All modes:\", list(travel_time.keys()))        # List all modes\n",
    "print(\"All travel times:\", list(travel_time.values()))  # List all travel times\n",
    "\n",
    "# storing attributes of an alternative (mode) by name\n",
    "mode_attributes = {\n",
    "    \"Car\": {\"cost\": 10.0, \"comfort\": 7},\n",
    "    \"Bus\": {\"cost\": 5.0, \"comfort\": 5},\n",
    "    \"Train\": {\"cost\": 8.0, \"comfort\": 6},\n",
    "    \"Air\": {\"cost\": 50.0, \"comfort\": 9}\n",
    "}\n",
    "print(\"Train attributes:\", mode_attributes[\"Train\"])\n",
    "print(\"Air cost:\", mode_attributes[\"Air\"][\"cost\"])\n",
    "print(\"Bus comfort:\", mode_attributes[\"Bus\"][\"comfort\"])"
   ]
  },
  {
   "cell_type": "code",
   "execution_count": 14,
   "id": "d3bdcf24",
   "metadata": {},
   "outputs": [
    {
     "name": "stdout",
     "output_type": "stream",
     "text": [
      "Utility for Car: 1.00\n",
      "Utility for Bus: -0.25\n",
      "Utility for Train: 0.20\n",
      "Utility for Air: -3.50\n"
     ]
    }
   ],
   "source": [
    "# mode_attributes could be used in a choice model to evaluate alternatives\n",
    "# based on cost, comfort, and travel time stored in the dictionaries.\n",
    "# For example, calculating a simple utility score for each mode\n",
    "for mode, attrs in mode_attributes.items():\n",
    "    time = travel_time.get(mode, 999)  # Default to 999 if mode not found\n",
    "    utility = -0.1 * attrs[\"cost\"] + 0.5 * attrs[\"comfort\"] - 0.05 * time\n",
    "    print(f\"Utility for {mode}: {utility:.2f}\")"
   ]
  },
  {
   "cell_type": "markdown",
   "id": "26770224",
   "metadata": {},
   "source": [
    "We will often use dictionaries to hold parameters or results in modeling (for example, a dictionary of utility coefficients by variable name, or a record of outputs)."
   ]
  },
  {
   "cell_type": "markdown",
   "id": "39ff0158",
   "metadata": {},
   "source": [
    "**List of dictionaries:** Sometimes you'll have a list of records, where each record is a dictionary. This could represent dataset-like structures (each dict is an observation). For instance, a list of individuals each with their attributes, or a list of alternatives each with its characteristics. Python's flexibility with these structures is useful for simple simulations."
   ]
  },
  {
   "cell_type": "code",
   "execution_count": 18,
   "id": "4d877704",
   "metadata": {},
   "outputs": [
    {
     "name": "stdout",
     "output_type": "stream",
     "text": [
      "Individuals: [{'name': 'Alice', 'age': 30, 'income': 70000}, {'name': 'Bob', 'age': 25, 'income': 50000}, {'name': 'Charlie', 'age': 35, 'income': 100000}]\n",
      "Transport modes: [{'mode': 'car', 'cost': 0.5, 'comfort': 0.8, 'time': 30}, {'mode': 'bus', 'cost': 0.2, 'comfort': 0.6, 'time': 45}, {'mode': 'bike', 'cost': 0.1, 'comfort': 0.7, 'time': 60}]\n",
      "Alice is 30 years old with an income of $70000.\n",
      "Bob is 25 years old with an income of $50000.\n",
      "Charlie is 35 years old with an income of $100000.\n",
      "Transport mode: car, Cost: 0.5, Comfort: 0.8, Time: 30 minutes\n",
      "Transport mode: bus, Cost: 0.2, Comfort: 0.6, Time: 45 minutes\n",
      "Transport mode: bike, Cost: 0.1, Comfort: 0.7, Time: 60 minutes\n"
     ]
    }
   ],
   "source": [
    "# Example: List of individuals with attributes\n",
    "individuals = [\n",
    "    {\"name\": \"Alice\", \"age\": 30, \"income\": 70000},\n",
    "    {\"name\": \"Bob\", \"age\": 25, \"income\": 50000},\n",
    "    {\"name\": \"Charlie\", \"age\": 35, \"income\": 100000}\n",
    "]\n",
    "\n",
    "# Example: List of alternatives with characteristics\n",
    "transport_modes = [\n",
    "    {\"mode\": \"car\", \"cost\": 0.5, \"comfort\": 0.8, \"time\": 30},\n",
    "    {\"mode\": \"bus\", \"cost\": 0.2, \"comfort\": 0.6, \"time\": 45},\n",
    "    {\"mode\": \"bike\", \"cost\": 0.1, \"comfort\": 0.7, \"time\": 60}\n",
    "]\n",
    "print(\"Individuals:\", individuals)\n",
    "print(\"Transport modes:\", transport_modes)\n",
    "\n",
    "# Accessing data from the list of dictionaries\n",
    "for person in individuals:\n",
    "    print(f\"{person['name']} is {person['age']} years old with an income of ${person['income']}.\")\n",
    "\n",
    "for mode in transport_modes:\n",
    "    print(f\"Transport mode: {mode['mode']}, Cost: {mode['cost']}, Comfort: {mode['comfort']}, Time: {mode['time']} minutes\")\n"
   ]
  },
  {
   "cell_type": "markdown",
   "id": "add7c49d",
   "metadata": {},
   "source": [
    "## 01.3 Introducing NumPy Arrays"
   ]
  },
  {
   "cell_type": "markdown",
   "id": "9e20aa31",
   "metadata": {},
   "source": [
    "While Python lists are very flexible, for numeric data we often use **NumPy arrays** for efficiency. NumPy (Numerical Python) provides a multi-dimensional array object and operations to process arrays quickly"
   ]
  },
  {
   "cell_type": "markdown",
   "id": "398205ba",
   "metadata": {},
   "source": [
    "A NumPy array is like a grid of values (all of the same type) indexed by tuple(s) of nonnegative integers. They are optimized for numeric computations, enabling vectorized operations (operating on whole arrays at once)."
   ]
  },
  {
   "cell_type": "markdown",
   "id": "e7e37b93",
   "metadata": {},
   "source": [
    "First, import NumPy:"
   ]
  },
  {
   "cell_type": "code",
   "execution_count": 21,
   "id": "158fd845",
   "metadata": {},
   "outputs": [],
   "source": [
    "import numpy as np\n"
   ]
  },
  {
   "cell_type": "markdown",
   "id": "09a9a6d2",
   "metadata": {},
   "source": [
    "Create a NumPy array from a Python list:"
   ]
  },
  {
   "cell_type": "code",
   "execution_count": 24,
   "id": "1f9c6394",
   "metadata": {},
   "outputs": [
    {
     "name": "stdout",
     "output_type": "stream",
     "text": [
      "List * 2: [30, 45, 40, 60, 30, 45, 40, 60]\n",
      "Array * 2: [ 60  90  80 120]\n"
     ]
    }
   ],
   "source": [
    "times_list = [30, 45, 40, 60]               # regular Python list\n",
    "times_array = np.array(times_list)          # NumPy array\n",
    "print(\"List * 2:\", times_list * 2)          # List * 2 concatenates the list with itself\n",
    "print(\"Array * 2:\", times_array * 2)        # Array * 2 multiplies each element by 2"
   ]
  },
  {
   "cell_type": "markdown",
   "id": "79be0fc9",
   "metadata": {},
   "source": [
    ">  Notice the difference: multiplying a Python list by 2 repeats it (because for lists, `*` is defined as repetition), whereas multiplying a NumPy array by 2 performs element-wise numerical doubling. This vectorization is powerful for mathematical operations and is much faster than using loops for large arrays."
   ]
  },
  {
   "cell_type": "code",
   "execution_count": null,
   "id": "e8dcbbf8",
   "metadata": {},
   "outputs": [
    {
     "name": "stdout",
     "output_type": "stream",
     "text": [
      "Array mean: 43.75\n",
      "Array sum: 175\n",
      "Array sqrt: [5.47722558 6.70820393 6.32455532 7.74596669]\n"
     ]
    }
   ],
   "source": [
    "print(\"Array mean:\", np.mean(times_array))    # Mean of the array\n",
    "print(\"Array sum:\", np.sum(times_array))      # Sum of the array\n",
    "print(\"Array sqrt:\", np.sqrt(times_array))    # Square root of each element"
   ]
  },
  {
   "cell_type": "markdown",
   "id": "4e4c2d3b",
   "metadata": {},
   "source": [
    "Creating a 2D NumPy array (matrix) for travel times of different modes over different distances:"
   ]
  },
  {
   "cell_type": "code",
   "execution_count": 29,
   "id": "c591a2c8",
   "metadata": {},
   "outputs": [
    {
     "name": "stdout",
     "output_type": "stream",
     "text": [
      "Travel times (2D array):\n",
      "[[30 45 40]\n",
      " [60 50 55]\n",
      " [70 80 75]]\n",
      "First row (mode 1): [30 45 40]\n",
      "Element at (2,1): 80\n",
      "Mean travel time: 56.111111111111114\n",
      "Sum of travel times: 505\n",
      "Travel times * 1.1 (10% increase):\n",
      "[[33.  49.5 44. ]\n",
      " [66.  55.  60.5]\n",
      " [77.  88.  82.5]]\n"
     ]
    }
   ],
   "source": [
    "travel_times = np.array([[30, 45, 40], [60, 50, 55], [70, 80, 75]])  # 3 modes, 3 distances\n",
    "print(\"Travel times (2D array):\")\n",
    "print(travel_times)\n",
    "print(\"First row (mode 1):\", travel_times[0])        # First row\n",
    "print(\"Element at (2,1):\", travel_times[2, 1])\n",
    "print(\"Mean travel time:\", np.mean(travel_times))      # Mean of all elements\n",
    "print(\"Sum of travel times:\", np.sum(travel_times))      # Sum of all elements\n",
    "print(\"Travel times * 1.1 (10% increase):\")\n",
    "print(travel_times * 1.1)  # Increase all times by 10%"
   ]
  },
  {
   "cell_type": "markdown",
   "id": "a2dbfbd3",
   "metadata": {},
   "source": [
    "Example: Calculate average travel time for each mode (row-wise mean)"
   ]
  },
  {
   "cell_type": "code",
   "execution_count": 28,
   "id": "e650a4bb",
   "metadata": {},
   "outputs": [
    {
     "name": "stdout",
     "output_type": "stream",
     "text": [
      "Average travel time per mode: [38.33333333 55.         75.        ]\n"
     ]
    }
   ],
   "source": [
    "average_times = np.mean(travel_times, axis=1)\n",
    "print(\"Average travel time per mode:\", average_times)"
   ]
  },
  {
   "cell_type": "markdown",
   "id": "a096338f",
   "metadata": {},
   "source": [
    ">  NumPy arrays will be heavily used when we deal with large datasets or model computations (e.g., calculating utility for many observations at once). We will explore NumPy further in Notebook 02, but remember: when you see `np.array` and similar syntax, we are leveraging NumPy for speed and convenience in numeric calculations."
   ]
  },
  {
   "cell_type": "markdown",
   "id": "6ff94475",
   "metadata": {},
   "source": [
    "## 01.4 Functions and Control Flow"
   ]
  },
  {
   "cell_type": "markdown",
   "id": "c9154f33",
   "metadata": {},
   "source": [
    "**Functions:** Functions are reusable blocks of code that perform a specific task. We define a function with the `def` keyword, specifying parameters, and use `return` to output a result. Functions help organize code and avoid repetition."
   ]
  },
  {
   "cell_type": "markdown",
   "id": "26958b36",
   "metadata": {},
   "source": [
    "For example, let's define a simple function to compute a linear utility given some attributes:"
   ]
  },
  {
   "cell_type": "code",
   "execution_count": 32,
   "id": "8b0c64db",
   "metadata": {},
   "outputs": [
    {
     "name": "stdout",
     "output_type": "stream",
     "text": [
      "Utility for time=30, cost=5: -5.5\n",
      "Utility for time=45, cost=2: -5.5\n",
      "Utility for time=25, cost=1: -3.0\n"
     ]
    }
   ],
   "source": [
    "def compute_utility(time, cost):\n",
    "    \"\"\"Compute utility as a weighted sum of time and cost (toy example).\"\"\"\n",
    "    beta_time = -0.1   # coefficient for travel time (per minute)\n",
    "    beta_cost = -0.5   # coefficient for travel cost (per currency unit)\n",
    "    utility = beta_time * time + beta_cost * cost\n",
    "    return utility\n",
    "\n",
    "# Test the function\n",
    "u_car = compute_utility(time=30, cost=5)   # e.g., 30 mins, £5\n",
    "print(\"Utility for time=30, cost=5:\", u_car)\n",
    "\n",
    "u_bus = compute_utility(time=45, cost=2)   # e.g., 45 mins, £2\n",
    "print(\"Utility for time=45, cost=2:\", u_bus)\n",
    "\n",
    "u_bike = compute_utility(time=25, cost=1)   # e.g., 25 mins, £1\n",
    "print(\"Utility for time=25, cost=1:\", u_bike)\n",
    "\n"
   ]
  },
  {
   "cell_type": "markdown",
   "id": "a1eebd4a",
   "metadata": {},
   "source": [
    "So, for a 30-minute trip costing £5, the utility is -5.5 (the negative sign indicating disutility from time and cost, as expected)."
   ]
  },
  {
   "cell_type": "markdown",
   "id": "203b6c4c",
   "metadata": {},
   "source": [
    "Another example:"
   ]
  },
  {
   "cell_type": "code",
   "execution_count": null,
   "id": "acddffc6",
   "metadata": {},
   "outputs": [
    {
     "name": "stdout",
     "output_type": "stream",
     "text": [
      "Travel cost (car, 100 km): 50.0\n",
      "Travel cost (bus, 100 km): 20.0\n",
      "Travel cost (bike, 100 km): 10.0\n"
     ]
    }
   ],
   "source": [
    "def calculate_travel_cost(distance, mode):\n",
    "    cost_per_km = {\"car\": 0.5, \"bus\": 0.2, \"bike\": 0.1}  # cost per km for each mode\n",
    "    return distance * cost_per_km.get(mode, 0)\n",
    "\n",
    "# Test the function\n",
    "print(\"Travel cost (car, 100 km):\", calculate_travel_cost(100, \"car\"))\n",
    "print(\"Travel cost (bus, 100 km):\", calculate_travel_cost(100, \"bus\"))\n",
    "print(\"Travel cost (bike, 100 km):\", calculate_travel_cost(100, \"bike\"))\n",
    "\n"
   ]
  },
  {
   "cell_type": "markdown",
   "id": "5c2db457",
   "metadata": {},
   "source": [
    "Functions make code more readable and maintainable, especially when the logic might be used multiple times. We will use functions to encapsulate tasks like computing probabilities or evaluating log-likelihoods in later notebooks."
   ]
  },
  {
   "cell_type": "markdown",
   "id": "8a87df25",
   "metadata": {},
   "source": [
    "**Control Flow:** Control flow statements like **if-else** and **loops** allow us to execute code based on conditions and to repeat tasks."
   ]
  },
  {
   "cell_type": "markdown",
   "id": "c19c8178",
   "metadata": {},
   "source": [
    "* *Conditional statements*: `if` checks a condition and executes a block if true, optionally followed by `elif` (else-if) and `else` for additional cases. For example:"
   ]
  },
  {
   "cell_type": "code",
   "execution_count": 34,
   "id": "9431d216",
   "metadata": {},
   "outputs": [
    {
     "name": "stdout",
     "output_type": "stream",
     "text": [
      "Taking a bus\n"
     ]
    }
   ],
   "source": [
    "mode = \"Bus\"\n",
    "if mode == \"Car\":\n",
    "    print(\"Driving a car\")\n",
    "elif mode == \"Bus\":\n",
    "    print(\"Taking a bus\")\n",
    "else:\n",
    "    print(\"Other mode\")\n"
   ]
  },
  {
   "cell_type": "code",
   "execution_count": null,
   "id": "8810a475",
   "metadata": {},
   "outputs": [
    {
     "name": "stdout",
     "output_type": "stream",
     "text": [
      "Great weather for biking!\n",
      "It's rainy, consider taking public transport instead of biking.\n",
      "Driving a car is comfortable.\n"
     ]
    }
   ],
   "source": [
    "def travel_advice(mode, weather):\n",
    "    if mode == \"bike\":\n",
    "        if weather == \"rainy\":\n",
    "            return \"It's rainy, consider taking public transport instead of biking.\"\n",
    "        else:\n",
    "            return \"Great weather for biking!\"\n",
    "    elif mode == \"car\":\n",
    "        return \"Driving a car is comfortable.\"\n",
    "    elif mode == \"bus\":\n",
    "        return \"Taking a bus is economical.\"\n",
    "    else:\n",
    "        return \"Consider walking or other modes.\"   \n",
    "    \n",
    "# Test the function\n",
    "print(travel_advice(\"bike\", \"sunny\"))\n",
    "print(travel_advice(\"bike\", \"rainy\"))\n",
    "print(travel_advice(\"car\", \"cloudy\"))"
   ]
  },
  {
   "cell_type": "markdown",
   "id": "2bf358da",
   "metadata": {},
   "source": [
    "* *Loops*: Python has *for* loops to iterate over items in a sequence, and *while* loops to repeat until a condition is false. For instance, to iterate over our modes list:"
   ]
  },
  {
   "cell_type": "code",
   "execution_count": 36,
   "id": "0b861e5a",
   "metadata": {},
   "outputs": [
    {
     "name": "stdout",
     "output_type": "stream",
     "text": [
      "Mode option: Car\n",
      "Mode option: Coach\n",
      "Mode option: Train\n",
      "Mode option: Air\n"
     ]
    }
   ],
   "source": [
    "for m in modes:\n",
    "    print(\"Mode option:\", m)\n"
   ]
  },
  {
   "cell_type": "code",
   "execution_count": 40,
   "id": "31fa6efe",
   "metadata": {},
   "outputs": [
    {
     "name": "stdout",
     "output_type": "stream",
     "text": [
      "Great weather for biking!\n",
      "It's rainy, consider taking public transport instead of biking.\n",
      "Driving a car is comfortable.\n",
      "Taking a bus is economical.\n"
     ]
    }
   ],
   "source": [
    "def travel_advice(mode, weather):\n",
    "    advice = {\n",
    "        (\"bike\", \"sunny\"): \"Great weather for biking!\",\n",
    "        (\"bike\", \"rainy\"): \"It's rainy, consider taking public transport instead of biking.\",\n",
    "        (\"car\", \"cloudy\"): \"Driving a car is comfortable.\",\n",
    "        (\"bus\", \"sunny\"): \"Taking a bus is economical.\",\n",
    "    }\n",
    "    return advice.get((mode, weather), \"Consider walking or other modes.\")\n",
    "\n",
    "# Test the function\n",
    "print(travel_advice(\"bike\", \"sunny\"))\n",
    "print(travel_advice(\"bike\", \"rainy\"))\n",
    "print(travel_advice(\"car\", \"cloudy\"))\n",
    "print(travel_advice(\"bus\", \"sunny\"))\n",
    "\n"
   ]
  },
  {
   "cell_type": "code",
   "execution_count": 39,
   "id": "0019e40b",
   "metadata": {},
   "outputs": [
    {
     "name": "stdout",
     "output_type": "stream",
     "text": [
      "Total travel cost: 62.0\n"
     ]
    }
   ],
   "source": [
    "def calculate_total_cost(travel_data):\n",
    "    total_cost = 0\n",
    "    for data in travel_data:\n",
    "        mode = data.get(\"mode\")\n",
    "        distance = data.get(\"distance\", 0)\n",
    "        cost = calculate_travel_cost(distance, mode)\n",
    "        total_cost += cost\n",
    "    return total_cost\n",
    "\n",
    "def calculate_travel_cost(distance, mode):\n",
    "    cost_per_km = {\"car\": 0.5, \"bus\": 0.2, \"bike\": 0.1}  # cost per km for each mode\n",
    "    return distance * cost_per_km.get(mode, 0)\n",
    "\n",
    "# Test the function\n",
    "travel_data = [\n",
    "    {\"mode\": \"car\", \"distance\": 100},\n",
    "    {\"mode\": \"bus\", \"distance\": 50},\n",
    "    {\"mode\": \"bike\", \"distance\": 20},\n",
    "]\n",
    "\n",
    "print(\"Total travel cost:\", calculate_total_cost(travel_data))"
   ]
  },
  {
   "cell_type": "markdown",
   "id": "26b725fd",
   "metadata": {},
   "source": [
    "We will use loops to iterate over records (like going through each individual or each alternative) and if-statements to apply logic (like availability checks: e.g., if a mode is not available, skip it).\n",
    "\n",
    "However, in data analysis with Pandas or NumPy, explicit loops are often unnecessary because we can operate on vectors, but it’s important to know how to use loops when needed (especially for clarity in simple cases or when writing simulation logic)."
   ]
  },
  {
   "cell_type": "markdown",
   "id": "b81c30d5",
   "metadata": {},
   "source": [
    "## 01.5 Example: A Toy Softmax Utility Model (Three Travel Modes)"
   ]
  },
  {
   "cell_type": "markdown",
   "id": "346d94ee",
   "metadata": {},
   "source": [
    "Now that we've covered basics, let's apply them to a simple choice modeling scenario. We will create a toy example of a traveler choosing among three travel modes (Car, Bus, Train) for a trip, using a softmax function to model choice probabilities. This mimics a Multinomial Logit model where utilities are computed and then converted to choice probabilities via the softmax (logit) formula."
   ]
  },
  {
   "cell_type": "markdown",
   "id": "2ea62063",
   "metadata": {},
   "source": [
    "**Step 1: Define mode attributes and parameters.** For simplicity, assume:"
   ]
  },
  {
   "cell_type": "markdown",
   "id": "5a6ba0ad",
   "metadata": {},
   "source": [
    "- Travel times for Car, Bus, Train are 30, 45, 40 minutes respectively.\n",
    "\n",
    "- Travel costs for Car, Bus, Train are £5, £2, £3 respectively.\n",
    "\n",
    "- We will use fixed utility coefficients: $\\beta_{time}= -0.1$ (per minute), $\\beta_{cost} = -0.5$ (per £)."
   ]
  },
  {
   "cell_type": "markdown",
   "id": "753302ce",
   "metadata": {},
   "source": [
    "Let's set this up:"
   ]
  },
  {
   "cell_type": "code",
   "execution_count": 48,
   "id": "b0bc0e43",
   "metadata": {},
   "outputs": [
    {
     "name": "stdout",
     "output_type": "stream",
     "text": [
      "Utilities: {'Car': -5.5, 'Bus': -5.5, 'Train': -5.5}\n"
     ]
    }
   ],
   "source": [
    "# Modes and their attributes\n",
    "modes = [\"Car\", \"Bus\", \"Train\"]\n",
    "time = {\"Car\": 30, \"Bus\": 45, \"Train\": 40}   # in minutes\n",
    "cost = {\"Car\": 5, \"Bus\": 2, \"Train\": 3}      # in £\n",
    "\n",
    "beta_time = -0.1   # coefficient for time\n",
    "beta_cost = -0.5   # coefficient for cost\n",
    "\n",
    "# Compute utilities for each mode\n",
    "utility = {}\n",
    "for m in modes:\n",
    "    utility[m] = beta_time * time[m] + beta_cost * cost[m]\n",
    "print(\"Utilities:\", utility)\n"
   ]
  },
  {
   "cell_type": "markdown",
   "id": "1608979b",
   "metadata": {},
   "source": [
    "Interestingly, with these specific values, all three utilities came out equal (-5.5) in this toy example! Let's adjust one to see differences—suppose Train cost is £4 (instead of 3):"
   ]
  },
  {
   "cell_type": "code",
   "execution_count": 49,
   "id": "41a4af19",
   "metadata": {},
   "outputs": [
    {
     "name": "stdout",
     "output_type": "stream",
     "text": [
      "Adjusted utilities: {'Car': -5.5, 'Bus': -5.5, 'Train': -6.0}\n"
     ]
    }
   ],
   "source": [
    "cost[\"Train\"] = 4\n",
    "for m in modes:\n",
    "    utility[m] = beta_time * time[m] + beta_cost * cost[m]\n",
    "print(\"Adjusted utilities:\", utility)\n"
   ]
  },
  {
   "cell_type": "markdown",
   "id": "2daee7ff",
   "metadata": {},
   "source": [
    "So Train is slightly less preferred (utility -6.0) due to the higher cost, while Car and Bus remain at -5.5."
   ]
  },
  {
   "cell_type": "markdown",
   "id": "c2b1e4ac",
   "metadata": {},
   "source": [
    "**Step 2: Convert utilities to choice probabilities using softmax.** The softmax formula for choice probability of mode $i$ is:\n",
    "$$\n",
    "P(i) = \\frac{\\exp{(U_i)}}{\\sum_{j \\in modes}\\exp{(U_j)}}\n",
    "$$"
   ]
  },
  {
   "cell_type": "markdown",
   "id": "7cd23b22",
   "metadata": {},
   "source": [
    "This formula ensures probabilities are positive and sum to 1. . We'll implement this."
   ]
  },
  {
   "cell_type": "code",
   "execution_count": 50,
   "id": "4579054d",
   "metadata": {},
   "outputs": [
    {
     "name": "stdout",
     "output_type": "stream",
     "text": [
      "Choice probabilities: {'Car': 0.3836517311905506, 'Bus': 0.3836517311905506, 'Train': 0.2326965376188986}\n",
      "Sum of probabilities: 0.9999999999999999\n"
     ]
    }
   ],
   "source": [
    "import math\n",
    "\n",
    "# Compute softmax probabilities for each mode\n",
    "exp_utilities = {m: math.exp(utility[m]) for m in modes}\n",
    "sum_exp = sum(exp_utilities.values())\n",
    "prob = {m: exp_utilities[m] / sum_exp for m in modes}\n",
    "print(\"Choice probabilities:\", prob)\n",
    "print(\"Sum of probabilities:\", sum(prob.values()))\n",
    "\n"
   ]
  },
  {
   "cell_type": "markdown",
   "id": "3fa5c917",
   "metadata": {},
   "source": [
    "Because Car and Bus utilities were equal and Train was lower, Car and Bus ended up with higher probabilities. If all utilities were equal, each mode would be ~38.4%. The softmax (logit) model captures the idea that modes with higher utility (higher attractiveness) have higher choice probability."
   ]
  },
  {
   "cell_type": "markdown",
   "id": "f3814452",
   "metadata": {},
   "source": [
    "**Step 3: Interpret the results.** In our toy scenario, if Car and Bus have the same utility, a traveler is indifferent between them, and they each get about one-third probability (sharing the market equally with the third mode). If we made Car more attractive (say reduce Car's time or cost), its probability would increase. You can try modifying the inputs:"
   ]
  },
  {
   "cell_type": "code",
   "execution_count": 52,
   "id": "8b572fcb",
   "metadata": {},
   "outputs": [
    {
     "name": "stdout",
     "output_type": "stream",
     "text": [
      "Updated choice probabilities: {'Car': 0.6285317192117624, 'Bus': 0.23122389762214907, 'Train': 0.1402443831660885}\n",
      "Sum of probabilities: 1.0\n"
     ]
    }
   ],
   "source": [
    "time[\"Car\"] = 20  # Car becomes much faster\n",
    "# Recompute utility and probabilities...\n",
    "for m in modes:\n",
    "    utility[m] = beta_time * time[m] + beta_cost * cost[m]\n",
    "exp_utilities = {m: math.exp(utility[m]) for m in modes}\n",
    "sum_exp = sum(exp_utilities.values())\n",
    "prob = {m: exp_utilities[m] / sum_exp for m in modes}\n",
    "print(\"Updated choice probabilities:\", prob)\n",
    "print(\"Sum of probabilities:\", sum(prob.values()))"
   ]
  },
  {
   "cell_type": "markdown",
   "id": "006ea86f",
   "metadata": {},
   "source": [
    "Compute the joint likelihood as the product of individual choice probabilities:"
   ]
  },
  {
   "cell_type": "code",
   "execution_count": null,
   "id": "b33dc6cc",
   "metadata": {},
   "outputs": [
    {
     "name": "stdout",
     "output_type": "stream",
     "text": [
      "Likelihood: 0.1111111111111111\n"
     ]
    }
   ],
   "source": [
    "def likelihood_function(data, params):\n",
    "# Compute the joint likelihood as the product of individual choice probabilities\n",
    "    likelihood = 1.0\n",
    "    for entry in data:\n",
    "        # Compute probability of observed choice given params\n",
    "        prob = compute_choice_probability(entry, params)\n",
    "        likelihood *= prob\n",
    "    return likelihood\n",
    "\n",
    "def compute_choice_probability(entry, params):\n",
    "    # Utility and softmax helpers\n",
    "    def utility_function(attributes, params):\n",
    "        # attributes is expected to be a dict with keys \"time\" and \"cost\"\n",
    "        return params[\"beta_time\"] * attributes[\"time\"] + params[\"beta_cost\"] * attributes[\"cost\"]\n",
    "\n",
    "    def softmax(utilities):\n",
    "        exp_utilities = {k: math.exp(v) for k, v in utilities.items()}\n",
    "        sum_exp = sum(exp_utilities.values())\n",
    "        return {k: v / sum_exp for k, v in exp_utilities.items()}\n",
    "\n",
    "    attributes = entry[\"attributes\"]\n",
    "\n",
    "    # Two supported attribute formats:\n",
    "    # 1) attributes is a dict mapping alternative -> attribute-dict:\n",
    "    #    {\"Car\": {\"time\":..,\"cost\":..}, \"Bus\": {...}, ...}\n",
    "    # 2) attributes is a single attribute-dict for the chosen alternative (NOT recommended\n",
    "    #    for computing choice probabilities across alternatives). We will handle only format (1)\n",
    "    #    here to compute meaningful choice probabilities across alternatives.\n",
    "    if not isinstance(attributes, dict) or not attributes:\n",
    "        raise ValueError(\"Entry 'attributes' must be a non-empty dict mapping alternatives to attribute dicts.\")\n",
    "\n",
    "    sample_value = next(iter(attributes.values()))\n",
    "    if not isinstance(sample_value, dict):\n",
    "        # If values are not dicts, the provided structure is not the expected per-alternative format.\n",
    "        raise ValueError(\n",
    "            \"Each value in entry['attributes'] must be a dict with keys 'time' and 'cost'. \"\n",
    "            \"Provide attributes as: {'Car': {'time':..,'cost':..}, 'Bus': {...}, ...}.\"\n",
    "        )\n",
    "\n",
    "    # Compute utilities for all alternatives (format 1)\n",
    "    utilities = {alt: utility_function(attrs, params) for alt, attrs in attributes.items()}\n",
    "\n",
    "    # Compute choice probabilities using softmax\n",
    "    probabilities = softmax(utilities)\n",
    "\n",
    "    # Return probability of the chosen alternative\n",
    "    chosen = entry[\"choice\"]\n",
    "    return probabilities.get(chosen, 0.0)\n",
    "\n",
    "# Example data and parameters (attributes provided per alternative)\n",
    "data = [\n",
    "    {\n",
    "        \"choice\": \"Car\",\n",
    "        \"attributes\": {\n",
    "            \"Car\":   {\"time\": 30, \"cost\": 5},\n",
    "            \"Bus\":   {\"time\": 45, \"cost\": 2},\n",
    "            \"Train\": {\"time\": 40, \"cost\": 3}\n",
    "        }\n",
    "    },\n",
    "    {\n",
    "        \"choice\": \"Bus\",\n",
    "        \"attributes\": {\n",
    "            \"Car\":   {\"time\": 30, \"cost\": 5},\n",
    "            \"Bus\":   {\"time\": 45, \"cost\": 2},\n",
    "            \"Train\": {\"time\": 40, \"cost\": 3}\n",
    "        }\n",
    "    }\n",
    "]\n",
    "\n",
    "params = {\"beta_time\": -0.1, \"beta_cost\": -0.5}\n",
    "\n",
    "# Compute likelihood\n",
    "likelihood = likelihood_function(data, params)\n",
    "print(\"Likelihood:\", likelihood)\n",
    "\n",
    "\n"
   ]
  },
  {
   "cell_type": "markdown",
   "id": "6abbb4f9",
   "metadata": {},
   "source": [
    "### Estimate parameters by MLE using the existing choice-probability function\n",
    "\n",
    "Run a maximum-likelihood optimizer that calls the already-defined `compute_choice_probability` for each observation and minimizes the negative log-likelihood.\n",
    "\n",
    "What it does\n",
    "- Converts per-observation choice probabilities to a joint negative log-likelihood.\n",
    "- Uses SciPy's `minimize` (BFGS) to find the parameters that minimize the negative log-likelihood.\n",
    "- Penalizes zero probabilities to keep the optimizer away from invalid regions.\n",
    "\n",
    "Checklist before running\n",
    "- Ensure `math` is imported and `compute_choice_probability` is in scope.\n",
    "- Check `result.success` and `result.message` after optimization.\n",
    "- For stability and scale, prefer the log-likelihood for larger datasets.\n",
    "\n",
    "Quick diagnostics to run after optimization\n",
    "- Print `result.x`, `result.fun`, and `result.success`.\n",
    "- Try different starting values to check robustness."
   ]
  },
  {
   "cell_type": "code",
   "execution_count": 63,
   "id": "73084c68",
   "metadata": {},
   "outputs": [
    {
     "name": "stdout",
     "output_type": "stream",
     "text": [
      "Optimization terminated successfully.\n",
      "         Current function value: 2.179622\n",
      "         Iterations: 4\n",
      "         Function evaluations: 18\n",
      "         Gradient evaluations: 6\n",
      "success: True Optimization terminated successfully.\n",
      "estimates: [-0.02019124  0.00403783] nll: 2.1796219358900184\n",
      "approx SEs: [0.22346928 0.98081258]\n"
     ]
    }
   ],
   "source": [
    "import numpy as np\n",
    "from scipy.optimize import minimize\n",
    "\n",
    "def logsumexp(u):\n",
    "    m = np.max(u)\n",
    "    return m + np.log(np.sum(np.exp(u - m)))\n",
    "\n",
    "def neg_log_likelihood(theta, data):\n",
    "    beta_time, beta_cost = theta\n",
    "    nll = 0.0\n",
    "    for entry in data:\n",
    "        attrs = entry[\"attributes\"]\n",
    "        alts = list(attrs.keys())\n",
    "        utils = np.array([beta_time * attrs[a][\"time\"] + beta_cost * attrs[a][\"cost\"] for a in alts])\n",
    "        try:\n",
    "            chosen_idx = alts.index(entry[\"choice\"])\n",
    "        except ValueError:\n",
    "            return np.inf\n",
    "        nll += (logsumexp(utils) - utils[chosen_idx])\n",
    "    return nll\n",
    "\n",
    "# example optimization\n",
    "init = np.array([0.0, 0.0])\n",
    "res = minimize(neg_log_likelihood, x0=init, args=(data,), method=\"BFGS\", options={\"disp\": True})\n",
    "print(\"success:\", res.success, res.message)\n",
    "print(\"estimates:\", res.x, \"nll:\", res.fun)\n",
    "\n",
    "# approx SEs from inverse Hessian (when available)\n",
    "if res.success and hasattr(res, \"hess_inv\"):\n",
    "    cov = np.array(res.hess_inv)            # BFGS returns an object convertible to array\n",
    "    se = np.sqrt(np.diag(cov))\n",
    "    print(\"approx SEs:\", se)"
   ]
  },
  {
   "cell_type": "markdown",
   "id": "7101b0b9",
   "metadata": {},
   "source": [
    "### Simulation-recovery test (validate your estimation)\n",
    "\n",
    "Simulate synthetic choice data using specified true betas and then re-estimates parameters on the simulated data to check recovery.\n",
    "\n",
    "Purpose\n",
    "- Confirms the estimator and likelihood are implemented correctly.\n",
    "- Reveals issues with identification, numerical stability, or optimization.\n",
    "\n",
    "Usage notes\n",
    "- Choose a reasonably large N (e.g., 500–2000) to get stable recovery.\n",
    "- Fix the RNG seed for reproducibility (`np.random.default_rng(seed)`).\n",
    "- Compare recovered estimates to the true values and inspect standard errors / CI.\n",
    "- If recovery fails, try more observations, different seeds, or multiple optimizer starts."
   ]
  },
  {
   "cell_type": "code",
   "execution_count": 65,
   "id": "ce141e5a",
   "metadata": {},
   "outputs": [
    {
     "name": "stdout",
     "output_type": "stream",
     "text": [
      "recovered: [-0.10143727 -0.5530483 ] true: (-0.1, -0.5)\n"
     ]
    }
   ],
   "source": [
    "def simulate_data(N, modes, times, costs, beta_time, beta_cost, rng=None):\n",
    "    rng = rng or np.random.default_rng(0)\n",
    "    data = []\n",
    "    for _ in range(N):\n",
    "        utils = np.array([beta_time*times[m] + beta_cost*costs[m] for m in modes])\n",
    "        probs = np.exp(utils - logsumexp(utils))\n",
    "        choice = rng.choice(modes, p=probs)\n",
    "        attrs = {m: {\"time\": times[m], \"cost\": costs[m]} for m in modes}\n",
    "        data.append({\"choice\": choice, \"attributes\": attrs})\n",
    "    return data\n",
    "\n",
    "# simulate and recover\n",
    "true = (-0.1, -0.5)\n",
    "sim_data = simulate_data(1000, modes, time, cost, *true)\n",
    "res_sim = minimize(neg_log_likelihood, x0=np.array([0.0,0.0]), args=(sim_data,), method=\"BFGS\")\n",
    "print(\"recovered:\", res_sim.x, \"true:\", true)"
   ]
  },
  {
   "cell_type": "markdown",
   "id": "64e1141a",
   "metadata": {},
   "source": [
    "Make sure you understand each code snippet and run them yourself. Modify values or add print statements to explore (e.g., what if cost has a positive coefficient, etc.). In choice modelling, getting the logic right (like correctly computing utility or probabilities) is crucial, and these basic Python skills are the foundation for more advanced analysis."
   ]
  },
  {
   "cell_type": "markdown",
   "id": "89ffab03",
   "metadata": {},
   "source": [
    "In the next notebook, we will introduce **NumPy** and **Pandas** in depth and start working with a real dataset: the Apollo mode choice data. Keep this fundamentals notebook in mind, as you will see lists, dicts, loops, and functions being used frequently in the context of data analysis and modeling."
   ]
  },
  {
   "cell_type": "markdown",
   "id": "b23b283d",
   "metadata": {},
   "source": []
  }
 ],
 "metadata": {
  "kernelspec": {
   "display_name": ".venv",
   "language": "python",
   "name": "python3"
  },
  "language_info": {
   "codemirror_mode": {
    "name": "ipython",
    "version": 3
   },
   "file_extension": ".py",
   "mimetype": "text/x-python",
   "name": "python",
   "nbconvert_exporter": "python",
   "pygments_lexer": "ipython3",
   "version": "3.8.0"
  }
 },
 "nbformat": 4,
 "nbformat_minor": 5
}
