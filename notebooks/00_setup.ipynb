{
 "cells": [
  {
   "cell_type": "markdown",
   "id": "0bc03d86",
   "metadata": {},
   "source": [
    "# Notebook 00: Setup and Tools"
   ]
  },
  {
   "cell_type": "markdown",
   "id": "53fee305",
   "metadata": {},
   "source": [
    "**Objective:** Guide participants through setting up their Python environment and tools before diving into coding. We will install and configure VS Code, Git/GitHub, and GitHub Copilot, create a virtual environment for the project, manage dependencies, and verify that everything is working. By the end of this notebook, you should have a functional development environment and be ready to start coding in subsequent notebooks."
   ]
  },
  {
   "cell_type": "markdown",
   "id": "c052463b",
   "metadata": {},
   "source": [
    "## 00.1 Installing VS Code and Python"
   ]
  },
  {
   "cell_type": "markdown",
   "id": "9e63efc9",
   "metadata": {},
   "source": [
    "* **Install VS Code:** Download and install Visual Studio Code (VS Code) for your operating system. VS Code is a lightweight but powerful code editor, and we'll use it to write and run our Python notebooks. During installation, also install the Python extension for VS Code, which provides rich support for editing and running Python and Jupyter notebooks."
   ]
  },
  {
   "cell_type": "markdown",
   "id": "3e50a10b",
   "metadata": {},
   "source": [
    "* **Install Python 3:** Ensure you have Python 3.x installed on your system. You can download Python from the official website or use a package manager. Verify the installation by running `python --version` (Linux/Mac) or `py --version` (Windows) in a terminal."
   ]
  },
  {
   "cell_type": "markdown",
   "id": "7b8e7470",
   "metadata": {},
   "source": [
    "**Tip:** On Windows, during Python installation, check \"Add Python to PATH\". On macOS, consider using Homebrew (`brew install python3`). On Linux, the system Python 3 works, but you may need to install pip."
   ]
  },
  {
   "cell_type": "markdown",
   "id": "51c203a9",
   "metadata": {},
   "source": []
  }
 ],
 "metadata": {
  "language_info": {
   "name": "python"
  }
 },
 "nbformat": 4,
 "nbformat_minor": 5
}
