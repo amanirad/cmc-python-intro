{
 "cells": [
  {
   "cell_type": "markdown",
   "id": "c7af5a7e",
   "metadata": {},
   "source": [
    "# Notebook 03: Visualization for Discrete Choice Analysis"
   ]
  },
  {
   "cell_type": "markdown",
   "id": "b2f8646e",
   "metadata": {},
   "source": [
    "**Objective:** Learn basic data visualization in Python (using Matplotlib and Seaborn) and apply it to the mode choice dataset. We will create plots such as mode share bar charts, line plots (e.g., trends or binned relationships), and boxplots to examine distributions of attributes by mode. Each plot will be accompanied by interpretation of what it reveals about traveler behavior or the data structure."
   ]
  },
  {
   "cell_type": "markdown",
   "id": "d66c7d31",
   "metadata": {},
   "source": [
    "Visualizing data helps us communicate insights and detect patterns (or anomalies) that might not be obvious from tables. For choice modeling, plotting can reveal, for example, how travel time differences influence mode choice or how income distributions vary by chosen mode."
   ]
  },
  {
   "cell_type": "markdown",
   "id": "545c34d8",
   "metadata": {},
   "source": [
    "First, let’s set up the plotting libraries:"
   ]
  },
  {
   "cell_type": "code",
   "execution_count": 3,
   "id": "f6dd9437",
   "metadata": {},
   "outputs": [],
   "source": [
    "import matplotlib.pyplot as plt\n",
    "import seaborn as sns\n",
    "\n",
    "# Optional: set a style for nicer plots\n",
    "sns.set_style(\"whitegrid\")\n"
   ]
  },
  {
   "cell_type": "markdown",
   "id": "783cfd4f",
   "metadata": {},
   "source": [
    "Matplotlib is the foundational plotting library; Seaborn is a higher-level API that works with Pandas and adds aesthetics.\n",
    "\n",
    "We'll continue using the DataFrame `df` from Notebook 02 (make sure to run those cells or reload the CSV if starting fresh in this notebook)."
   ]
  },
  {
   "cell_type": "markdown",
   "id": "425ca745",
   "metadata": {},
   "source": [
    "## 03.1 Bar Chart of Mode Shares"
   ]
  },
  {
   "cell_type": "markdown",
   "id": "070ed76d",
   "metadata": {},
   "source": []
  }
 ],
 "metadata": {
  "kernelspec": {
   "display_name": ".venv",
   "language": "python",
   "name": "python3"
  },
  "language_info": {
   "codemirror_mode": {
    "name": "ipython",
    "version": 3
   },
   "file_extension": ".py",
   "mimetype": "text/x-python",
   "name": "python",
   "nbconvert_exporter": "python",
   "pygments_lexer": "ipython3",
   "version": "3.8.0"
  }
 },
 "nbformat": 4,
 "nbformat_minor": 5
}
