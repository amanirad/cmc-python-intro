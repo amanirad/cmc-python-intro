{
 "cells": [
  {
   "cell_type": "markdown",
   "id": "c41a95c5",
   "metadata": {},
   "source": [
    "# Notebook 02: NumPy & Pandas with Apollo Mode Choice Data"
   ]
  },
  {
   "cell_type": "markdown",
   "id": "ffc2f1eb",
   "metadata": {},
   "source": [
    "**Objective:** Learn how to use NumPy and Pandas for data analysis, using the Apollo mode choice dataset as a case study. We will practice reading data, inspecting its structure, cleaning or preprocessing as needed, performing calculations like z-scoring (standardization) and aggregate share computations, and interpreting these in behavioral terms. The goal is to become comfortable with data manipulation in Python and to connect summary statistics to choice behavior insights."
   ]
  },
  {
   "cell_type": "markdown",
   "id": "9ed8c2be",
   "metadata": {},
   "source": [
    "## 02.1 Introduction to the Apollo Mode Choice Dataset"
   ]
  },
  {
   "cell_type": "markdown",
   "id": "03e414d2",
   "metadata": {},
   "source": [
    "The dataset `apollo_modeChoiceData.csv` is a mode choice dataset included with the Apollo software. It contains 8,000 observations of travel mode choices among 4 alternatives: car, bus, air, and rail. These observations come from 500 individuals, each facing multiple choice situations (2 revealed preference trips and 14 stated preference scenarios per individual, making 16 observations each). For each observation, the dataset records:\n",
    "\n",
    "- **Alternative attributes:** travel time and cost for each mode, plus mode-specific features like access time or service quality (for air and rail).\n",
    "- **Availability indicators:** whether each mode was available (e.g., not all modes may be available for every trip).\n",
    "- **Individual characteristics:** e.g., income, gender (female dummy), trip purpose (business dummy).\n",
    "- **Choice outcome:** which mode was chosen (encoded as 1=car, 2=bus, 3=air, 4=rail)."
   ]
  },
  {
   "cell_type": "markdown",
   "id": "3911dd9c",
   "metadata": {},
   "source": [
    "Let's load the data using Pandas and take a look:"
   ]
  },
  {
   "cell_type": "code",
   "execution_count": 2,
   "id": "200c65e9",
   "metadata": {},
   "outputs": [
    {
     "name": "stdout",
     "output_type": "stream",
     "text": [
      "Data loaded. Number of rows: 8000\n"
     ]
    },
    {
     "data": {
      "text/html": [
       "<div>\n",
       "<style scoped>\n",
       "    .dataframe tbody tr th:only-of-type {\n",
       "        vertical-align: middle;\n",
       "    }\n",
       "\n",
       "    .dataframe tbody tr th {\n",
       "        vertical-align: top;\n",
       "    }\n",
       "\n",
       "    .dataframe thead th {\n",
       "        text-align: right;\n",
       "    }\n",
       "</style>\n",
       "<table border=\"1\" class=\"dataframe\">\n",
       "  <thead>\n",
       "    <tr style=\"text-align: right;\">\n",
       "      <th></th>\n",
       "      <th>ID</th>\n",
       "      <th>RP</th>\n",
       "      <th>SP</th>\n",
       "      <th>RP_journey</th>\n",
       "      <th>SP_task</th>\n",
       "      <th>av_car</th>\n",
       "      <th>av_bus</th>\n",
       "      <th>av_air</th>\n",
       "      <th>av_rail</th>\n",
       "      <th>time_car</th>\n",
       "      <th>...</th>\n",
       "      <th>access_air</th>\n",
       "      <th>service_air</th>\n",
       "      <th>time_rail</th>\n",
       "      <th>cost_rail</th>\n",
       "      <th>access_rail</th>\n",
       "      <th>service_rail</th>\n",
       "      <th>female</th>\n",
       "      <th>business</th>\n",
       "      <th>income</th>\n",
       "      <th>choice</th>\n",
       "    </tr>\n",
       "  </thead>\n",
       "  <tbody>\n",
       "    <tr>\n",
       "      <th>0</th>\n",
       "      <td>1</td>\n",
       "      <td>1</td>\n",
       "      <td>0</td>\n",
       "      <td>1.0</td>\n",
       "      <td>NaN</td>\n",
       "      <td>0</td>\n",
       "      <td>0</td>\n",
       "      <td>1</td>\n",
       "      <td>1</td>\n",
       "      <td>0</td>\n",
       "      <td>...</td>\n",
       "      <td>55</td>\n",
       "      <td>0</td>\n",
       "      <td>140</td>\n",
       "      <td>55</td>\n",
       "      <td>5</td>\n",
       "      <td>0</td>\n",
       "      <td>0</td>\n",
       "      <td>0</td>\n",
       "      <td>46705</td>\n",
       "      <td>4</td>\n",
       "    </tr>\n",
       "    <tr>\n",
       "      <th>1</th>\n",
       "      <td>1</td>\n",
       "      <td>1</td>\n",
       "      <td>0</td>\n",
       "      <td>2.0</td>\n",
       "      <td>NaN</td>\n",
       "      <td>0</td>\n",
       "      <td>0</td>\n",
       "      <td>1</td>\n",
       "      <td>1</td>\n",
       "      <td>0</td>\n",
       "      <td>...</td>\n",
       "      <td>45</td>\n",
       "      <td>0</td>\n",
       "      <td>170</td>\n",
       "      <td>45</td>\n",
       "      <td>20</td>\n",
       "      <td>0</td>\n",
       "      <td>0</td>\n",
       "      <td>0</td>\n",
       "      <td>46705</td>\n",
       "      <td>4</td>\n",
       "    </tr>\n",
       "    <tr>\n",
       "      <th>2</th>\n",
       "      <td>1</td>\n",
       "      <td>0</td>\n",
       "      <td>1</td>\n",
       "      <td>NaN</td>\n",
       "      <td>1.0</td>\n",
       "      <td>0</td>\n",
       "      <td>0</td>\n",
       "      <td>1</td>\n",
       "      <td>1</td>\n",
       "      <td>0</td>\n",
       "      <td>...</td>\n",
       "      <td>55</td>\n",
       "      <td>3</td>\n",
       "      <td>170</td>\n",
       "      <td>35</td>\n",
       "      <td>5</td>\n",
       "      <td>2</td>\n",
       "      <td>0</td>\n",
       "      <td>0</td>\n",
       "      <td>46705</td>\n",
       "      <td>4</td>\n",
       "    </tr>\n",
       "    <tr>\n",
       "      <th>3</th>\n",
       "      <td>1</td>\n",
       "      <td>0</td>\n",
       "      <td>1</td>\n",
       "      <td>NaN</td>\n",
       "      <td>2.0</td>\n",
       "      <td>0</td>\n",
       "      <td>0</td>\n",
       "      <td>1</td>\n",
       "      <td>1</td>\n",
       "      <td>0</td>\n",
       "      <td>...</td>\n",
       "      <td>45</td>\n",
       "      <td>1</td>\n",
       "      <td>120</td>\n",
       "      <td>75</td>\n",
       "      <td>5</td>\n",
       "      <td>3</td>\n",
       "      <td>0</td>\n",
       "      <td>0</td>\n",
       "      <td>46705</td>\n",
       "      <td>4</td>\n",
       "    </tr>\n",
       "    <tr>\n",
       "      <th>4</th>\n",
       "      <td>1</td>\n",
       "      <td>0</td>\n",
       "      <td>1</td>\n",
       "      <td>NaN</td>\n",
       "      <td>3.0</td>\n",
       "      <td>0</td>\n",
       "      <td>0</td>\n",
       "      <td>1</td>\n",
       "      <td>1</td>\n",
       "      <td>0</td>\n",
       "      <td>...</td>\n",
       "      <td>40</td>\n",
       "      <td>1</td>\n",
       "      <td>155</td>\n",
       "      <td>75</td>\n",
       "      <td>25</td>\n",
       "      <td>2</td>\n",
       "      <td>0</td>\n",
       "      <td>0</td>\n",
       "      <td>46705</td>\n",
       "      <td>4</td>\n",
       "    </tr>\n",
       "  </tbody>\n",
       "</table>\n",
       "<p>5 rows × 26 columns</p>\n",
       "</div>"
      ],
      "text/plain": [
       "   ID  RP  SP  RP_journey  SP_task  av_car  av_bus  av_air  av_rail  time_car  \\\n",
       "0   1   1   0         1.0      NaN       0       0       1        1         0   \n",
       "1   1   1   0         2.0      NaN       0       0       1        1         0   \n",
       "2   1   0   1         NaN      1.0       0       0       1        1         0   \n",
       "3   1   0   1         NaN      2.0       0       0       1        1         0   \n",
       "4   1   0   1         NaN      3.0       0       0       1        1         0   \n",
       "\n",
       "   ...  access_air  service_air  time_rail  cost_rail  access_rail  \\\n",
       "0  ...          55            0        140         55            5   \n",
       "1  ...          45            0        170         45           20   \n",
       "2  ...          55            3        170         35            5   \n",
       "3  ...          45            1        120         75            5   \n",
       "4  ...          40            1        155         75           25   \n",
       "\n",
       "   service_rail  female  business  income  choice  \n",
       "0             0       0         0   46705       4  \n",
       "1             0       0         0   46705       4  \n",
       "2             2       0         0   46705       4  \n",
       "3             3       0         0   46705       4  \n",
       "4             2       0         0   46705       4  \n",
       "\n",
       "[5 rows x 26 columns]"
      ]
     },
     "execution_count": 2,
     "metadata": {},
     "output_type": "execute_result"
    }
   ],
   "source": [
    "import pandas as pd\n",
    "\n",
    "# Load the mode choice dataset\n",
    "df = pd.read_csv(\"../data/raw/apollo_modeChoiceData.csv\")\n",
    "print(\"Data loaded. Number of rows:\", len(df))\n",
    "df.head(5)  # display the first 5 rows\n"
   ]
  },
  {
   "cell_type": "markdown",
   "id": "3742a8cd",
   "metadata": {},
   "source": [
    "We see the first few rows of the data frame, with columns such as `ID`, `RP`, `SP_task`, `time_car`, `cost_car`, ..., `time_rail`, `cost_rail`, `female`, `income`, `choice`, etc. Each row is one choice observation. Pandas loaded this into a **DataFrame**, which is a 2D labeled data structure (table) with rows and columns."
   ]
  },
  {
   "cell_type": "markdown",
   "id": "d4c2fc27",
   "metadata": {},
   "source": [
    "We can use `df.info()` to get a summary of columns and data types:"
   ]
  },
  {
   "cell_type": "code",
   "execution_count": 3,
   "id": "9d6f1659",
   "metadata": {},
   "outputs": [
    {
     "name": "stdout",
     "output_type": "stream",
     "text": [
      "<class 'pandas.core.frame.DataFrame'>\n",
      "RangeIndex: 8000 entries, 0 to 7999\n",
      "Data columns (total 26 columns):\n",
      " #   Column        Non-Null Count  Dtype  \n",
      "---  ------        --------------  -----  \n",
      " 0   ID            8000 non-null   int64  \n",
      " 1   RP            8000 non-null   int64  \n",
      " 2   SP            8000 non-null   int64  \n",
      " 3   RP_journey    1000 non-null   float64\n",
      " 4   SP_task       7000 non-null   float64\n",
      " 5   av_car        8000 non-null   int64  \n",
      " 6   av_bus        8000 non-null   int64  \n",
      " 7   av_air        8000 non-null   int64  \n",
      " 8   av_rail       8000 non-null   int64  \n",
      " 9   time_car      8000 non-null   int64  \n",
      " 10  cost_car      8000 non-null   int64  \n",
      " 11  time_bus      8000 non-null   int64  \n",
      " 12  cost_bus      8000 non-null   int64  \n",
      " 13  access_bus    8000 non-null   int64  \n",
      " 14  time_air      8000 non-null   int64  \n",
      " 15  cost_air      8000 non-null   int64  \n",
      " 16  access_air    8000 non-null   int64  \n",
      " 17  service_air   8000 non-null   int64  \n",
      " 18  time_rail     8000 non-null   int64  \n",
      " 19  cost_rail     8000 non-null   int64  \n",
      " 20  access_rail   8000 non-null   int64  \n",
      " 21  service_rail  8000 non-null   int64  \n",
      " 22  female        8000 non-null   int64  \n",
      " 23  business      8000 non-null   int64  \n",
      " 24  income        8000 non-null   int64  \n",
      " 25  choice        8000 non-null   int64  \n",
      "dtypes: float64(2), int64(24)\n",
      "memory usage: 1.6 MB\n"
     ]
    }
   ],
   "source": [
    "df.info()"
   ]
  },
  {
   "cell_type": "markdown",
   "id": "e70e0109",
   "metadata": {},
   "source": [
    "**Data Inspection**"
   ]
  },
  {
   "cell_type": "markdown",
   "id": "172f990d",
   "metadata": {},
   "source": [
    "Use Pandas to inspect basic properties:\n",
    "\n",
    "- `df.shape` gives (rows, columns) count.\n",
    "\n",
    "- `df.columns` lists column names.\n",
    "\n",
    "- `df.describe()` provides descriptive statistics for numeric columns (count, mean, std, min, quartiles, max)."
   ]
  },
  {
   "cell_type": "code",
   "execution_count": 4,
   "id": "682beace",
   "metadata": {},
   "outputs": [
    {
     "name": "stdout",
     "output_type": "stream",
     "text": [
      "Shape: (8000, 26)\n",
      "Columns: ['ID', 'RP', 'SP', 'RP_journey', 'SP_task', 'av_car', 'av_bus', 'av_air', 'av_rail', 'time_car', 'cost_car', 'time_bus', 'cost_bus', 'access_bus', 'time_air', 'cost_air', 'access_air', 'service_air', 'time_rail', 'cost_rail', 'access_rail', 'service_rail', 'female', 'business', 'income', 'choice']\n"
     ]
    },
    {
     "data": {
      "text/html": [
       "<div>\n",
       "<style scoped>\n",
       "    .dataframe tbody tr th:only-of-type {\n",
       "        vertical-align: middle;\n",
       "    }\n",
       "\n",
       "    .dataframe tbody tr th {\n",
       "        vertical-align: top;\n",
       "    }\n",
       "\n",
       "    .dataframe thead th {\n",
       "        text-align: right;\n",
       "    }\n",
       "</style>\n",
       "<table border=\"1\" class=\"dataframe\">\n",
       "  <thead>\n",
       "    <tr style=\"text-align: right;\">\n",
       "      <th></th>\n",
       "      <th>ID</th>\n",
       "      <th>RP</th>\n",
       "      <th>SP</th>\n",
       "      <th>RP_journey</th>\n",
       "      <th>SP_task</th>\n",
       "      <th>av_car</th>\n",
       "      <th>av_bus</th>\n",
       "      <th>av_air</th>\n",
       "      <th>av_rail</th>\n",
       "      <th>time_car</th>\n",
       "      <th>...</th>\n",
       "      <th>access_air</th>\n",
       "      <th>service_air</th>\n",
       "      <th>time_rail</th>\n",
       "      <th>cost_rail</th>\n",
       "      <th>access_rail</th>\n",
       "      <th>service_rail</th>\n",
       "      <th>female</th>\n",
       "      <th>business</th>\n",
       "      <th>income</th>\n",
       "      <th>choice</th>\n",
       "    </tr>\n",
       "  </thead>\n",
       "  <tbody>\n",
       "    <tr>\n",
       "      <th>count</th>\n",
       "      <td>8000.000000</td>\n",
       "      <td>8000.00000</td>\n",
       "      <td>8000.00000</td>\n",
       "      <td>1000.00000</td>\n",
       "      <td>7000.000000</td>\n",
       "      <td>8000.000000</td>\n",
       "      <td>8000.000000</td>\n",
       "      <td>8000.000000</td>\n",
       "      <td>8000.00000</td>\n",
       "      <td>8000.000000</td>\n",
       "      <td>...</td>\n",
       "      <td>8000.000000</td>\n",
       "      <td>8000.000000</td>\n",
       "      <td>8000.000000</td>\n",
       "      <td>8000.000000</td>\n",
       "      <td>8000.000000</td>\n",
       "      <td>8000.00000</td>\n",
       "      <td>8000.000000</td>\n",
       "      <td>8000.000000</td>\n",
       "      <td>8000.000000</td>\n",
       "      <td>8000.000000</td>\n",
       "    </tr>\n",
       "    <tr>\n",
       "      <th>mean</th>\n",
       "      <td>250.500000</td>\n",
       "      <td>0.12500</td>\n",
       "      <td>0.87500</td>\n",
       "      <td>1.50000</td>\n",
       "      <td>7.500000</td>\n",
       "      <td>0.778000</td>\n",
       "      <td>0.902000</td>\n",
       "      <td>0.752000</td>\n",
       "      <td>0.87400</td>\n",
       "      <td>242.575000</td>\n",
       "      <td>...</td>\n",
       "      <td>33.855000</td>\n",
       "      <td>1.313250</td>\n",
       "      <td>124.917500</td>\n",
       "      <td>48.098750</td>\n",
       "      <td>13.075625</td>\n",
       "      <td>1.52375</td>\n",
       "      <td>0.476000</td>\n",
       "      <td>0.330000</td>\n",
       "      <td>44748.274000</td>\n",
       "      <td>2.807625</td>\n",
       "    </tr>\n",
       "    <tr>\n",
       "      <th>std</th>\n",
       "      <td>144.346301</td>\n",
       "      <td>0.33074</td>\n",
       "      <td>0.33074</td>\n",
       "      <td>0.50025</td>\n",
       "      <td>4.031417</td>\n",
       "      <td>0.415617</td>\n",
       "      <td>0.297333</td>\n",
       "      <td>0.431879</td>\n",
       "      <td>0.33187</td>\n",
       "      <td>136.951068</td>\n",
       "      <td>...</td>\n",
       "      <td>20.392945</td>\n",
       "      <td>1.155548</td>\n",
       "      <td>50.258546</td>\n",
       "      <td>22.539382</td>\n",
       "      <td>8.267539</td>\n",
       "      <td>1.10853</td>\n",
       "      <td>0.499455</td>\n",
       "      <td>0.470242</td>\n",
       "      <td>17059.942873</td>\n",
       "      <td>1.265036</td>\n",
       "    </tr>\n",
       "    <tr>\n",
       "      <th>min</th>\n",
       "      <td>1.000000</td>\n",
       "      <td>0.00000</td>\n",
       "      <td>0.00000</td>\n",
       "      <td>1.00000</td>\n",
       "      <td>1.000000</td>\n",
       "      <td>0.000000</td>\n",
       "      <td>0.000000</td>\n",
       "      <td>0.000000</td>\n",
       "      <td>0.00000</td>\n",
       "      <td>0.000000</td>\n",
       "      <td>...</td>\n",
       "      <td>0.000000</td>\n",
       "      <td>0.000000</td>\n",
       "      <td>0.000000</td>\n",
       "      <td>0.000000</td>\n",
       "      <td>0.000000</td>\n",
       "      <td>0.00000</td>\n",
       "      <td>0.000000</td>\n",
       "      <td>0.000000</td>\n",
       "      <td>15490.000000</td>\n",
       "      <td>1.000000</td>\n",
       "    </tr>\n",
       "    <tr>\n",
       "      <th>25%</th>\n",
       "      <td>125.750000</td>\n",
       "      <td>0.00000</td>\n",
       "      <td>1.00000</td>\n",
       "      <td>1.00000</td>\n",
       "      <td>4.000000</td>\n",
       "      <td>1.000000</td>\n",
       "      <td>1.000000</td>\n",
       "      <td>1.000000</td>\n",
       "      <td>1.00000</td>\n",
       "      <td>250.000000</td>\n",
       "      <td>...</td>\n",
       "      <td>35.000000</td>\n",
       "      <td>0.000000</td>\n",
       "      <td>120.000000</td>\n",
       "      <td>35.000000</td>\n",
       "      <td>5.000000</td>\n",
       "      <td>1.00000</td>\n",
       "      <td>0.000000</td>\n",
       "      <td>0.000000</td>\n",
       "      <td>30371.500000</td>\n",
       "      <td>1.000000</td>\n",
       "    </tr>\n",
       "    <tr>\n",
       "      <th>50%</th>\n",
       "      <td>250.500000</td>\n",
       "      <td>0.00000</td>\n",
       "      <td>1.00000</td>\n",
       "      <td>1.50000</td>\n",
       "      <td>7.500000</td>\n",
       "      <td>1.000000</td>\n",
       "      <td>1.000000</td>\n",
       "      <td>1.000000</td>\n",
       "      <td>1.00000</td>\n",
       "      <td>275.000000</td>\n",
       "      <td>...</td>\n",
       "      <td>40.000000</td>\n",
       "      <td>1.000000</td>\n",
       "      <td>140.000000</td>\n",
       "      <td>55.000000</td>\n",
       "      <td>15.000000</td>\n",
       "      <td>2.00000</td>\n",
       "      <td>0.000000</td>\n",
       "      <td>0.000000</td>\n",
       "      <td>44977.000000</td>\n",
       "      <td>3.000000</td>\n",
       "    </tr>\n",
       "    <tr>\n",
       "      <th>75%</th>\n",
       "      <td>375.250000</td>\n",
       "      <td>0.00000</td>\n",
       "      <td>1.00000</td>\n",
       "      <td>2.00000</td>\n",
       "      <td>11.000000</td>\n",
       "      <td>1.000000</td>\n",
       "      <td>1.000000</td>\n",
       "      <td>1.000000</td>\n",
       "      <td>1.00000</td>\n",
       "      <td>345.000000</td>\n",
       "      <td>...</td>\n",
       "      <td>50.000000</td>\n",
       "      <td>2.000000</td>\n",
       "      <td>155.000000</td>\n",
       "      <td>65.000000</td>\n",
       "      <td>20.000000</td>\n",
       "      <td>3.00000</td>\n",
       "      <td>1.000000</td>\n",
       "      <td>1.000000</td>\n",
       "      <td>59155.500000</td>\n",
       "      <td>4.000000</td>\n",
       "    </tr>\n",
       "    <tr>\n",
       "      <th>max</th>\n",
       "      <td>500.000000</td>\n",
       "      <td>1.00000</td>\n",
       "      <td>1.00000</td>\n",
       "      <td>2.00000</td>\n",
       "      <td>14.000000</td>\n",
       "      <td>1.000000</td>\n",
       "      <td>1.000000</td>\n",
       "      <td>1.000000</td>\n",
       "      <td>1.00000</td>\n",
       "      <td>390.000000</td>\n",
       "      <td>...</td>\n",
       "      <td>55.000000</td>\n",
       "      <td>3.000000</td>\n",
       "      <td>170.000000</td>\n",
       "      <td>75.000000</td>\n",
       "      <td>25.000000</td>\n",
       "      <td>3.00000</td>\n",
       "      <td>1.000000</td>\n",
       "      <td>1.000000</td>\n",
       "      <td>74891.000000</td>\n",
       "      <td>4.000000</td>\n",
       "    </tr>\n",
       "  </tbody>\n",
       "</table>\n",
       "<p>8 rows × 26 columns</p>\n",
       "</div>"
      ],
      "text/plain": [
       "                ID          RP          SP  RP_journey      SP_task  \\\n",
       "count  8000.000000  8000.00000  8000.00000  1000.00000  7000.000000   \n",
       "mean    250.500000     0.12500     0.87500     1.50000     7.500000   \n",
       "std     144.346301     0.33074     0.33074     0.50025     4.031417   \n",
       "min       1.000000     0.00000     0.00000     1.00000     1.000000   \n",
       "25%     125.750000     0.00000     1.00000     1.00000     4.000000   \n",
       "50%     250.500000     0.00000     1.00000     1.50000     7.500000   \n",
       "75%     375.250000     0.00000     1.00000     2.00000    11.000000   \n",
       "max     500.000000     1.00000     1.00000     2.00000    14.000000   \n",
       "\n",
       "            av_car       av_bus       av_air     av_rail     time_car  ...  \\\n",
       "count  8000.000000  8000.000000  8000.000000  8000.00000  8000.000000  ...   \n",
       "mean      0.778000     0.902000     0.752000     0.87400   242.575000  ...   \n",
       "std       0.415617     0.297333     0.431879     0.33187   136.951068  ...   \n",
       "min       0.000000     0.000000     0.000000     0.00000     0.000000  ...   \n",
       "25%       1.000000     1.000000     1.000000     1.00000   250.000000  ...   \n",
       "50%       1.000000     1.000000     1.000000     1.00000   275.000000  ...   \n",
       "75%       1.000000     1.000000     1.000000     1.00000   345.000000  ...   \n",
       "max       1.000000     1.000000     1.000000     1.00000   390.000000  ...   \n",
       "\n",
       "        access_air  service_air    time_rail    cost_rail  access_rail  \\\n",
       "count  8000.000000  8000.000000  8000.000000  8000.000000  8000.000000   \n",
       "mean     33.855000     1.313250   124.917500    48.098750    13.075625   \n",
       "std      20.392945     1.155548    50.258546    22.539382     8.267539   \n",
       "min       0.000000     0.000000     0.000000     0.000000     0.000000   \n",
       "25%      35.000000     0.000000   120.000000    35.000000     5.000000   \n",
       "50%      40.000000     1.000000   140.000000    55.000000    15.000000   \n",
       "75%      50.000000     2.000000   155.000000    65.000000    20.000000   \n",
       "max      55.000000     3.000000   170.000000    75.000000    25.000000   \n",
       "\n",
       "       service_rail       female     business        income       choice  \n",
       "count    8000.00000  8000.000000  8000.000000   8000.000000  8000.000000  \n",
       "mean        1.52375     0.476000     0.330000  44748.274000     2.807625  \n",
       "std         1.10853     0.499455     0.470242  17059.942873     1.265036  \n",
       "min         0.00000     0.000000     0.000000  15490.000000     1.000000  \n",
       "25%         1.00000     0.000000     0.000000  30371.500000     1.000000  \n",
       "50%         2.00000     0.000000     0.000000  44977.000000     3.000000  \n",
       "75%         3.00000     1.000000     1.000000  59155.500000     4.000000  \n",
       "max         3.00000     1.000000     1.000000  74891.000000     4.000000  \n",
       "\n",
       "[8 rows x 26 columns]"
      ]
     },
     "execution_count": 4,
     "metadata": {},
     "output_type": "execute_result"
    }
   ],
   "source": [
    "print(\"Shape:\", df.shape)\n",
    "print(\"Columns:\", df.columns.tolist())\n",
    "df.describe()\n"
   ]
  },
  {
   "cell_type": "markdown",
   "id": "15345cbf",
   "metadata": {},
   "source": [
    "This confirm there are 8000 rows and, for example, 25 columns. The descriptive stats show, for instance:\n",
    "\n",
    "- Travel times and costs: their mean, min, max. For example, `time_car` have a mean ~242 minutes, `cost_car` mean ~£4\n",
    "- `income`: mean ~ £44,748\n",
    "- `choice`: min 1, max 4 (since choices range 1-4)."
   ]
  },
  {
   "cell_type": "code",
   "execution_count": 35,
   "id": "f725c7b7",
   "metadata": {},
   "outputs": [
    {
     "name": "stdout",
     "output_type": "stream",
     "text": [
      "Car travel time - mean: 242.575 std: 136.9425084661443\n",
      "Bus travel time - mean: 334.005 std: 115.63113756683362\n",
      "Air travel time - mean: 52.69375 std: 32.64285849826115\n",
      "Rail travel time - mean: 124.9175 std: 50.255404622289134\n",
      "Mode shares:\n",
      " choice\n",
      "4    0.437625\n",
      "1    0.284750\n",
      "3    0.217125\n",
      "2    0.060500\n",
      "Name: proportion, dtype: float64\n",
      "Average income: 44748.274\n"
     ]
    }
   ],
   "source": [
    "## numpy to explore the data\n",
    "import numpy as np\n",
    "\n",
    "# Get basic statistics for travel times\n",
    "print(\"Car travel time - mean:\", np.mean(df[\"time_car\"]), \"std:\", np.std(df[\"time_car\"]))\n",
    "print(\"Bus travel time - mean:\", np.mean(df[\"time_bus\"]), \"std:\", np.std(df[\"time_bus\"]))\n",
    "print(\"Air travel time - mean:\", np.mean(df[\"time_air\"]), \"std:\", np.std(df[\"time_air\"]))\n",
    "print(\"Rail travel time - mean:\", np.mean(df[\"time_rail\"]), \"std:\", np.std(df[\"time_rail\"]))\n",
    "# Calculate mode shares\n",
    "mode_counts = df['choice'].value_counts(normalize=True)\n",
    "print(\"Mode shares:\\n\", mode_counts)    \n",
    "# Calculate average income\n",
    "avg_income = np.mean(df['income'])\n",
    "print(\"Average income:\", avg_income)\n"
   ]
  },
  {
   "cell_type": "code",
   "execution_count": 36,
   "id": "d75692fb",
   "metadata": {},
   "outputs": [
    {
     "name": "stdout",
     "output_type": "stream",
     "text": [
      "Correlation matrix:\n",
      "                         ID            RP            SP    RP_journey  \\\n",
      "ID            1.000000e+00 -2.416043e-16 -2.565136e-15 -2.953677e-18   \n",
      "RP           -2.416043e-16  1.000000e+00 -1.000000e+00           NaN   \n",
      "SP           -2.565136e-15 -1.000000e+00  1.000000e+00           NaN   \n",
      "RP_journey   -2.953677e-18           NaN           NaN  1.000000e+00   \n",
      "SP_task      -1.828862e-15           NaN           NaN           NaN   \n",
      "av_car        5.051238e-03 -3.562369e-18  5.496271e-17  1.669644e-18   \n",
      "av_bus        2.001697e-02 -1.381171e-17  7.229369e-17  3.640814e-18   \n",
      "av_air       -5.005429e-03 -1.072500e-17 -6.267382e-17  1.542505e-18   \n",
      "av_rail      -2.732877e-02  9.274347e-18  7.068182e-17  7.778434e-18   \n",
      "time_car      4.706778e-03 -8.928674e-03  8.928674e-03 -1.458089e-02   \n",
      "cost_car      3.996195e-03  4.273268e-03 -4.273268e-03  3.927667e-03   \n",
      "time_bus      1.715317e-02 -1.814133e-03  1.814133e-03 -2.728767e-02   \n",
      "cost_bus      2.108910e-02 -2.215269e-03  2.215269e-03  2.210526e-02   \n",
      "access_bus    1.173903e-02 -8.465637e-03  8.465637e-03 -3.989321e-02   \n",
      "time_air     -6.948437e-03 -8.539350e-04  8.539350e-04 -2.708608e-02   \n",
      "cost_air     -2.911140e-03  1.917580e-03 -1.917580e-03 -2.297666e-03   \n",
      "access_air   -3.169085e-03  3.058314e-03 -3.058314e-03  1.465352e-02   \n",
      "service_air  -6.422451e-03 -4.295735e-01  4.295735e-01           NaN   \n",
      "time_rail    -2.407322e-02 -1.710998e-03  1.710998e-03  5.378759e-02   \n",
      "cost_rail    -2.203553e-02  9.747631e-03 -9.747631e-03 -3.657745e-02   \n",
      "access_rail  -1.503811e-02 -1.171563e-03  1.171563e-03 -2.412135e-02   \n",
      "service_rail -8.876211e-03 -5.195702e-01  5.195702e-01           NaN   \n",
      "female       -3.548566e-02 -1.094384e-17  1.091706e-16 -2.556460e-18   \n",
      "business      2.924742e-02  4.807886e-18 -2.594696e-17  4.249994e-18   \n",
      "income       -6.166841e-02  1.726957e-17  1.246250e-16  5.331504e-18   \n",
      "choice        3.645310e-03 -8.086173e-02  8.086173e-02  3.435462e-02   \n",
      "income_z     -6.166841e-02  2.656225e-17  1.207366e-16  6.217249e-18   \n",
      "time_car_z    4.706778e-03 -8.928674e-03  8.928674e-03 -1.458089e-02   \n",
      "\n",
      "                   SP_task        av_car        av_bus        av_air  \\\n",
      "ID           -1.828862e-15  5.051238e-03  2.001697e-02 -5.005429e-03   \n",
      "RP                     NaN -3.562369e-18 -1.381171e-17 -1.072500e-17   \n",
      "SP                     NaN  5.496271e-17  7.229369e-17 -6.267382e-17   \n",
      "RP_journey             NaN  1.669644e-18  3.640814e-18  1.542505e-18   \n",
      "SP_task       1.000000e+00  2.768194e-17 -2.080280e-17 -3.367307e-17   \n",
      "av_car        2.768194e-17  1.000000e+00 -1.421157e-02 -9.503337e-02   \n",
      "av_bus       -2.080280e-17 -1.421157e-02  1.000000e+00 -4.909815e-02   \n",
      "av_air       -3.367307e-17 -9.503337e-02 -4.909815e-02  1.000000e+00   \n",
      "av_rail       1.212649e-16  2.920668e-02 -1.048816e-01 -5.057576e-02   \n",
      "time_car     -1.452966e-02  9.462251e-01 -1.110217e-02 -8.985460e-02   \n",
      "cost_car      2.308611e-02  9.364876e-01 -1.031232e-02 -8.945338e-02   \n",
      "time_bus     -1.599898e-02 -9.083602e-03  9.521118e-01 -4.829749e-02   \n",
      "cost_bus      1.133729e-02 -1.809076e-02  7.421385e-01 -3.634383e-02   \n",
      "access_bus   -3.880825e-02 -1.525450e-04  5.538599e-01 -3.340031e-02   \n",
      "time_air     -3.370289e-02 -9.772441e-02 -4.093295e-02  9.270173e-01   \n",
      "cost_air      4.477852e-03 -7.480074e-02 -4.757351e-02  8.811868e-01   \n",
      "access_air    1.505011e-02 -9.179669e-02 -4.861002e-02  9.534259e-01   \n",
      "service_air  -9.276800e-03 -5.900286e-02 -3.289720e-02  6.526847e-01   \n",
      "time_rail     1.264199e-02  3.251914e-02 -1.033576e-01 -5.018733e-02   \n",
      "cost_rail     6.059956e-03  2.166452e-02 -8.097046e-02 -4.394916e-02   \n",
      "access_rail  -1.375551e-02  1.354563e-02 -7.494741e-02 -3.021460e-02   \n",
      "service_rail -5.663202e-02  1.008864e-02 -5.096921e-02 -2.608155e-02   \n",
      "female        2.073492e-17  6.587136e-02 -2.257452e-02 -9.050570e-03   \n",
      "business     -4.451463e-17  6.447775e-03  4.535013e-02 -7.958152e-02   \n",
      "income        1.503059e-16  5.934794e-03  2.868547e-03 -1.045636e-01   \n",
      "choice        2.583229e-03 -2.652766e-01 -5.923444e-03 -1.731548e-02   \n",
      "income_z      1.395003e-16  5.934794e-03  2.868547e-03 -1.045636e-01   \n",
      "time_car_z   -1.452966e-02  9.462251e-01 -1.110217e-02 -8.985460e-02   \n",
      "\n",
      "                   av_rail  time_car  ...  time_rail  cost_rail  access_rail  \\\n",
      "ID           -2.732877e-02  0.004707  ...  -0.024073  -0.022036    -0.015038   \n",
      "RP            9.274347e-18 -0.008929  ...  -0.001711   0.009748    -0.001172   \n",
      "SP            7.068182e-17  0.008929  ...   0.001711  -0.009748     0.001172   \n",
      "RP_journey    7.778434e-18 -0.014581  ...   0.053788  -0.036577    -0.024121   \n",
      "SP_task       1.212649e-16 -0.014530  ...   0.012642   0.006060    -0.013756   \n",
      "av_car        2.920668e-02  0.946225  ...   0.032519   0.021665     0.013546   \n",
      "av_bus       -1.048816e-01 -0.011102  ...  -0.103358  -0.080970    -0.074947   \n",
      "av_air       -5.057576e-02 -0.089855  ...  -0.050187  -0.043949    -0.030215   \n",
      "av_rail       1.000000e+00  0.027797  ...   0.943778   0.810305     0.600541   \n",
      "time_car      2.779667e-02  1.000000  ...   0.016583   0.027940    -0.017515   \n",
      "cost_car      2.968096e-02  0.818268  ...   0.013703   0.012986    -0.043475   \n",
      "time_bus     -1.007501e-01  0.020075  ...  -0.108316  -0.065590    -0.079860   \n",
      "cost_bus     -6.785507e-02 -0.004366  ...  -0.076614  -0.088558    -0.100921   \n",
      "access_bus   -5.422766e-02 -0.012515  ...  -0.100551  -0.089111    -0.263972   \n",
      "time_air     -4.598079e-02 -0.114490  ...  -0.056212  -0.073446     0.032758   \n",
      "cost_air     -4.550803e-02 -0.059829  ...  -0.057020  -0.014304     0.061471   \n",
      "access_air   -4.634945e-02 -0.078178  ...  -0.046498  -0.038279    -0.167561   \n",
      "service_air  -3.626476e-02 -0.034323  ...  -0.035719  -0.096961    -0.033925   \n",
      "time_rail     9.437785e-01  0.016583  ...   1.000000   0.667723     0.632361   \n",
      "cost_rail     8.103049e-01  0.027940  ...   0.667723   1.000000     0.512390   \n",
      "access_rail   6.005413e-01 -0.017515  ...   0.632361   0.512390     1.000000   \n",
      "service_rail  5.219427e-01 -0.014476  ...   0.505107   0.438439     0.330219   \n",
      "female        2.399033e-02  0.062022  ...   0.024698   0.018989     0.025826   \n",
      "business     -2.691621e-03  0.008322  ...  -0.005407   0.000581    -0.003848   \n",
      "income       -5.049119e-02  0.001568  ...  -0.047741  -0.036556    -0.028869   \n",
      "choice        2.486706e-01 -0.226594  ...   0.247574   0.055832     0.069728   \n",
      "income_z     -5.049119e-02  0.001568  ...  -0.047741  -0.036556    -0.028869   \n",
      "time_car_z    2.779667e-02  1.000000  ...   0.016583   0.027940    -0.017515   \n",
      "\n",
      "              service_rail        female      business        income  \\\n",
      "ID               -0.008876 -3.548566e-02  2.924742e-02 -6.166841e-02   \n",
      "RP               -0.519570 -1.094384e-17  4.807886e-18  1.726957e-17   \n",
      "SP                0.519570  1.091706e-16 -2.594696e-17  1.246250e-16   \n",
      "RP_journey             NaN -2.556460e-18  4.249994e-18  5.331504e-18   \n",
      "SP_task          -0.056632  2.073492e-17 -4.451463e-17  1.503059e-16   \n",
      "av_car            0.010089  6.587136e-02  6.447775e-03  5.934794e-03   \n",
      "av_bus           -0.050969 -2.257452e-02  4.535013e-02  2.868547e-03   \n",
      "av_air           -0.026082 -9.050570e-03 -7.958152e-02 -1.045636e-01   \n",
      "av_rail           0.521943  2.399033e-02 -2.691621e-03 -5.049119e-02   \n",
      "time_car         -0.014476  6.202157e-02  8.322060e-03  1.568046e-03   \n",
      "cost_car          0.031468  6.354889e-02  7.434303e-03  4.623430e-03   \n",
      "time_bus         -0.054283 -1.745929e-02  4.866268e-02 -2.274198e-03   \n",
      "cost_bus         -0.028610 -2.988341e-02  2.674602e-02  1.377249e-02   \n",
      "access_bus       -0.048833 -2.097380e-02  2.246036e-02  7.876162e-03   \n",
      "time_air         -0.017780 -1.133100e-02 -7.811132e-02 -9.322995e-02   \n",
      "cost_air         -0.039858 -4.495590e-03 -6.635781e-02 -9.500562e-02   \n",
      "access_air       -0.029987 -6.748767e-03 -7.446741e-02 -1.033832e-01   \n",
      "service_air       0.059580 -7.766795e-03 -4.347811e-02 -6.477771e-02   \n",
      "time_rail         0.505107  2.469825e-02 -5.407154e-03 -4.774147e-02   \n",
      "cost_rail         0.438439  1.898943e-02  5.814973e-04 -3.655598e-02   \n",
      "access_rail       0.330219  2.582563e-02 -3.847505e-03 -2.886888e-02   \n",
      "service_rail      1.000000  1.977089e-02  1.750726e-03 -3.955453e-02   \n",
      "female            0.019771  1.000000e+00  2.095085e-02  5.432452e-02   \n",
      "business          0.001751  2.095085e-02  1.000000e+00  1.950003e-02   \n",
      "income           -0.039555  5.432452e-02  1.950003e-02  1.000000e+00   \n",
      "choice            0.181422  6.443217e-03  1.897427e-01  5.584777e-02   \n",
      "income_z         -0.039555  5.432452e-02  1.950003e-02  1.000000e+00   \n",
      "time_car_z       -0.014476  6.202157e-02  8.322060e-03  1.568046e-03   \n",
      "\n",
      "                choice      income_z  time_car_z  \n",
      "ID            0.003645 -6.166841e-02    0.004707  \n",
      "RP           -0.080862  2.656225e-17   -0.008929  \n",
      "SP            0.080862  1.207366e-16    0.008929  \n",
      "RP_journey    0.034355  6.217249e-18   -0.014581  \n",
      "SP_task       0.002583  1.395003e-16   -0.014530  \n",
      "av_car       -0.265277  5.934794e-03    0.946225  \n",
      "av_bus       -0.005923  2.868547e-03   -0.011102  \n",
      "av_air       -0.017315 -1.045636e-01   -0.089855  \n",
      "av_rail       0.248671 -5.049119e-02    0.027797  \n",
      "time_car     -0.226594  1.568046e-03    1.000000  \n",
      "cost_car     -0.232065  4.623430e-03    0.818268  \n",
      "time_bus     -0.003693 -2.274198e-03    0.020075  \n",
      "cost_bus      0.034980  1.377249e-02   -0.004366  \n",
      "access_bus    0.055073  7.876162e-03   -0.012515  \n",
      "time_air     -0.005916 -9.322995e-02   -0.114490  \n",
      "cost_air     -0.039146 -9.500562e-02   -0.059829  \n",
      "access_air   -0.006189 -1.033832e-01   -0.078178  \n",
      "service_air   0.050123 -6.477771e-02   -0.034323  \n",
      "time_rail     0.247574 -4.774147e-02    0.016583  \n",
      "cost_rail     0.055832 -3.655598e-02    0.027940  \n",
      "access_rail   0.069728 -2.886888e-02   -0.017515  \n",
      "service_rail  0.181422 -3.955453e-02   -0.014476  \n",
      "female        0.006443  5.432452e-02    0.062022  \n",
      "business      0.189743  1.950003e-02    0.008322  \n",
      "income        0.055848  1.000000e+00    0.001568  \n",
      "choice        1.000000  5.584777e-02   -0.226594  \n",
      "income_z      0.055848  1.000000e+00    0.001568  \n",
      "time_car_z   -0.226594  1.568046e-03    1.000000  \n",
      "\n",
      "[28 rows x 28 columns]\n"
     ]
    }
   ],
   "source": [
    "# explore the data further using pandas\n",
    "print(\"Correlation matrix:\\n\", df.corr())\n"
   ]
  },
  {
   "cell_type": "code",
   "execution_count": 37,
   "id": "35709257",
   "metadata": {},
   "outputs": [
    {
     "name": "stdout",
     "output_type": "stream",
     "text": [
      "Value counts for mode choice:\n",
      " choice\n",
      "4    3501\n",
      "1    2278\n",
      "3    1737\n",
      "2     484\n",
      "Name: count, dtype: int64\n",
      "Mean income by gender (female=1 means female):\n",
      " female\n",
      "0    43865.022901\n",
      "1    45720.592437\n",
      "Name: income, dtype: float64\n",
      "Mode shares by trip purpose (business=0/1):\n",
      " business  choice\n",
      "0         4         0.409328\n",
      "          1         0.341791\n",
      "          3         0.162313\n",
      "          2         0.086567\n",
      "1         4         0.495076\n",
      "          3         0.328409\n",
      "          1         0.168939\n",
      "          2         0.007576\n",
      "Name: proportion, dtype: float64\n"
     ]
    }
   ],
   "source": [
    "print(\"Value counts for mode choice:\\n\", df['choice'].value_counts())\n",
    "# Group by gender (female dummy) and calculate mean income\n",
    "mean_income_by_gender = df.groupby('female')['income'].mean()\n",
    "print(\"Mean income by gender (female=1 means female):\\n\", mean_income_by_gender)\n",
    "# Group by trip purpose (business dummy) and calculate mode shares\n",
    "mode_shares_by_purpose = df.groupby('business')['choice'].value_counts(normalize=True)\n",
    "print(\"Mode shares by trip purpose (business=0/1):\\n\", mode_shares_by_purpose)"
   ]
  },
  {
   "cell_type": "markdown",
   "id": "f29a96c4",
   "metadata": {},
   "source": [
    "## 02.2 Data Cleaning and Preparation"
   ]
  },
  {
   "cell_type": "markdown",
   "id": "b5a7ac41",
   "metadata": {},
   "source": [
    "For this introductory analysis, the data is already clean in structure, but a few things we might do:\n",
    "\n",
    "- Handle availability: To avoid skewing calculations, sometimes it's useful to set unavailable alternatives' attributes to NaN (so they don't count in means). But for simplicity, we'll perhaps filter by available when needed or interpret carefully.\n",
    "\n",
    "- Create derived variables: e.g., total travel time including access for composite modes (air/rail) if needed, or perhaps convert time to hours.\n",
    "\n",
    "- Z-scoring (standardization): It's common to standardize continuous variables (mean 0, std 1) for model estimation or comparison. We'll demonstrate z-scoring on, say, income or travel time to show how to do it."
   ]
  },
  {
   "cell_type": "markdown",
   "id": "0be3dc24",
   "metadata": {},
   "source": [
    "Let's do a quick example: Add a column for standardized income (z-score of income):"
   ]
  },
  {
   "cell_type": "code",
   "execution_count": 7,
   "id": "367a090e",
   "metadata": {},
   "outputs": [
    {
     "name": "stdout",
     "output_type": "stream",
     "text": [
      "Income mean: 44748.274  std: 17059.94287250915\n"
     ]
    },
    {
     "data": {
      "text/html": [
       "<div>\n",
       "<style scoped>\n",
       "    .dataframe tbody tr th:only-of-type {\n",
       "        vertical-align: middle;\n",
       "    }\n",
       "\n",
       "    .dataframe tbody tr th {\n",
       "        vertical-align: top;\n",
       "    }\n",
       "\n",
       "    .dataframe thead th {\n",
       "        text-align: right;\n",
       "    }\n",
       "</style>\n",
       "<table border=\"1\" class=\"dataframe\">\n",
       "  <thead>\n",
       "    <tr style=\"text-align: right;\">\n",
       "      <th></th>\n",
       "      <th>income</th>\n",
       "      <th>income_z</th>\n",
       "    </tr>\n",
       "  </thead>\n",
       "  <tbody>\n",
       "    <tr>\n",
       "      <th>0</th>\n",
       "      <td>46705</td>\n",
       "      <td>0.114697</td>\n",
       "    </tr>\n",
       "    <tr>\n",
       "      <th>1</th>\n",
       "      <td>46705</td>\n",
       "      <td>0.114697</td>\n",
       "    </tr>\n",
       "    <tr>\n",
       "      <th>2</th>\n",
       "      <td>46705</td>\n",
       "      <td>0.114697</td>\n",
       "    </tr>\n",
       "    <tr>\n",
       "      <th>3</th>\n",
       "      <td>46705</td>\n",
       "      <td>0.114697</td>\n",
       "    </tr>\n",
       "    <tr>\n",
       "      <th>4</th>\n",
       "      <td>46705</td>\n",
       "      <td>0.114697</td>\n",
       "    </tr>\n",
       "  </tbody>\n",
       "</table>\n",
       "</div>"
      ],
      "text/plain": [
       "   income  income_z\n",
       "0   46705  0.114697\n",
       "1   46705  0.114697\n",
       "2   46705  0.114697\n",
       "3   46705  0.114697\n",
       "4   46705  0.114697"
      ]
     },
     "execution_count": 7,
     "metadata": {},
     "output_type": "execute_result"
    }
   ],
   "source": [
    "income_mean = df[\"income\"].mean()\n",
    "income_std = df[\"income\"].std()\n",
    "df[\"income_z\"] = (df[\"income\"] - income_mean) / income_std\n",
    "print(\"Income mean:\", income_mean, \" std:\", income_std)\n",
    "df[[\"income\", \"income_z\"]].head(5) \n",
    "\n",
    "\n"
   ]
  },
  {
   "cell_type": "markdown",
   "id": "bfc894a8",
   "metadata": {},
   "source": [
    "This computes `income_z` where a value of 0 means the income is exactly average, +1 means one standard deviation above average, etc. For context, if mean income ~44748 and std ~ around maybe 17000, an income of 60k might have `income_z` ~ +1. We include this to show Pandas operations on columns (which operate elementwise, no loop needed)."
   ]
  },
  {
   "cell_type": "markdown",
   "id": "01ee67d8",
   "metadata": {},
   "source": [
    "Similarly, we could standardize travel times or costs if needed:"
   ]
  },
  {
   "cell_type": "code",
   "execution_count": 8,
   "id": "76998952",
   "metadata": {},
   "outputs": [
    {
     "name": "stdout",
     "output_type": "stream",
     "text": [
      "Time car mean: 242.575  std: 136.95106817540452\n"
     ]
    },
    {
     "data": {
      "text/html": [
       "<div>\n",
       "<style scoped>\n",
       "    .dataframe tbody tr th:only-of-type {\n",
       "        vertical-align: middle;\n",
       "    }\n",
       "\n",
       "    .dataframe tbody tr th {\n",
       "        vertical-align: top;\n",
       "    }\n",
       "\n",
       "    .dataframe thead th {\n",
       "        text-align: right;\n",
       "    }\n",
       "</style>\n",
       "<table border=\"1\" class=\"dataframe\">\n",
       "  <thead>\n",
       "    <tr style=\"text-align: right;\">\n",
       "      <th></th>\n",
       "      <th>time_car</th>\n",
       "      <th>time_car_z</th>\n",
       "    </tr>\n",
       "  </thead>\n",
       "  <tbody>\n",
       "    <tr>\n",
       "      <th>0</th>\n",
       "      <td>0</td>\n",
       "      <td>-1.771253</td>\n",
       "    </tr>\n",
       "    <tr>\n",
       "      <th>1</th>\n",
       "      <td>0</td>\n",
       "      <td>-1.771253</td>\n",
       "    </tr>\n",
       "    <tr>\n",
       "      <th>2</th>\n",
       "      <td>0</td>\n",
       "      <td>-1.771253</td>\n",
       "    </tr>\n",
       "    <tr>\n",
       "      <th>3</th>\n",
       "      <td>0</td>\n",
       "      <td>-1.771253</td>\n",
       "    </tr>\n",
       "    <tr>\n",
       "      <th>4</th>\n",
       "      <td>0</td>\n",
       "      <td>-1.771253</td>\n",
       "    </tr>\n",
       "  </tbody>\n",
       "</table>\n",
       "</div>"
      ],
      "text/plain": [
       "   time_car  time_car_z\n",
       "0         0   -1.771253\n",
       "1         0   -1.771253\n",
       "2         0   -1.771253\n",
       "3         0   -1.771253\n",
       "4         0   -1.771253"
      ]
     },
     "execution_count": 8,
     "metadata": {},
     "output_type": "execute_result"
    }
   ],
   "source": [
    "time_car_mean = df[\"time_car\"].mean()\n",
    "time_car_std = df[\"time_car\"].std()\n",
    "df[\"time_car_z\"] = (df[\"time_car\"] - time_car_mean) / time_car_std\n",
    "print(\"Time car mean:\", time_car_mean, \" std:\", time_car_std)\n",
    "df[[\"time_car\", \"time_car_z\"]].head(5)"
   ]
  },
  {
   "cell_type": "markdown",
   "id": "ffafe88a",
   "metadata": {},
   "source": [
    "and so on for each mode's time or cost. However, remember that zeros for unavailable modes could skew the mean (since those zeros are not actual travel times but placeholders). For demonstration, let's focus on some meaningful analysis rather than standardizing everything blindly."
   ]
  },
  {
   "cell_type": "markdown",
   "id": "18b525f8",
   "metadata": {},
   "source": [
    "**Computing Mode Shares**"
   ]
  },
  {
   "cell_type": "markdown",
   "id": "59592a48",
   "metadata": {},
   "source": [
    "A fundamental analysis in mode choice is to look at the market share of each alternative (how often each mode is chosen in the dataset). We can compute this easily with Pandas:"
   ]
  },
  {
   "cell_type": "code",
   "execution_count": 13,
   "id": "04d52c97",
   "metadata": {},
   "outputs": [
    {
     "name": "stdout",
     "output_type": "stream",
     "text": [
      "Choice counts:\n",
      " choice\n",
      "4    3501\n",
      "1    2278\n",
      "3    1737\n",
      "2     484\n",
      "Name: count, dtype: int64\n",
      "\n",
      "Choice shares (%):\n",
      " choice\n",
      "4    43.76\n",
      "1    28.48\n",
      "3    21.71\n",
      "2     6.05\n",
      "Name: count, dtype: float64\n"
     ]
    }
   ],
   "source": [
    "choice_counts = df[\"choice\"].value_counts()\n",
    "print(\"Choice counts:\\n\", choice_counts)\n",
    "print(\"\\nChoice shares (%):\\n\", (choice_counts / len(df) * 100).round(2))\n"
   ]
  },
  {
   "cell_type": "code",
   "execution_count": 18,
   "id": "cd2b92e9",
   "metadata": {},
   "outputs": [
    {
     "data": {
      "text/plain": [
       "<Axes: title={'center': 'Mode Shares (%)'}, xlabel='Mode', ylabel='Percentage'>"
      ]
     },
     "execution_count": 18,
     "metadata": {},
     "output_type": "execute_result"
    },
    {
     "data": {
      "image/png": "[encoded data removed]",
      "text/plain": [
       "<Figure size 640x480 with 1 Axes>"
      ]
     },
     "metadata": {},
     "output_type": "display_data"
    }
   ],
   "source": [
    "mode_share = (choice_counts / len(df) * 100).round(2)\n",
    "mode_share.index = [\"Car\", \"Bus\", \"Air\", \"Rail\"]\n",
    "mode_share.plot(kind=\"bar\", title=\"Mode Shares (%)\", ylabel=\"Percentage\", xlabel=\"Mode\")"
   ]
  },
  {
   "cell_type": "markdown",
   "id": "626ed8d0",
   "metadata": {},
   "source": [
    "From this, we can interpret: e.g., Car was chosen in about 44% of observations, Bus in 28%, Air ~22%, Rail ~6%. This suggests, in the survey scenarios, car is the most preferred mode on average (if available), but the others also capture significant shares. These shares combine both RP and SP data; one could separate them (using `df[df[\"RP\"]==1]` vs SP) to see differences in real vs stated contexts, but we won't digress that far here."
   ]
  },
  {
   "cell_type": "markdown",
   "id": "ea8653e8",
   "metadata": {},
   "source": [
    "We should also interpret behaviorally: A higher share for car might indicate that for many trips, driving offers higher utility (maybe due to door-to-door convenience) despite higher cost. Bus and air being in between suggests moderate attractiveness."
   ]
  },
  {
   "cell_type": "markdown",
   "id": "a15ff66a",
   "metadata": {},
   "source": [
    "**Inspecting and Interpreting Variables**"
   ]
  },
  {
   "cell_type": "markdown",
   "id": "520b9c6f",
   "metadata": {},
   "source": [
    "Let's do a bit of exploration to connect data with behavior:\n",
    "\n",
    "- What is the average travel time and cost by mode (for the chosen mode vs alternatives)?\n",
    "\n",
    "- How do individual characteristics like income or gender relate to choices?\n",
    "\n",
    "We can use Pandas grouping for this. For example, to find the average income of people who chose each mode:"
   ]
  },
  {
   "cell_type": "code",
   "execution_count": 17,
   "id": "9f1f7653",
   "metadata": {},
   "outputs": [
    {
     "name": "stdout",
     "output_type": "stream",
     "text": [
      "Average income by chosen mode:\n",
      " choice\n",
      "1    43832.023266\n",
      "2    36835.694215\n",
      "3    47212.312608\n",
      "4    45215.818338\n",
      "Name: income, dtype: float64\n"
     ]
    }
   ],
   "source": [
    "avg_income_by_choice = df.groupby(\"choice\")[\"income\"].mean()\n",
    "print(\"Average income by chosen mode:\\n\", avg_income_by_choice)"
   ]
  },
  {
   "cell_type": "markdown",
   "id": "46e3f487",
   "metadata": {},
   "source": [
    "If we see that air choosers have higher income on average than bus, rail, or car choosers, that aligns with expectations: higher-income travelers may prefer faster or more premium modes. Lower-income travelers might be more cost-sensitive and opt for bus. This is a hypothesis we can start to see in the data."
   ]
  },
  {
   "cell_type": "markdown",
   "id": "cce86d4f",
   "metadata": {},
   "source": [
    "We can also examine the effect of the female dummy (gender) on mode choice:"
   ]
  },
  {
   "cell_type": "code",
   "execution_count": 19,
   "id": "ca836528",
   "metadata": {},
   "outputs": [
    {
     "name": "stdout",
     "output_type": "stream",
     "text": [
      "Percentage of female travellers by chosen mode:\n",
      " choice\n",
      "1    47.1\n",
      "2    46.5\n",
      "3    48.1\n",
      "4    47.8\n",
      "Name: female, dtype: float64\n"
     ]
    }
   ],
   "source": [
    "share_female = df.groupby(\"choice\")[\"female\"].mean() * 100  # % of observations that are female, by mode chosen\n",
    "print(\"Percentage of female travellers by chosen mode:\\n\", share_female.round(1))\n"
   ]
  },
  {
   "cell_type": "markdown",
   "id": "cc8f8679",
   "metadata": {},
   "source": [
    "We see that among bus choices 46% are female but among air choices 48% are female, it might suggest some gender preference or differences in trip contexts (e.g., maybe females in this sample were a bit more likely to choose air). However, be cautious: this could also reflect correlation with other factors (like trip purpose or income)."
   ]
  },
  {
   "cell_type": "markdown",
   "id": "0f84f460",
   "metadata": {},
   "source": [
    "Another useful analysis: **trip purpose** (business or not) effect. The dataset has a `business` dummy (1 for business trips). Business travelers might have different preferences (often value time more than cost, possibly choosing faster modes). We can check mode share split by business vs non-business:"
   ]
  },
  {
   "cell_type": "code",
   "execution_count": 20,
   "id": "bdb183d3",
   "metadata": {},
   "outputs": [
    {
     "name": "stdout",
     "output_type": "stream",
     "text": [
      "business  choice\n",
      "0         1         34.2\n",
      "          2          8.7\n",
      "          3         16.2\n",
      "          4         40.9\n",
      "1         1         16.9\n",
      "          2          0.8\n",
      "          3         32.8\n",
      "          4         49.5\n",
      "Name: proportion, dtype: float64\n"
     ]
    }
   ],
   "source": [
    "business_share = df.groupby(\"business\")[\"choice\"].value_counts(normalize=True).sort_index() * 100\n",
    "print(business_share.round(1))\n"
   ]
  },
  {
   "cell_type": "markdown",
   "id": "7fc5ebd5",
   "metadata": {},
   "source": [
    "This gives two blocks (business=0 and business=1) each with the percentage choosing each mode. We see, for example, that among business trips, air and rail shares are higher (time is critical), whereas among non-business, cost-sensitive modes (bus and car) have higher share."
   ]
  },
  {
   "cell_type": "markdown",
   "id": "588450f4",
   "metadata": {},
   "source": [
    "Such insights connect data to behavioral interpretation:\n",
    "\n",
    "- Higher mode share for air in business trips would indicate business travelers often fly to save time (despite cost).\n",
    "\n",
    "- Higher bus usage among non-business could imply leisure or personal travelers trade time for money savings."
   ]
  },
  {
   "cell_type": "markdown",
   "id": "da29f15c",
   "metadata": {},
   "source": [
    "**Z-Score Example: Standardizing Travel Time**"
   ]
  },
  {
   "cell_type": "markdown",
   "id": "131db693",
   "metadata": {},
   "source": [
    "We mentioned standardization. Let's demonstrate z-scoring a variable fully and explain why it's done. We did income above; let's do travel time for one mode for practice:"
   ]
  },
  {
   "cell_type": "code",
   "execution_count": 21,
   "id": "a5801e32",
   "metadata": {},
   "outputs": [
    {
     "name": "stdout",
     "output_type": "stream",
     "text": [
      "Car travel time - mean: 242.575 std: 136.95106817540452\n",
      "   time_car  time_car_z\n",
      "0         0   -1.771253\n",
      "1         0   -1.771253\n",
      "2         0   -1.771253\n"
     ]
    }
   ],
   "source": [
    "df[\"time_car_z\"] = (df[\"time_car\"] - df[\"time_car\"].mean()) / df[\"time_car\"].std()\n",
    "print(\"Car travel time - mean:\", df[\"time_car\"].mean(), \"std:\", df[\"time_car\"].std())\n",
    "print(df[[\"time_car\", \"time_car_z\"]].head(3))\n"
   ]
  },
  {
   "cell_type": "markdown",
   "id": "0bcf3af8",
   "metadata": {},
   "source": [
    "This outputs the mean and std (mean ~242 min, std maybe ~137 min). And first rows show `time_car` alongside a `time_car_z`. Standardizing is often done before modeling if variables have very different scales, to make model convergence easier or to compare effect sizes. For example, a coefficient on a z-scored variable indicates impact per one std dev change."
   ]
  },
  {
   "cell_type": "markdown",
   "id": "5c566351",
   "metadata": {},
   "source": [
    "In a discrete choice context, you might standardize variables like income or travel time if you were focusing on relative importance. However, one must be careful interpreting standardized coefficients back to real-world meaning. In our workshop, we focus on understanding raw units too (e.g., Value of Time in £/hour which comes from raw coefficients)."
   ]
  },
  {
   "cell_type": "markdown",
   "id": "bf0d2df9",
   "metadata": {},
   "source": [
    "**Cleaning: Handling Missing or Invalid Data**"
   ]
  },
  {
   "cell_type": "markdown",
   "id": "63b69a62",
   "metadata": {},
   "source": [
    "For completeness: if this were a raw survey, we might have missing values or data entry errors. Pandas offers `df.isnull().sum()` to count missing values per column, and methods like `dropna()` or `fillna()` to handle them. In this provided dataset, we don't expect missing values except those intentionally marked (like 0 for unavailable). We should treat those carefully as described (perhaps filter out or ignore when calculating means for a specific mode attribute)."
   ]
  },
  {
   "cell_type": "markdown",
   "id": "0c660513",
   "metadata": {},
   "source": [
    "For example, if we want the actual average travel time for trips where car was available, we should exclude the rows where `av_car=0` (because then `time_car=0` is just a placeholder). We can do:"
   ]
  },
  {
   "cell_type": "code",
   "execution_count": 22,
   "id": "8239c86c",
   "metadata": {},
   "outputs": [
    {
     "name": "stdout",
     "output_type": "stream",
     "text": [
      "Average car travel time (when available): 311.793059125964\n"
     ]
    }
   ],
   "source": [
    "car_time_available = df.loc[df[\"av_car\"] == 1, \"time_car\"]\n",
    "print(\"Average car travel time (when available):\", car_time_available.mean())\n"
   ]
  },
  {
   "cell_type": "markdown",
   "id": "08b908f0",
   "metadata": {},
   "source": [
    "This gives a more meaningful figure. Similarly for other modes."
   ]
  },
  {
   "cell_type": "markdown",
   "id": "8ae4de52",
   "metadata": {},
   "source": [
    "**Summary of Findings (so far)**\n",
    "\n",
    "Using Pandas and NumPy, we have:\n",
    "\n",
    "- Loaded and inspected a choice dataset (size, types, basic stats).\n",
    "\n",
    "- Computed new columns (e.g., standardized income).\n",
    "\n",
    "- Calculated mode shares and basic group statistics.\n",
    "\n",
    "- Begun interpreting patterns (e.g., mode shares, income effect, gender/purpose breakdown)."
   ]
  },
  {
   "cell_type": "markdown",
   "id": "926f81a6",
   "metadata": {},
   "source": [
    "These data exploration skills are crucial before modeling: they help you understand the context and spot anything unusual (like if a mode is rarely chosen, or if a variable has implausible values)."
   ]
  },
  {
   "cell_type": "markdown",
   "id": "4635f686",
   "metadata": {},
   "source": [
    "Up next, in **Notebook 03**, we will take this same mode choice data and learn how to visualize various aspects of it using Python plotting libraries. Visualization will provide another perspective on the data, allowing us to see distributions and relationships that numbers alone might not fully reveal."
   ]
  }
 ],
 "metadata": {
  "kernelspec": {
   "display_name": ".venv",
   "language": "python",
   "name": "python3"
  },
  "language_info": {
   "codemirror_mode": {
    "name": "ipython",
    "version": 3
   },
   "file_extension": ".py",
   "mimetype": "text/x-python",
   "name": "python",
   "nbconvert_exporter": "python",
   "pygments_lexer": "ipython3",
   "version": "3.8.0"
  }
 },
 "nbformat": 4,
 "nbformat_minor": 5
}
