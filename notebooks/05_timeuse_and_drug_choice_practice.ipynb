{
 "cells": [
  {
   "cell_type": "markdown",
   "id": "c9225790",
   "metadata": {},
   "source": [
    "# Notebook 05: Time Use and Drug Choice Mini Projects"
   ]
  },
  {
   "cell_type": "markdown",
   "id": "eb593182",
   "metadata": {},
   "source": [
    "**Objective:** Work on two short case studies using Apollo datasets:\n",
    "\n",
    "- **Time Use Data:** Explore how individuals allocate time across activities in a day, and perform a simple analysis or simulation related to time allocation (discrete-continuous choice context).\n",
    "\n",
    "- **Drug Choice Data:** Analyze a stated preference survey on medication (drug) choices, perform an exploratory analysis of preferences (including attitudinal factors), and simulate a simple choice scenario or model outcome."
   ]
  },
  {
   "cell_type": "markdown",
   "id": "d8afc1f3",
   "metadata": {},
   "source": [
    "These projects reinforce data handling, analysis, and interpretation skills in new domains. They are less step-by-step tutorial and more open-ended, mirroring what a participant might do as an assignment. We will provide one EDA task and one modeling/simulation task for each dataset, complete with solutions."
   ]
  },
  {
   "cell_type": "markdown",
   "id": "bd6f8f52",
   "metadata": {},
   "source": [
    "## 05.1 Time Use Data Project"
   ]
  },
  {
   "cell_type": "markdown",
   "id": "4011e1ba",
   "metadata": {},
   "source": [
    "The Apollo time use dataset comes from a time diary survey. It contains 2,826 day-records from 447 individuals, with the amount of time (in minutes) spent on 12 different activity categories each day. Each record also includes personal attributes like gender, age, whether the person works full-time, and whether the day is a weekend."
   ]
  },
  {
   "cell_type": "markdown",
   "id": "f58c7dd3",
   "metadata": {},
   "source": [
    "Let's load the data:"
   ]
  },
  {
   "cell_type": "code",
   "execution_count": 2,
   "id": "c0f8db41",
   "metadata": {},
   "outputs": [
    {
     "name": "stdout",
     "output_type": "stream",
     "text": [
      "Loaded time use data: (2826, 20)\n"
     ]
    },
    {
     "data": {
      "text/html": [
       "<div>\n",
       "<style scoped>\n",
       "    .dataframe tbody tr th:only-of-type {\n",
       "        vertical-align: middle;\n",
       "    }\n",
       "\n",
       "    .dataframe tbody tr th {\n",
       "        vertical-align: top;\n",
       "    }\n",
       "\n",
       "    .dataframe thead th {\n",
       "        text-align: right;\n",
       "    }\n",
       "</style>\n",
       "<table border=\"1\" class=\"dataframe\">\n",
       "  <thead>\n",
       "    <tr style=\"text-align: right;\">\n",
       "      <th></th>\n",
       "      <th>indivID</th>\n",
       "      <th>day</th>\n",
       "      <th>date</th>\n",
       "      <th>budget</th>\n",
       "      <th>t_a01</th>\n",
       "      <th>t_a02</th>\n",
       "      <th>t_a03</th>\n",
       "      <th>t_a04</th>\n",
       "      <th>t_a05</th>\n",
       "      <th>t_a06</th>\n",
       "      <th>t_a07</th>\n",
       "      <th>t_a08</th>\n",
       "      <th>t_a09</th>\n",
       "      <th>t_a10</th>\n",
       "      <th>t_a11</th>\n",
       "      <th>t_a12</th>\n",
       "      <th>female</th>\n",
       "      <th>age</th>\n",
       "      <th>occ_full_time</th>\n",
       "      <th>weekend</th>\n",
       "    </tr>\n",
       "  </thead>\n",
       "  <tbody>\n",
       "    <tr>\n",
       "      <th>0</th>\n",
       "      <td>19209</td>\n",
       "      <td>2</td>\n",
       "      <td>20170124</td>\n",
       "      <td>1440</td>\n",
       "      <td>39</td>\n",
       "      <td>0</td>\n",
       "      <td>0</td>\n",
       "      <td>54</td>\n",
       "      <td>4</td>\n",
       "      <td>0</td>\n",
       "      <td>0</td>\n",
       "      <td>0</td>\n",
       "      <td>71</td>\n",
       "      <td>1189</td>\n",
       "      <td>83</td>\n",
       "      <td>0</td>\n",
       "      <td>1</td>\n",
       "      <td>34.5</td>\n",
       "      <td>0</td>\n",
       "      <td>0</td>\n",
       "    </tr>\n",
       "    <tr>\n",
       "      <th>1</th>\n",
       "      <td>19209</td>\n",
       "      <td>3</td>\n",
       "      <td>20170125</td>\n",
       "      <td>1440</td>\n",
       "      <td>23</td>\n",
       "      <td>0</td>\n",
       "      <td>0</td>\n",
       "      <td>0</td>\n",
       "      <td>0</td>\n",
       "      <td>0</td>\n",
       "      <td>0</td>\n",
       "      <td>0</td>\n",
       "      <td>75</td>\n",
       "      <td>1254</td>\n",
       "      <td>88</td>\n",
       "      <td>0</td>\n",
       "      <td>1</td>\n",
       "      <td>34.5</td>\n",
       "      <td>0</td>\n",
       "      <td>0</td>\n",
       "    </tr>\n",
       "    <tr>\n",
       "      <th>2</th>\n",
       "      <td>19209</td>\n",
       "      <td>7</td>\n",
       "      <td>20170129</td>\n",
       "      <td>1440</td>\n",
       "      <td>0</td>\n",
       "      <td>0</td>\n",
       "      <td>0</td>\n",
       "      <td>140</td>\n",
       "      <td>0</td>\n",
       "      <td>0</td>\n",
       "      <td>0</td>\n",
       "      <td>0</td>\n",
       "      <td>0</td>\n",
       "      <td>1278</td>\n",
       "      <td>22</td>\n",
       "      <td>0</td>\n",
       "      <td>1</td>\n",
       "      <td>34.5</td>\n",
       "      <td>0</td>\n",
       "      <td>1</td>\n",
       "    </tr>\n",
       "  </tbody>\n",
       "</table>\n",
       "</div>"
      ],
      "text/plain": [
       "   indivID  day      date  budget  t_a01  t_a02  t_a03  t_a04  t_a05  t_a06  \\\n",
       "0    19209    2  20170124    1440     39      0      0     54      4      0   \n",
       "1    19209    3  20170125    1440     23      0      0      0      0      0   \n",
       "2    19209    7  20170129    1440      0      0      0    140      0      0   \n",
       "\n",
       "   t_a07  t_a08  t_a09  t_a10  t_a11  t_a12  female   age  occ_full_time  \\\n",
       "0      0      0     71   1189     83      0       1  34.5              0   \n",
       "1      0      0     75   1254     88      0       1  34.5              0   \n",
       "2      0      0      0   1278     22      0       1  34.5              0   \n",
       "\n",
       "   weekend  \n",
       "0        0  \n",
       "1        0  \n",
       "2        1  "
      ]
     },
     "execution_count": 2,
     "metadata": {},
     "output_type": "execute_result"
    }
   ],
   "source": [
    "import pandas as pd\n",
    "\n",
    "df_time = pd.read_csv(\"../data/raw/apollo_timeUseData.csv\")\n",
    "print(\"Loaded time use data:\", df_time.shape)\n",
    "df_time.head(3)\n",
    "\n"
   ]
  },
  {
   "cell_type": "code",
   "execution_count": 3,
   "id": "3c082ccc",
   "metadata": {},
   "outputs": [
    {
     "name": "stdout",
     "output_type": "stream",
     "text": [
      "<class 'pandas.core.frame.DataFrame'>\n",
      "RangeIndex: 2826 entries, 0 to 2825\n",
      "Data columns (total 20 columns):\n",
      " #   Column         Non-Null Count  Dtype  \n",
      "---  ------         --------------  -----  \n",
      " 0   indivID        2826 non-null   int64  \n",
      " 1   day            2826 non-null   int64  \n",
      " 2   date           2826 non-null   int64  \n",
      " 3   budget         2826 non-null   int64  \n",
      " 4   t_a01          2826 non-null   int64  \n",
      " 5   t_a02          2826 non-null   int64  \n",
      " 6   t_a03          2826 non-null   int64  \n",
      " 7   t_a04          2826 non-null   int64  \n",
      " 8   t_a05          2826 non-null   int64  \n",
      " 9   t_a06          2826 non-null   int64  \n",
      " 10  t_a07          2826 non-null   int64  \n",
      " 11  t_a08          2826 non-null   int64  \n",
      " 12  t_a09          2826 non-null   int64  \n",
      " 13  t_a10          2826 non-null   int64  \n",
      " 14  t_a11          2826 non-null   int64  \n",
      " 15  t_a12          2826 non-null   int64  \n",
      " 16  female         2826 non-null   int64  \n",
      " 17  age            2826 non-null   float64\n",
      " 18  occ_full_time  2826 non-null   int64  \n",
      " 19  weekend        2826 non-null   int64  \n",
      "dtypes: float64(1), int64(19)\n",
      "memory usage: 441.7 KB\n"
     ]
    }
   ],
   "source": [
    "df_time.info()"
   ]
  },
  {
   "cell_type": "code",
   "execution_count": 4,
   "id": "3be5e691",
   "metadata": {},
   "outputs": [
    {
     "name": "stdout",
     "output_type": "stream",
     "text": [
      "Shape: (2826, 20)\n",
      "Columns: ['indivID', 'day', 'date', 'budget', 't_a01', 't_a02', 't_a03', 't_a04', 't_a05', 't_a06', 't_a07', 't_a08', 't_a09', 't_a10', 't_a11', 't_a12', 'female', 'age', 'occ_full_time', 'weekend']\n"
     ]
    },
    {
     "data": {
      "text/html": [
       "<div>\n",
       "<style scoped>\n",
       "    .dataframe tbody tr th:only-of-type {\n",
       "        vertical-align: middle;\n",
       "    }\n",
       "\n",
       "    .dataframe tbody tr th {\n",
       "        vertical-align: top;\n",
       "    }\n",
       "\n",
       "    .dataframe thead th {\n",
       "        text-align: right;\n",
       "    }\n",
       "</style>\n",
       "<table border=\"1\" class=\"dataframe\">\n",
       "  <thead>\n",
       "    <tr style=\"text-align: right;\">\n",
       "      <th></th>\n",
       "      <th>indivID</th>\n",
       "      <th>day</th>\n",
       "      <th>date</th>\n",
       "      <th>budget</th>\n",
       "      <th>t_a01</th>\n",
       "      <th>t_a02</th>\n",
       "      <th>t_a03</th>\n",
       "      <th>t_a04</th>\n",
       "      <th>t_a05</th>\n",
       "      <th>t_a06</th>\n",
       "      <th>t_a07</th>\n",
       "      <th>t_a08</th>\n",
       "      <th>t_a09</th>\n",
       "      <th>t_a10</th>\n",
       "      <th>t_a11</th>\n",
       "      <th>t_a12</th>\n",
       "      <th>female</th>\n",
       "      <th>age</th>\n",
       "      <th>occ_full_time</th>\n",
       "      <th>weekend</th>\n",
       "    </tr>\n",
       "  </thead>\n",
       "  <tbody>\n",
       "    <tr>\n",
       "      <th>count</th>\n",
       "      <td>2.826000e+03</td>\n",
       "      <td>2826.000000</td>\n",
       "      <td>2.826000e+03</td>\n",
       "      <td>2826.0</td>\n",
       "      <td>2826.000000</td>\n",
       "      <td>2826.000000</td>\n",
       "      <td>2826.000000</td>\n",
       "      <td>2826.000000</td>\n",
       "      <td>2826.000000</td>\n",
       "      <td>2826.000000</td>\n",
       "      <td>2826.000000</td>\n",
       "      <td>2826.000000</td>\n",
       "      <td>2826.000000</td>\n",
       "      <td>2826.000000</td>\n",
       "      <td>2826.000000</td>\n",
       "      <td>2826.000000</td>\n",
       "      <td>2826.000000</td>\n",
       "      <td>2826.000000</td>\n",
       "      <td>2826.000000</td>\n",
       "      <td>2826.000000</td>\n",
       "    </tr>\n",
       "    <tr>\n",
       "      <th>mean</th>\n",
       "      <td>4.958141e+06</td>\n",
       "      <td>7.849257</td>\n",
       "      <td>2.016312e+07</td>\n",
       "      <td>1440.0</td>\n",
       "      <td>23.465676</td>\n",
       "      <td>173.460014</td>\n",
       "      <td>6.345364</td>\n",
       "      <td>29.887473</td>\n",
       "      <td>26.598726</td>\n",
       "      <td>1.863765</td>\n",
       "      <td>66.057325</td>\n",
       "      <td>1.226822</td>\n",
       "      <td>43.696391</td>\n",
       "      <td>966.285916</td>\n",
       "      <td>95.383227</td>\n",
       "      <td>5.729299</td>\n",
       "      <td>0.567941</td>\n",
       "      <td>39.382343</td>\n",
       "      <td>0.633050</td>\n",
       "      <td>0.318471</td>\n",
       "    </tr>\n",
       "    <tr>\n",
       "      <th>std</th>\n",
       "      <td>2.869344e+06</td>\n",
       "      <td>3.699499</td>\n",
       "      <td>3.730590e+03</td>\n",
       "      <td>0.0</td>\n",
       "      <td>117.314525</td>\n",
       "      <td>247.264340</td>\n",
       "      <td>48.409978</td>\n",
       "      <td>117.091699</td>\n",
       "      <td>110.674359</td>\n",
       "      <td>33.017188</td>\n",
       "      <td>157.823725</td>\n",
       "      <td>23.269347</td>\n",
       "      <td>163.420727</td>\n",
       "      <td>377.708139</td>\n",
       "      <td>124.264391</td>\n",
       "      <td>63.200952</td>\n",
       "      <td>0.495450</td>\n",
       "      <td>13.110425</td>\n",
       "      <td>0.482058</td>\n",
       "      <td>0.465966</td>\n",
       "    </tr>\n",
       "    <tr>\n",
       "      <th>min</th>\n",
       "      <td>1.920900e+04</td>\n",
       "      <td>2.000000</td>\n",
       "      <td>2.016101e+07</td>\n",
       "      <td>1440.0</td>\n",
       "      <td>0.000000</td>\n",
       "      <td>0.000000</td>\n",
       "      <td>0.000000</td>\n",
       "      <td>0.000000</td>\n",
       "      <td>0.000000</td>\n",
       "      <td>0.000000</td>\n",
       "      <td>0.000000</td>\n",
       "      <td>0.000000</td>\n",
       "      <td>0.000000</td>\n",
       "      <td>0.000000</td>\n",
       "      <td>0.000000</td>\n",
       "      <td>0.000000</td>\n",
       "      <td>0.000000</td>\n",
       "      <td>21.000000</td>\n",
       "      <td>0.000000</td>\n",
       "      <td>0.000000</td>\n",
       "    </tr>\n",
       "    <tr>\n",
       "      <th>25%</th>\n",
       "      <td>2.758319e+06</td>\n",
       "      <td>5.000000</td>\n",
       "      <td>2.016112e+07</td>\n",
       "      <td>1440.0</td>\n",
       "      <td>0.000000</td>\n",
       "      <td>0.000000</td>\n",
       "      <td>0.000000</td>\n",
       "      <td>0.000000</td>\n",
       "      <td>0.000000</td>\n",
       "      <td>0.000000</td>\n",
       "      <td>0.000000</td>\n",
       "      <td>0.000000</td>\n",
       "      <td>0.000000</td>\n",
       "      <td>735.000000</td>\n",
       "      <td>22.000000</td>\n",
       "      <td>0.000000</td>\n",
       "      <td>0.000000</td>\n",
       "      <td>27.000000</td>\n",
       "      <td>0.000000</td>\n",
       "      <td>0.000000</td>\n",
       "    </tr>\n",
       "    <tr>\n",
       "      <th>50%</th>\n",
       "      <td>4.832803e+06</td>\n",
       "      <td>8.000000</td>\n",
       "      <td>2.016121e+07</td>\n",
       "      <td>1440.0</td>\n",
       "      <td>0.000000</td>\n",
       "      <td>0.000000</td>\n",
       "      <td>0.000000</td>\n",
       "      <td>0.000000</td>\n",
       "      <td>0.000000</td>\n",
       "      <td>0.000000</td>\n",
       "      <td>0.000000</td>\n",
       "      <td>0.000000</td>\n",
       "      <td>0.000000</td>\n",
       "      <td>932.500000</td>\n",
       "      <td>65.000000</td>\n",
       "      <td>0.000000</td>\n",
       "      <td>1.000000</td>\n",
       "      <td>34.500000</td>\n",
       "      <td>1.000000</td>\n",
       "      <td>0.000000</td>\n",
       "    </tr>\n",
       "    <tr>\n",
       "      <th>75%</th>\n",
       "      <td>7.347581e+06</td>\n",
       "      <td>11.000000</td>\n",
       "      <td>2.016122e+07</td>\n",
       "      <td>1440.0</td>\n",
       "      <td>0.000000</td>\n",
       "      <td>418.000000</td>\n",
       "      <td>0.000000</td>\n",
       "      <td>4.000000</td>\n",
       "      <td>0.000000</td>\n",
       "      <td>0.000000</td>\n",
       "      <td>49.000000</td>\n",
       "      <td>0.000000</td>\n",
       "      <td>0.000000</td>\n",
       "      <td>1335.000000</td>\n",
       "      <td>119.000000</td>\n",
       "      <td>0.000000</td>\n",
       "      <td>1.000000</td>\n",
       "      <td>44.500000</td>\n",
       "      <td>1.000000</td>\n",
       "      <td>1.000000</td>\n",
       "    </tr>\n",
       "    <tr>\n",
       "      <th>max</th>\n",
       "      <td>9.959342e+06</td>\n",
       "      <td>14.000000</td>\n",
       "      <td>2.017031e+07</td>\n",
       "      <td>1440.0</td>\n",
       "      <td>1153.000000</td>\n",
       "      <td>1425.000000</td>\n",
       "      <td>1050.000000</td>\n",
       "      <td>1434.000000</td>\n",
       "      <td>1077.000000</td>\n",
       "      <td>896.000000</td>\n",
       "      <td>1425.000000</td>\n",
       "      <td>828.000000</td>\n",
       "      <td>1416.000000</td>\n",
       "      <td>1440.000000</td>\n",
       "      <td>1182.000000</td>\n",
       "      <td>1160.000000</td>\n",
       "      <td>1.000000</td>\n",
       "      <td>80.000000</td>\n",
       "      <td>1.000000</td>\n",
       "      <td>1.000000</td>\n",
       "    </tr>\n",
       "  </tbody>\n",
       "</table>\n",
       "</div>"
      ],
      "text/plain": [
       "            indivID          day          date  budget        t_a01  \\\n",
       "count  2.826000e+03  2826.000000  2.826000e+03  2826.0  2826.000000   \n",
       "mean   4.958141e+06     7.849257  2.016312e+07  1440.0    23.465676   \n",
       "std    2.869344e+06     3.699499  3.730590e+03     0.0   117.314525   \n",
       "min    1.920900e+04     2.000000  2.016101e+07  1440.0     0.000000   \n",
       "25%    2.758319e+06     5.000000  2.016112e+07  1440.0     0.000000   \n",
       "50%    4.832803e+06     8.000000  2.016121e+07  1440.0     0.000000   \n",
       "75%    7.347581e+06    11.000000  2.016122e+07  1440.0     0.000000   \n",
       "max    9.959342e+06    14.000000  2.017031e+07  1440.0  1153.000000   \n",
       "\n",
       "             t_a02        t_a03        t_a04        t_a05        t_a06  \\\n",
       "count  2826.000000  2826.000000  2826.000000  2826.000000  2826.000000   \n",
       "mean    173.460014     6.345364    29.887473    26.598726     1.863765   \n",
       "std     247.264340    48.409978   117.091699   110.674359    33.017188   \n",
       "min       0.000000     0.000000     0.000000     0.000000     0.000000   \n",
       "25%       0.000000     0.000000     0.000000     0.000000     0.000000   \n",
       "50%       0.000000     0.000000     0.000000     0.000000     0.000000   \n",
       "75%     418.000000     0.000000     4.000000     0.000000     0.000000   \n",
       "max    1425.000000  1050.000000  1434.000000  1077.000000   896.000000   \n",
       "\n",
       "             t_a07        t_a08        t_a09        t_a10        t_a11  \\\n",
       "count  2826.000000  2826.000000  2826.000000  2826.000000  2826.000000   \n",
       "mean     66.057325     1.226822    43.696391   966.285916    95.383227   \n",
       "std     157.823725    23.269347   163.420727   377.708139   124.264391   \n",
       "min       0.000000     0.000000     0.000000     0.000000     0.000000   \n",
       "25%       0.000000     0.000000     0.000000   735.000000    22.000000   \n",
       "50%       0.000000     0.000000     0.000000   932.500000    65.000000   \n",
       "75%      49.000000     0.000000     0.000000  1335.000000   119.000000   \n",
       "max    1425.000000   828.000000  1416.000000  1440.000000  1182.000000   \n",
       "\n",
       "             t_a12       female          age  occ_full_time      weekend  \n",
       "count  2826.000000  2826.000000  2826.000000    2826.000000  2826.000000  \n",
       "mean      5.729299     0.567941    39.382343       0.633050     0.318471  \n",
       "std      63.200952     0.495450    13.110425       0.482058     0.465966  \n",
       "min       0.000000     0.000000    21.000000       0.000000     0.000000  \n",
       "25%       0.000000     0.000000    27.000000       0.000000     0.000000  \n",
       "50%       0.000000     1.000000    34.500000       1.000000     0.000000  \n",
       "75%       0.000000     1.000000    44.500000       1.000000     1.000000  \n",
       "max    1160.000000     1.000000    80.000000       1.000000     1.000000  "
      ]
     },
     "execution_count": 4,
     "metadata": {},
     "output_type": "execute_result"
    }
   ],
   "source": [
    "print(\"Shape:\", df_time.shape)\n",
    "print(\"Columns:\", df_time.columns.tolist())\n",
    "df_time.describe()"
   ]
  },
  {
   "cell_type": "markdown",
   "id": "a4070cbe",
   "metadata": {},
   "source": [
    "### EDA Task: Activity Time Distribution and Differences**\n",
    "\n",
    "### Task 1: Compute and visualize how time is allocated on average to each activity, and compare weekdays vs weekends.**"
   ]
  },
  {
   "cell_type": "markdown",
   "id": "2786dc66",
   "metadata": {},
   "source": [
    "Let's do this step by step:"
   ]
  },
  {
   "cell_type": "markdown",
   "id": "0b7f13ac",
   "metadata": {},
   "source": [
    "(a) Calculate mean minutes per day for each activity category:"
   ]
  },
  {
   "cell_type": "code",
   "execution_count": 5,
   "id": "f3d87ccc",
   "metadata": {},
   "outputs": [
    {
     "name": "stdout",
     "output_type": "stream",
     "text": [
      "Average minutes per day by activity:\n",
      " t_a10    966.3\n",
      "t_a02    173.5\n",
      "t_a11     95.4\n",
      "t_a07     66.1\n",
      "t_a09     43.7\n",
      "t_a04     29.9\n",
      "t_a05     26.6\n",
      "t_a01     23.5\n",
      "t_a03      6.3\n",
      "t_a12      5.7\n",
      "t_a06      1.9\n",
      "t_a08      1.2\n",
      "dtype: float64\n"
     ]
    }
   ],
   "source": [
    "# List of activity columns\n",
    "activities = [col for col in df_time.columns if col.startswith(\"t_a\")]\n",
    "mean_times = df_time[activities].mean()\n",
    "mean_times = mean_times.sort_values(ascending=False)\n",
    "print(\"Average minutes per day by activity:\\n\", mean_times.round(1))\n"
   ]
  },
  {
   "cell_type": "markdown",
   "id": "d7ca0acd",
   "metadata": {},
   "source": [
    "(b) Plot a bar chart of these average times:"
   ]
  },
  {
   "cell_type": "code",
   "execution_count": 8,
   "id": "321aab5a",
   "metadata": {},
   "outputs": [],
   "source": [
    "import matplotlib.pyplot as plt\n",
    "import seaborn as sns"
   ]
  },
  {
   "cell_type": "code",
   "execution_count": 9,
   "id": "a86fccb4",
   "metadata": {},
   "outputs": [
    {
     "data": {
      "image/png": "[encoded data removed]",
      "text/plain": [
       "<Figure size 800x400 with 1 Axes>"
      ]
     },
     "metadata": {},
     "output_type": "display_data"
    }
   ],
   "source": [
    "plt.figure(figsize=(8,4))\n",
    "plt.bar(mean_times.index, mean_times.values)\n",
    "plt.xticks(rotation=90)\n",
    "plt.ylabel(\"Average minutes per day\")\n",
    "plt.title(\"Average Time Allocation per Activity (Overall)\")\n",
    "plt.show()\n"
   ]
  },
  {
   "cell_type": "markdown",
   "id": "751d4c2a",
   "metadata": {},
   "source": [
    "This bar chart shows which activities dominate a typical day. \"Home\" (including sleep), t\\_a10 is the largest, followed by work t\\_a02 (if including both workers and non-workers averaged, maybe a bit lower due to some zero for non-workers), then travelling, etc."
   ]
  },
  {
   "cell_type": "markdown",
   "id": "2596d083",
   "metadata": {},
   "source": [
    "(c) Compare weekdays vs weekends:"
   ]
  },
  {
   "cell_type": "markdown",
   "id": "32c51259",
   "metadata": {},
   "source": [
    "We can leverage the `weekend` column (1 for weekend days, 0 for weekdays). Let's calculate average time by activity for weekdays and weekends separately."
   ]
  },
  {
   "cell_type": "code",
   "execution_count": 10,
   "id": "06382e4b",
   "metadata": {},
   "outputs": [
    {
     "name": "stdout",
     "output_type": "stream",
     "text": [
      "Weekend minus Weekday (minutes):\n",
      " t_a02   -214.4\n",
      "t_a11    -35.3\n",
      "t_a03     -7.6\n",
      "t_a12     -4.1\n",
      "t_a05     -1.7\n",
      "t_a08      0.3\n",
      "t_a06      0.3\n",
      "t_a01      2.7\n",
      "t_a04     11.6\n",
      "t_a09     22.0\n",
      "t_a07     44.9\n",
      "t_a10    181.4\n",
      "dtype: float64\n"
     ]
    }
   ],
   "source": [
    "mean_times_weekday = df_time[df_time[\"weekend\"]==0][activities].mean()\n",
    "mean_times_weekend = df_time[df_time[\"weekend\"]==1][activities].mean()\n",
    "diff = (mean_times_weekend - mean_times_weekday).sort_values()\n",
    "print(\"Weekend minus Weekday (minutes):\\n\", diff.round(1))\n"
   ]
  },
  {
   "cell_type": "markdown",
   "id": "33dfd54c",
   "metadata": {},
   "source": [
    "This shows which activities get more time on weekends vs weekdays. We see:\n",
    "\n",
    "- Work time (t_a02) much lower on weekends.\n",
    "\n",
    "- Social/Leisure (t_a07) higher on weekends.\n",
    "\n",
    "- Home time possibly (t_a10) higher on weekends (sleep in or relax more).\n",
    "\n",
    "- Travel (everyday travel t_a11) might be less on weekend (no commute) but more long travel (vacation t_a08) on weekends.\n",
    "\n",
    "- Exercise (t_a09) could be higher on weekends if people do sports then."
   ]
  },
  {
   "cell_type": "markdown",
   "id": "a5f0e774",
   "metadata": {},
   "source": [
    "Let's illustrate by plotting a few notable differences:"
   ]
  },
  {
   "cell_type": "code",
   "execution_count": 11,
   "id": "7463da83",
   "metadata": {},
   "outputs": [
    {
     "data": {
      "image/png": "[encoded data removed]",
      "text/plain": [
       "<Figure size 600x400 with 1 Axes>"
      ]
     },
     "metadata": {},
     "output_type": "display_data"
    }
   ],
   "source": [
    "diff_sorted = diff[abs(diff) > 5]  # only show differences >5 mins for clarity\n",
    "plt.figure(figsize=(6,4))\n",
    "plt.barh(diff_sorted.index, diff_sorted.values)\n",
    "plt.xlabel(\"Weekend - Weekday (minutes)\")\n",
    "plt.title(\"Change in Time Use on Weekends vs Weekdays\")\n",
    "plt.axvline(0, color='black')\n",
    "plt.show()\n"
   ]
  },
  {
   "cell_type": "markdown",
   "id": "9834cac3",
   "metadata": {},
   "source": [
    "This horizontal bar chart highlights, for example, \"t_a02 (work): -X minutes\" (big negative, meaning much less work on weekends), \"t_a07 (leisure): +Y minutes\" (more leisure on weekends), etc."
   ]
  },
  {
   "cell_type": "markdown",
   "id": "2cc0c717",
   "metadata": {},
   "source": [
    "We should label categories more readably in any output or explanation (e.g., t_a02 = work, t_a07 = leisure, etc.). But since in code output, we see t_a numbers, let's map a few:\n",
    "\n",
    "According to data dictionary:\n",
    "\n",
    "- t_a02: working,\n",
    "\n",
    "- t_a07: social/leisure,\n",
    "\n",
    "- t_a10: at home,\n",
    "\n",
    "- t_a11: everyday traveling,\n",
    "\n",
    "- t_a08: vacation/long travel,\n",
    "\n",
    "- t_a09: exercise."
   ]
  },
  {
   "cell_type": "markdown",
   "id": "6154ea8e",
   "metadata": {},
   "source": [
    "### Modeling/Simulation Task: Time Reallocation Scenario\n",
    "\n",
    "### Task 2: Simulation – If work hours are reduced, how might people reallocate that time?"
   ]
  },
  {
   "cell_type": "markdown",
   "id": "211af486",
   "metadata": {},
   "source": [
    "**Scenario:** Suppose a policy introduced a 4-day work week (or simply, each weekday people work 1 hour less on average). We want to simulate how that freed hour (60 minutes) might be redistributed among other activities on weekdays."
   ]
  },
  {
   "cell_type": "markdown",
   "id": "082867fe",
   "metadata": {},
   "source": [
    "One simple approach: Look at how people who work less currently allocate time differently than those who work full-time. The dataset has `occ_full_time` (1 if person works full time, 0 otherwise). We can compare the time allocation of full-timers vs others to guess where work time goes."
   ]
  },
  {
   "cell_type": "markdown",
   "id": "9c4ba30d",
   "metadata": {},
   "source": [
    "Let's do that:"
   ]
  },
  {
   "cell_type": "code",
   "execution_count": 12,
   "id": "68129464",
   "metadata": {},
   "outputs": [
    {
     "name": "stdout",
     "output_type": "stream",
     "text": [
      "Non-full-time minus Full-time (avg minutes):\n",
      " t_a02   -136.0\n",
      "t_a11    -23.6\n",
      "t_a06     -1.9\n",
      "t_a01     -1.3\n",
      "t_a08     -0.6\n",
      "t_a04     -0.3\n",
      "t_a12      0.2\n",
      "t_a09      1.0\n",
      "t_a07      6.9\n",
      "t_a05      8.4\n",
      "t_a03     14.4\n",
      "t_a10    132.9\n",
      "dtype: float64\n"
     ]
    }
   ],
   "source": [
    "full_timers = df_time[df_time[\"occ_full_time\"] == 1][activities].mean()\n",
    "part_others = df_time[df_time[\"occ_full_time\"] == 0][activities].mean()\n",
    "diff_workstatus = (part_others - full_timers).sort_values()\n",
    "print(\"Non-full-time minus Full-time (avg minutes):\\n\", diff_workstatus.round(1))\n"
   ]
  },
  {
   "cell_type": "code",
   "execution_count": 17,
   "id": "902dc7b9",
   "metadata": {},
   "outputs": [
    {
     "data": {
      "image/png": "[encoded data removed]",
      "text/plain": [
       "<Figure size 600x400 with 1 Axes>"
      ]
     },
     "metadata": {},
     "output_type": "display_data"
    }
   ],
   "source": [
    "\n",
    "diff_sorted = diff_workstatus[abs(diff_workstatus) > 5]  \n",
    "plt.figure(figsize=(6,4))\n",
    "plt.barh(diff_sorted.index, diff_sorted.values)\n",
    "plt.xlabel(\"Non-full-time - Full-time (avg minutes)\")\n",
    "plt.title(\"Change in Time Use by Work Status\")\n",
    "plt.axvline(0, color='black')\n",
    "plt.show()\n",
    "\n"
   ]
  },
  {
   "cell_type": "markdown",
   "id": "6d821b1d",
   "metadata": {},
   "source": [
    "This shows how non-full-time people (who presumably work less) spend their time compared to full-timers.\n",
    "\n",
    "- They spend fewer minutes in work.\n",
    "\n",
    "- They spend more time at home.\n",
    "\n",
    "- ..."
   ]
  },
  {
   "cell_type": "markdown",
   "id": "21c77464",
   "metadata": {},
   "source": [
    "# 05.2 Drug Choice Data Project"
   ]
  },
  {
   "cell_type": "markdown",
   "id": "a0548d01",
   "metadata": {},
   "source": []
  }
 ],
 "metadata": {
  "kernelspec": {
   "display_name": ".venv",
   "language": "python",
   "name": "python3"
  },
  "language_info": {
   "codemirror_mode": {
    "name": "ipython",
    "version": 3
   },
   "file_extension": ".py",
   "mimetype": "text/x-python",
   "name": "python",
   "nbconvert_exporter": "python",
   "pygments_lexer": "ipython3",
   "version": "3.8.0"
  }
 },
 "nbformat": 4,
 "nbformat_minor": 5
}
